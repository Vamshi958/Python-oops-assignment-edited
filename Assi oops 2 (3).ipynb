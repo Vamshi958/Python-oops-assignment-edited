{
 "cells": [
  {
   "cell_type": "code",
   "execution_count": null,
   "id": "e45be718-0f85-4a21-9171-a379ff370b73",
   "metadata": {},
   "outputs": [],
   "source": [
    "REMINDER----------I USED CHATGPT FOR THEORY QUESTIONS FOR BETTER UNDERSTANDING AND FURTURE REFERENCE."
   ]
  },
  {
   "cell_type": "code",
   "execution_count": null,
   "id": "9c642953-3187-4da3-94b2-a628a2482d42",
   "metadata": {},
   "outputs": [],
   "source": [
    "CONSTRUCTOR"
   ]
  },
  {
   "cell_type": "markdown",
   "id": "aa7867de-7668-49db-b360-2cc954f09017",
   "metadata": {},
   "source": [
    "1. WHAT IS A CONSTRUCTOR IN PYTHON? EXPLAIN ITS PURPOSE AND USAGE."
   ]
  },
  {
   "cell_type": "code",
   "execution_count": null,
   "id": "7fae462b-2874-40f6-8dba-ed1006312131",
   "metadata": {},
   "outputs": [],
   "source": [
    "In Python, a constructor is a special method used to initialize and create objects of a class. The constructor method is defined using the `__init__` name and \n",
    "is called automatically when an object of the class is created. Its purpose is to set up the initial state of an object by assigning values to its attributes or \n",
    "performing any other necessary setup tasks.\n",
    "\n",
    "The constructor is an essential part of object-oriented programming in Python as it allows you to create and initialize objects with the desired initial state."
   ]
  },
  {
   "cell_type": "markdown",
   "id": "e6e800e7-598b-456f-8985-bd3007c81605",
   "metadata": {},
   "source": [
    "2. DIFFERENTIATE BETWEEN A PARAMETERLESS CONSTRUCTOR AND A PARAMETERIZED CONSTRUCTOR IN PYTHON.\n"
   ]
  },
  {
   "cell_type": "code",
   "execution_count": null,
   "id": "65ef689f-0da8-4485-bece-adbae8314906",
   "metadata": {},
   "outputs": [],
   "source": [
    "In Python, a parameterless constructor (also known as a default constructor) and a parameterized constructor serve different purposes and have different characteristics:\n",
    "\n",
    "1. Parameterless Constructor:\n",
    "   - A parameterless constructor is a constructor that does not accept any parameters or arguments.\n",
    "   - It is typically used when you want to create objects with default initial values for their attributes.\n",
    "   - The parameterless constructor is defined using the `__init__` method with only the `self` parameter.\n",
    "   - It sets up default values for an object's attributes or performs other necessary setup tasks without requiring any external input.\n",
    "\n",
    "\n",
    "2. Parameterized Constructor:\n",
    "   - A parameterized constructor is a constructor that accepts one or more parameters or arguments.\n",
    "   - It is used when you want to create objects with custom initial values for their attributes, allowing you to pass values during object creation.\n",
    "   - The parameterized constructor is defined using the `__init__` method with the `self` parameter and additional parameters as needed.\n",
    "   - It initializes the object's attributes using the values provided as arguments during object creation.\n",
    "\n",
    "In summary, the key difference is in the presence of parameters and the purpose of the constructor:\n",
    "\n",
    "- Parameterless constructor: It has no parameters and is used for creating objects with default initial values.\n",
    "- Parameterized constructor: It accepts parameters and is used for creating objects with custom initial values provided during object creation."
   ]
  },
  {
   "cell_type": "code",
   "execution_count": 80,
   "id": "271a60c7-a4ed-4464-96db-81fd3c624818",
   "metadata": {},
   "outputs": [],
   "source": [
    "# Example of a parameterless constructor:\n",
    " \n",
    "class Person:\n",
    "    def __init__(self):\n",
    "        self.name = \"John\"\n",
    "        self.age = 30\n",
    "person = Person()"
   ]
  },
  {
   "cell_type": "code",
   "execution_count": 81,
   "id": "6a01df43-b6f8-41f1-9ba7-9e61853db31f",
   "metadata": {},
   "outputs": [],
   "source": [
    "  #Example of a parameterized constructor:\n",
    "  \n",
    "class Person:\n",
    "    def __init__(self, name, age):\n",
    "        self.name = name\n",
    "        self.age = age\n",
    "   \n",
    "person = Person(\"Alice\", 25)"
   ]
  },
  {
   "cell_type": "markdown",
   "id": "bfcb2fad-c1c1-4563-a01c-eeb294919924",
   "metadata": {},
   "source": [
    "3. HOW DO YOU DEFINE A CONSTRUCTOR IN A PYTHON CLASS? PROVIDE AN EXAMPLE.\n"
   ]
  },
  {
   "cell_type": "code",
   "execution_count": null,
   "id": "c15a1ca0-ff32-4bcf-a8d0-a5ef4f8610e7",
   "metadata": {},
   "outputs": [],
   "source": [
    "In Python, a constructor is defined using a special method called __init__. The __init__ method is automatically called when you create an object of a class.\n",
    "It is used to initialize the attributes and perform any necessary setup when an object is created. \n",
    "The constructor takes the self parameter, which refers to the instance of the object being created, and can also accept additional parameters to set the initial state of the object."
   ]
  },
  {
   "cell_type": "code",
   "execution_count": 18,
   "id": "a2b03158-36e1-4f33-89e9-00650a59e672",
   "metadata": {},
   "outputs": [
    {
     "name": "stdout",
     "output_type": "stream",
     "text": [
      "sudh\n",
      "2022\n"
     ]
    }
   ],
   "source": [
    "\n",
    "class Library:\n",
    "    def __init__(self,author,updated):\n",
    "        self.author = author\n",
    "        self.updated = updated\n",
    "pwskills = Library('sudh',2022)\n",
    "print(pwskills.author)\n",
    "print(pwskills.updated)"
   ]
  },
  {
   "cell_type": "markdown",
   "id": "e5e74974-4bef-4cb7-80ad-10820caa1c13",
   "metadata": {},
   "source": [
    "4. EXPLAIN THE `__INIT__` METHOD IN PYTHON AND ITS ROLE IN CONSTRUCTORS.\n"
   ]
  },
  {
   "cell_type": "code",
   "execution_count": null,
   "id": "1439d0b4-709e-443b-9755-e93ba9225593",
   "metadata": {},
   "outputs": [],
   "source": [
    "The `__init__` method in Python is a special method used in classes and plays a crucial role in constructors. \n",
    "Constructors are used to initialize the attributes and set up the initial state of an object when an instance of a class is created. \n",
    "The `__init__` method is automatically called when you create an object of a class and is used to perform these initialization tasks.\n",
    "\n",
    "Here are the key points to understand about the `__init__` method and its role in constructors:\n",
    "\n",
    "1. Method Name: The `__init__` method is defined with a double underscore before and after \"init,\" like this: `__init__`. \n",
    "This naming is a convention in Python to indicate that it's a special method and serves as the constructor for the class.\n",
    "\n",
    "2. Parameters: The `__init__` method takes the `self` parameter as its first argument, which refers to the instance of the object being created. \n",
    "You can also include additional parameters in the constructor to accept values that are used to initialize the object's attributes. These additional parameters are used to customize the initial state of the object.\n",
    "\n",
    "3. Automatic Invocation: When you create an object of a class, the `__init__` method is automatically called, \n",
    "allowing you to initialize the object's attributes and perform any setup required. You do not need to explicitly call the `__init__` method; it's invoked behind the scenes.\n",
    "\n"
   ]
  },
  {
   "cell_type": "code",
   "execution_count": null,
   "id": "d1524984-7edc-4120-8052-d3221f8c2058",
   "metadata": {},
   "outputs": [],
   "source": [
    "#Here's an example to illustrate the `__init__` method and its role in constructors:\n",
    "\n",
    "class Person:\n",
    "    def __init__(self, name, age):\n",
    "        self.name = name\n",
    "        self.age = age\n",
    "\n",
    "person1 = Person(\"Alice\", 30)\n",
    "person2 = Person(\"Bob\", 25)\n",
    "\n",
    "'''In this example, the `__init__` method is defined in the `Person` class with two parameters: \n",
    "    `name` and `age`. When we create instances of the `Person` class (i.e., `person1` and `person2`), \n",
    "    the `__init__` method is automatically called, and it initializes the `name` and `age` attributes for each object.\n",
    "    This allows us to create individual objects with different attribute values.'''"
   ]
  },
  {
   "cell_type": "markdown",
   "id": "6a757619-95a4-40a3-ae9e-c57dce9f7c15",
   "metadata": {},
   "source": [
    "5. In a class named `Person`, create a constructor that initializes the `name` and `age` attributes. \n",
    "Provide an example of creating an object of this class."
   ]
  },
  {
   "cell_type": "code",
   "execution_count": 20,
   "id": "04e11b00-4d9a-4028-b24d-5a2e505fbb8a",
   "metadata": {},
   "outputs": [
    {
     "name": "stdout",
     "output_type": "stream",
     "text": [
      "22\n",
      "vamshi\n"
     ]
    }
   ],
   "source": [
    "class Person:\n",
    "    def __init__(self,name,age):\n",
    "        self.name = name\n",
    "        self.age = age\n",
    "obj = Person(\"vamshi\",22)\n",
    "print(obj.age)\n",
    "print(obj.name)"
   ]
  },
  {
   "cell_type": "markdown",
   "id": "ada71842-cd78-4ae0-8013-dc7c7ca17898",
   "metadata": {},
   "source": [
    "6. How can you call a constructor explicitly in Python? Give an example.\n"
   ]
  },
  {
   "cell_type": "code",
   "execution_count": null,
   "id": "1c8978e6-988e-44d4-bc55-48da6e33b1af",
   "metadata": {},
   "outputs": [],
   "source": [
    "In Python, constructors are usually called automatically when you create an instance of a class, \n",
    "and there's typically no need to call them explicitly. However, if you have a specific use case where you want to call a constructor explicitly, \n",
    "you can do so by using the class name along with parentheses as if you were calling a regular function. This can be useful in certain advanced scenarios, but it's not a common practice.\n"
   ]
  },
  {
   "cell_type": "code",
   "execution_count": null,
   "id": "faa9964a-c783-4d8b-8eea-62d28d63f8c5",
   "metadata": {},
   "outputs": [],
   "source": [
    "#Here's an example of how to call a constructor explicitly:\n",
    "\n",
    "\n",
    "class Person:\n",
    "    def __init__(self, name, age):\n",
    "        self.name = name\n",
    "        self.age = age\n",
    "        \n",
    "explicit_person = Person.__init__(Person, \"Alice\", 30)\n",
    "\n",
    "print(explicit_person.name)\n",
    "print(explicit_person.age)\n",
    "\n",
    "\n",
    "'''In this example, we explicitly call the constructor of the `Person` class using `Person.__init__(Person, \"Alice\", 30)`. \n",
    "This creates an instance of the class and initializes its attributes. However, this is not a common or recommended way to create objects, and \n",
    "it's generally better to use the standard way of creating instances by directly instantiating the class with the constructor as shown in previous examples.\n",
    "\n",
    "Calling the constructor explicitly is not a common practice and can lead to unexpected behavior or errors if not used carefully. \n",
    "It's usually better to rely on the automatic constructor invocation when creating instances of a class.'''"
   ]
  },
  {
   "cell_type": "markdown",
   "id": "c1812506-9588-4c10-b449-b2c6207a080b",
   "metadata": {},
   "source": [
    "7. What is the significance of the `self` parameter in Python constructors? Explain with an example.\n"
   ]
  },
  {
   "cell_type": "code",
   "execution_count": null,
   "id": "cf6a74d5-43c3-4e29-8219-0933e1f1bca0",
   "metadata": {},
   "outputs": [],
   "source": [
    "The `self` parameter in Python constructors (and in methods of a class) is a reference to the instance of the class that is being created or operated on.\n",
    "It is a convention in Python to name this first parameter as `self`, although you can technically use any name you prefer, but it's strongly recommended to stick with `self` \n",
    "to maintain consistency and readability in your code.\n",
    "\n",
    "The `self` parameter allows you to access and manipulate the attributes and methods of the instance within the class. \n",
    "When you call a method or access an attribute within the class using `self`, you're operating on the specific instance of the class, and this is what allows each instance to \n",
    "have its own set of attributes and behaviors.\n"
   ]
  },
  {
   "cell_type": "code",
   "execution_count": null,
   "id": "65549c1c-a946-4c7f-acc2-56e31817479d",
   "metadata": {},
   "outputs": [],
   "source": [
    "#Here's an example to illustrate the significance of the `self` parameter in Python constructors:\n",
    "\n",
    "\n",
    "class Person:\n",
    "    def __init__(self, name, age):\n",
    "        self.name = name\n",
    "        self.age = age\n",
    "\n",
    "    def introduce(self):\n",
    "        return f\"My name is {self.name}, and I am {self.age} years old.\"\n",
    "\n",
    "\n",
    "person1 = Person(\"Alice\", 30)\n",
    "person2 = Person(\"Bob\", 25)\n",
    "\n",
    "\n",
    "print(person1.introduce()) \n",
    "print(person2.introduce())  \n",
    "\n",
    "\n",
    "'''In this example, the `self` parameter is used to access and set the `name` and `age` attributes within the constructor. \n",
    "It is also used to call the `introduce` method, which returns a string that includes the `name` and `age` attributes of the specific instance. When we create `person1` and `person2`, \n",
    "the `self` parameter ensures that each instance's attributes are correctly initialized and used within the methods of the class. This way, each instance maintains its own state and data.'''"
   ]
  },
  {
   "cell_type": "markdown",
   "id": "b5ab506a-a0c4-493a-af2f-8a6f441b62ae",
   "metadata": {},
   "source": [
    "8. Discuss the concept of default constructors in Python. When are they used?\n"
   ]
  },
  {
   "cell_type": "code",
   "execution_count": null,
   "id": "d8f66e7c-fa5f-42ef-90dc-01e865c35923",
   "metadata": {},
   "outputs": [],
   "source": [
    "\n",
    "In Python, default constructors refer to constructors that are automatically provided by the Python interpreter when you don't explicitly define a constructor (i.e., __init__ method) \n",
    "in a class. These default constructors are also known as \"implicit constructors\" or \"default initializers.\" When you create an object of a class without defining your own constructor, \n",
    "Python provides a default constructor that takes no parameters and doesn't perform any additional initialization.\n",
    "\n",
    "Here's when default constructors are used:\n",
    "\n",
    "When You Don't Define a Constructor: If you don't define a constructor in your class, Python automatically provides a default constructor for you. This default constructor doesn't \n",
    "perform any custom initialization, and it's essentially an empty method.\n",
    "\n",
    "For Basic Initialization: Default constructors are used when you want to create instances of a class with default initial values for its attributes. If your class doesn't require any \n",
    "specific initialization beyond creating an object, the default constructor suffices"
   ]
  },
  {
   "cell_type": "code",
   "execution_count": 28,
   "id": "e56bcfbf-ca1b-4a68-857d-c72766a22854",
   "metadata": {},
   "outputs": [
    {
     "name": "stdout",
     "output_type": "stream",
     "text": [
      "22\n",
      "vamshi\n"
     ]
    }
   ],
   "source": [
    "class Person:\n",
    "    def __init__(self):\n",
    "        self.name = \"vamshi\"\n",
    "        self.age = 22\n",
    "obj1 = Person()\n",
    "print(obj1.age)\n",
    "print(obj1.name)"
   ]
  },
  {
   "cell_type": "markdown",
   "id": "c87fedab-1962-4cf4-8199-3795265cd4f8",
   "metadata": {},
   "source": [
    "9. Create a Python class called `Rectangle` with a constructor that initializes the `width` and `height` \n",
    "attributes. Provide a method to calculate the area of the rectangle."
   ]
  },
  {
   "cell_type": "code",
   "execution_count": 2,
   "id": "e3f0f13c-10ed-4e47-b0ac-d0ef49af95fc",
   "metadata": {},
   "outputs": [
    {
     "name": "stdout",
     "output_type": "stream",
     "text": [
      "6\n"
     ]
    }
   ],
   "source": [
    "class Rectangle:\n",
    "    def __init__(self,width,height):\n",
    "        self.width = width\n",
    "        self.height = height\n",
    "    def area(self):\n",
    "        area = self.width * self.height\n",
    "        print(area)\n",
    "object2 = Rectangle(2,3)\n",
    "object2.area()"
   ]
  },
  {
   "cell_type": "markdown",
   "id": "3247c48b-c0c7-43cf-b396-c59259e286d7",
   "metadata": {},
   "source": [
    "10. How can you have multiple constructors in a Python class? Explain with an example.\n"
   ]
  },
  {
   "cell_type": "code",
   "execution_count": null,
   "id": "ac0af3cc-86c5-41bd-a6b2-286b061c7262",
   "metadata": {},
   "outputs": [],
   "source": [
    "In Python, you can't have multiple constructors in the traditional sense, as Python only allows one `__init__` method per class. However, you can achieve the functionality of multiple \n",
    "constructors by using default arguments, method overloading, or alternative class methods. Let's explore each approach with an example:\n",
    "\n",
    "1. Using Default Arguments:\n",
    "You can define a single `__init__` method with default argument values. \n",
    "This way, you can create instances with different sets of arguments, and the constructor will behave differently based on which arguments are provided.\n",
    "\n",
    "2. Using Method Overloading:\n",
    "   Python doesn't natively support method overloading (i.e., defining multiple methods with the same name but different parameter lists). \n",
    "However, you can simulate method overloading using optional arguments and conditional logic.\n",
    "\n",
    "3. Using Alternative Class Methods:\n",
    "   You can create alternative class methods that act as constructors with different parameter sets.\n",
    "\n",
    "These approaches allow you to achieve the functionality of multiple constructors \n",
    "in Python by providing flexibility in how you create instances of a class with different sets of arguments."
   ]
  },
  {
   "cell_type": "code",
   "execution_count": 83,
   "id": "b479a18f-bb40-4d58-a2a6-c9a1169d7571",
   "metadata": {},
   "outputs": [
    {
     "name": "stdout",
     "output_type": "stream",
     "text": [
      "Alice 30\n",
      "Bob 0\n",
      "Unknown 0\n"
     ]
    }
   ],
   "source": [
    "#using default\n",
    "class Person:\n",
    "    def __init__(self, name=\"Unknown\", age=0):\n",
    "        self.name = name\n",
    "        self.age = age\n",
    "        \n",
    "person1 = Person(\"Alice\", 30)\n",
    "person2 = Person(\"Bob\")\n",
    "person3 = Person()\n",
    "\n",
    "print(person1.name, person1.age)  \n",
    "print(person2.name, person2.age) \n",
    "print(person3.name, person3.age) "
   ]
  },
  {
   "cell_type": "code",
   "execution_count": 84,
   "id": "e85829c1-abf9-4ff5-a144-16f24d7e8ed5",
   "metadata": {},
   "outputs": [
    {
     "name": "stdout",
     "output_type": "stream",
     "text": [
      "Alice 30\n",
      "Unknown 0\n",
      "Unknown 0\n"
     ]
    }
   ],
   "source": [
    "#using method overloading\n",
    "class Person:\n",
    "    def __init__(self, name=None, age=None):\n",
    "        if name is not None and age is not None:\n",
    "            self.name = name\n",
    "            self.age = age\n",
    "        else:\n",
    "            self.name = \"Unknown\"\n",
    "            self.age = 0\n",
    "\n",
    "\n",
    "person1 = Person(\"Alice\", 30)\n",
    "person2 = Person(\"Bob\")\n",
    "person3 = Person()\n",
    "\n",
    "print(person1.name, person1.age)  \n",
    "print(person2.name, person2.age)  \n",
    "print(person3.name, person3.age)  \n"
   ]
  },
  {
   "cell_type": "code",
   "execution_count": 85,
   "id": "73a42b9a-ba7a-4887-ac91-347a96400048",
   "metadata": {},
   "outputs": [
    {
     "name": "stdout",
     "output_type": "stream",
     "text": [
      "Alice 30\n",
      "Bob 0\n",
      "Unknown 25\n"
     ]
    }
   ],
   "source": [
    "#using alternative approach\n",
    "class Person:\n",
    "    def __init__(self, name, age):\n",
    "        self.name = name\n",
    "        self.age = age\n",
    "\n",
    "    @classmethod\n",
    "    def with_name_only(cls, name):\n",
    "        return cls(name, 0)\n",
    "\n",
    "    @classmethod\n",
    "    def with_age_only(cls, age):\n",
    "        return cls(\"Unknown\", age)\n",
    "\n",
    "person1 = Person(\"Alice\", 30)\n",
    "person2 = Person.with_name_only(\"Bob\")\n",
    "person3 = Person.with_age_only(25)\n",
    "\n",
    "print(person1.name, person1.age) \n",
    "print(person2.name, person2.age) \n",
    "print(person3.name, person3.age) "
   ]
  },
  {
   "cell_type": "markdown",
   "id": "020e1149-144f-45e5-af3a-8b2009cf4eb7",
   "metadata": {},
   "source": [
    "11. What is method overloading, and how is it related to constructors in Python?\n"
   ]
  },
  {
   "cell_type": "code",
   "execution_count": null,
   "id": "a140b144-9831-4c4a-afe9-0f4613a1ff29",
   "metadata": {},
   "outputs": [],
   "source": [
    "Method overloading is a concept in programming where you define multiple methods in a class with the same name but different parameter lists. The methods have the same name but differ in\n",
    "the number or types of parameters they accept. The appropriate method to execute is determined at runtime based on the arguments provided during the method call. Method overloading \n",
    "allows you to create more flexible and versatile classes by providing different ways to call methods with various argument combinations.\n",
    "\n",
    "In Python, method overloading is not supported in the traditional way you might find in languages like Java or C++. Python uses a more dynamic approach, and the last defined method with\n",
    "a specific name will override any previous method with the same name. This means that, by default, only the latest version of a method with a particular name is considered, and it's not \n",
    "based on the method's parameter list.\n",
    "\n",
    "However, you can achieve a form of method overloading in Python by using default arguments, variable-length argument lists (*args, **kwargs), or by employing conditional logic within \n",
    "a method to handle different argument combinations. It's important to note that the ability to have different parameter lists in methods is not as strict or structured as it is in \n",
    "languages that support method overloading explicitly.\n",
    "\n",
    "In the context of constructors (i.e., the `__init__` method), you can create multiple constructors with different sets of parameters or behaviors using the approaches mentioned earlier, \n",
    "such as default arguments or alternative class methods. This allows you to initialize objects with varying attributes based on the arguments provided during object creation.\n",
    "\n",
    "Here's a brief summary of how method overloading is related to constructors in Python:\n",
    "\n",
    "- Method overloading refers to defining multiple methods with the same name but different parameter lists.\n",
    "- In Python, method overloading is not supported in the traditional sense, but you can simulate it by using various techniques.\n",
    "- In the context of constructors, you can achieve the functionality of multiple constructors by providing flexibility in how you initialize objects with different sets of attributes \n",
    "based on the arguments passed during object creation."
   ]
  },
  {
   "cell_type": "code",
   "execution_count": 87,
   "id": "4370879a-981a-4162-a8b5-4f33e0be4c0a",
   "metadata": {},
   "outputs": [
    {
     "name": "stdout",
     "output_type": "stream",
     "text": [
      "Cannot calculate area without dimensions.\n",
      "Area of the square: 25\n",
      "Area of the rectangle: 24\n",
      "Area of the triangle: 20.0\n",
      "Unsupported number of arguments.\n"
     ]
    }
   ],
   "source": [
    "#Certainly, here's an example that demonstrates method overloading in Python for a class with a `calculate_area` method, where the method behaves differently based on the number of arguments provided:\n",
    "\n",
    "\n",
    "class Shape:\n",
    "    def calculate_area(self, *args):\n",
    "        if len(args) == 0:\n",
    "            return \"Cannot calculate area without dimensions.\"\n",
    "        elif len(args) == 1:\n",
    "            # Calculate the area of a square\n",
    "            side = args[0]\n",
    "            return f\"Area of the square: {side**2}\"\n",
    "        elif len(args) == 2:\n",
    "            # Calculate the area of a rectangle\n",
    "            length, width = args\n",
    "            return f\"Area of the rectangle: {length * width}\"\n",
    "        elif len(args) == 3:\n",
    "            # Calculate the area of a triangle\n",
    "            base, height = args[:2]\n",
    "            return f\"Area of the triangle: {0.5 * base * height}\"\n",
    "        else:\n",
    "            return \"Unsupported number of arguments.\"\n",
    "\n",
    "\n",
    "shape1 = Shape()\n",
    "print(shape1.calculate_area())\n",
    "print(shape1.calculate_area(5))                \n",
    "print(shape1.calculate_area(6, 4))             \n",
    "print(shape1.calculate_area(8, 5, 12))         \n",
    "print(shape1.calculate_area(1, 2, 3, 4))       \n",
    "\n",
    "\n",
    "#In this example, the `calculate_area` method in the `Shape` class has a variable-length argument list (`*args`). Depending on the number of arguments provided, it calculates the area of a square, rectangle, or triangle. This demonstrates method overloading behavior where the same method name (`calculate_area`) is used with different parameter lists, allowing flexibility in how you calculate the area of different shapes.\n",
    "\n",
    "#While this is a simple demonstration of method overloading, in practice, you can create more complex and versatile methods based on the arguments provided."
   ]
  },
  {
   "cell_type": "markdown",
   "id": "1dc499d9-d5df-4ffe-8e14-97ae8781f7f7",
   "metadata": {},
   "source": [
    "12. Explain the use of the `super()` function in Python constructors. Provide an example.\n"
   ]
  },
  {
   "cell_type": "raw",
   "id": "4fedf8cf-3b95-4889-b6ce-0be26f262ede",
   "metadata": {},
   "source": [
    "In Python, the super() function is used to call a method from a parent class. It's often used in the context of constructors (__init__ methods) \n",
    "when you want to invoke the constructor of the parent class within the child class."
   ]
  },
  {
   "cell_type": "code",
   "execution_count": 88,
   "id": "821fd642-8efe-40ab-893d-2b5200736429",
   "metadata": {},
   "outputs": [
    {
     "name": "stdout",
     "output_type": "stream",
     "text": [
      "Parent constructor called. Name: John\n",
      "Child constructor called. Additional Info: This is some additional info.\n"
     ]
    }
   ],
   "source": [
    "class Parent:\n",
    "    def __init__(self, name):\n",
    "        self.name = name\n",
    "        print(f\"Parent constructor called. Name: {self.name}\")\n",
    "\n",
    "class Child(Parent):\n",
    "    def __init__(self, name, additional_info):\n",
    "        # Call the constructor of the parent class using super()\n",
    "        super().__init__(name)\n",
    "        \n",
    "        # Additional initialization specific to the child class\n",
    "        self.additional_info = additional_info\n",
    "        print(f\"Child constructor called. Additional Info: {self.additional_info}\")\n",
    "\n",
    "# Example usage\n",
    "child_obj = Child(\"John\", \"This is some additional info.\")\n"
   ]
  },
  {
   "cell_type": "markdown",
   "id": "b23bf1b7-0cdb-4bb9-b905-69472b56a905",
   "metadata": {},
   "source": [
    "13.create a class called `Book` with a constructor that initializes the `title`, `author`, \n",
    "and `published_year`attributes. Provide a method to display book details."
   ]
  },
  {
   "cell_type": "code",
   "execution_count": 26,
   "id": "896404f3-fba6-4dc6-82b1-0952ca9548a1",
   "metadata": {},
   "outputs": [
    {
     "data": {
      "text/plain": [
       "'TITLE:python,AUTHOR:abc,YEAR:2012'"
      ]
     },
     "execution_count": 26,
     "metadata": {},
     "output_type": "execute_result"
    }
   ],
   "source": [
    "class Book:\n",
    "    def __init__(self,title,author,published_year):\n",
    "        self.title = title\n",
    "        self.author = author\n",
    "        self.published_year = published_year\n",
    "    def display(self):\n",
    "        return f\"TITLE:{self.title},AUTHOR:{self.author},YEAR:{self.published_year}\"\n",
    "ob = Book(\"python\",\"abc\",2012)\n",
    "ob.display()"
   ]
  },
  {
   "cell_type": "markdown",
   "id": "d5acf89c-a4a7-4548-ac34-d9a69df29919",
   "metadata": {},
   "source": [
    "14. Discuss the differences between constructors and regular methods in Python classes.\n"
   ]
  },
  {
   "cell_type": "code",
   "execution_count": null,
   "id": "f8051d2d-bcbb-4177-ab5b-c1f1a3a76613",
   "metadata": {},
   "outputs": [],
   "source": [
    "Constructors and regular methods in Python classes have some key differences in terms of their purposes, usage, and characteristics:\n",
    "\n",
    "1. Purpose:\n",
    "\n",
    "   - Constructors: Constructors are special methods used to initialize object attributes and perform any necessary setup when an instance of a class is created.\n",
    "    They are typically used to set the initial state of the object.\n",
    "   \n",
    "   - Regular Methods: Regular methods are used to define the behavior and actions that objects of the class can perform. They operate on the attributes and state of objects.\n",
    "\n",
    "2. Name:\n",
    "\n",
    "   - Constructors: Constructors are typically named `__init__` and are invoked automatically when an object is created. They set the initial state of the object by initializing\n",
    "     attributes.\n",
    "   \n",
    "   - Regular Methods: Regular methods have custom names and are called explicitly by the user to perform specific actions on objects.\n",
    "\n",
    "3. Parameters:\n",
    "\n",
    "   - Constructors: Constructors have the `self` parameter, which is a reference to the instance being created, and they can also accept additional parameters \n",
    "      to set the initial state of the object.\n",
    "   \n",
    "   - Regular Methods: Regular methods can have any number of parameters, depending on the actions they need to perform. They may or may not have a `self` parameter.\n",
    "\n",
    "4. Invocation:\n",
    "\n",
    "   -Constructors: Constructors are automatically invoked when an instance of the class is created using the class name followed by parentheses.\n",
    "   \n",
    "   - Regular Methods: Regular methods are called explicitly by invoking them on an object using dot notation (e.g., `object.method()`).\n",
    "\n",
    "5. Return Value:\n",
    "\n",
    "   - Constructors: Constructors do not have a return value. They are responsible for initializing attributes, not for returning results.\n",
    "   \n",
    "   - Regular Methods: Regular methods can have return values and may perform operations that return data or manipulate the object's state.\n",
    "\n",
    "6. Frequency of Use:\n",
    "\n",
    "   - Constructors: Constructors are used once when an object is created to set its initial state. Typically, a class has only one constructor.\n",
    "   \n",
    "   -Regular Methods: Regular methods can be called multiple times during the lifetime of an object, and a class can have multiple regular methods.\n"
   ]
  },
  {
   "cell_type": "code",
   "execution_count": 90,
   "id": "70a73bd5-c883-4933-9941-08ad4fd6944f",
   "metadata": {},
   "outputs": [],
   "source": [
    "#Here's an example illustrating the differences between constructors and regular methods:\n",
    "\n",
    "  \n",
    "class Person:\n",
    "    def __init__(self, name, age):\n",
    "        self.name = name\n",
    "        self.age = age\n",
    "\n",
    "    def say_hello(self):\n",
    "        return f\"Hello, my name is {self.name} and I am {self.age} years old.\"\n",
    "\n",
    "   # Creating an instance of the Person class\n",
    "person1 = Person(\"Alice\", 30)\n",
    "\n",
    "   # Invoking the constructor automatically\n",
    "   # Setting initial state (name and age)\n",
    "   # No return value from the constructor\n",
    "\n",
    "greeting = person1.say_hello()\n",
    "   # Invoking a regular method explicitly\n",
    "   # Returning a greeting based on the object's attributes\n",
    "  \n",
    "\n",
    "#In summary, constructors are used for initializing object attributes, run automatically upon object creation, and have a specific name (`__init__`). Regular methods define object behaviors, are called explicitly, can have custom names, and may return values or modify the object's state"
   ]
  },
  {
   "cell_type": "markdown",
   "id": "192e9874-6e44-4778-a35e-d6c59bb2d289",
   "metadata": {},
   "source": [
    "15. Explain the role of the `self` \n",
    "parameter in instance variable initialization within a constructor.\n"
   ]
  },
  {
   "cell_type": "code",
   "execution_count": null,
   "id": "79a5ca5c-1d52-48b1-951d-200ed2a6fd2f",
   "metadata": {},
   "outputs": [],
   "source": [
    "The `self` parameter in Python plays a crucial role in instance variable initialization within a constructor. The `self` parameter is a reference to the instance of the class that is \n",
    "being created, and it allows you to access and manipulate the attributes of that instance. Here's how `self` works within a constructor and its role in initializing instance variables:\n",
    "\n",
    "1. Reference to the Instance: The `self` parameter is automatically created when a constructor is called, and it represents the instance of the class that is currently being created. \n",
    "This allows you to differentiate between attributes of one instance and another.\n",
    "\n",
    "2. Accessing Instance Attributes: Using `self`, you can access instance attributes and assign values to them. This is crucial for initializing the state of an object and setting its \n",
    "attributes to specific values based on the constructor's parameters.\n",
    "\n",
    "3. Attribute Assignment: You can use `self` to assign values to instance variables within the constructor. By referencing `self`, you make sure that the attribute is specific to the \n",
    "instance you are working with.\n"
   ]
  },
  {
   "cell_type": "markdown",
   "id": "178403ed-0362-4d7f-a779-ca45bd2f75f5",
   "metadata": {},
   "source": [
    "16. How do you prevent a class from having multiple instances by using constructors in Python? \n",
    "Provide an example"
   ]
  },
  {
   "cell_type": "code",
   "execution_count": null,
   "id": "f9a2b2ae-ca1a-4086-aeb4-073af0aab113",
   "metadata": {},
   "outputs": [],
   "source": [
    "\n",
    "In Python, you can prevent a class from having multiple instances by using the Singleton design pattern. The Singleton pattern ensures that a class has only one instance, \n",
    "and it provides a global point of access to that instance."
   ]
  },
  {
   "cell_type": "code",
   "execution_count": 91,
   "id": "bf99a764-82b9-4eed-a12a-1d3bd4f918df",
   "metadata": {},
   "outputs": [
    {
     "name": "stdout",
     "output_type": "stream",
     "text": [
      "True\n"
     ]
    }
   ],
   "source": [
    "class Singleton:\n",
    "    _instance = None  # Class variable to store the instance\n",
    "\n",
    "    def __new__(cls):\n",
    "        if cls._instance is None:\n",
    "            cls._instance = super(Singleton, cls).__new__(cls)\n",
    "        return cls._instance\n",
    "\n",
    "    def __init__(self):\n",
    "        if not hasattr(self, 'initialized'):\n",
    "            self.initialized = True\n",
    "            # Initialization code here\n",
    "\n",
    "# Example usage\n",
    "instance1 = Singleton()\n",
    "instance2 = Singleton()\n",
    "\n",
    "print(instance1 == instance2)  # Output: True\n"
   ]
  },
  {
   "cell_type": "markdown",
   "id": "487e7df1-d4dc-4858-b8d5-4b9a9fd0a3a1",
   "metadata": {},
   "source": [
    "17. Create a Python class called `Student` with a constructor that takes a \n",
    "list of subjects as a parameter and initializes the `subjects` attribute."
   ]
  },
  {
   "cell_type": "code",
   "execution_count": 27,
   "id": "c4729fcc-04e2-4ae8-b780-669228723181",
   "metadata": {},
   "outputs": [
    {
     "data": {
      "text/plain": [
       "['math', 'science', 'python']"
      ]
     },
     "execution_count": 27,
     "metadata": {},
     "output_type": "execute_result"
    }
   ],
   "source": [
    "class Student:\n",
    "    def __init__(self,subjects):\n",
    "        self.subjects = subjects\n",
    "stu = Student([\"math\",\"science\",\"python\"])\n",
    "stu.subjects"
   ]
  },
  {
   "cell_type": "markdown",
   "id": "fd8fdd16-8a27-4070-9c27-69f372397548",
   "metadata": {},
   "source": [
    "18. What is the purpose of the `__del__` method in Python classes, \n",
    "and how does it relate to constructors?\n"
   ]
  },
  {
   "cell_type": "code",
   "execution_count": null,
   "id": "925acc58-3084-4156-9927-05917b64c46b",
   "metadata": {},
   "outputs": [],
   "source": [
    "The `__del__` method in Python classes, also known as the destructor, is used to define the actions that should be taken when an object is about to be destroyed or deallocated. \n",
    "It's the counterpart to the constructor (`__init__`), which is responsible for initializing an object when it is created.\n",
    "\n",
    "The purpose of the `__del__` method is to provide a mechanism for cleaning up resources or performing final actions before an object is removed from memory. \n",
    "This method is rarely used in Python because Python's garbage collector typically takes care of memory management and object cleanup automatically. \n",
    "However, in some specific cases, you may want to define a custom destructor to release resources like file handles, network connections, or other external resources.\n",
    "\n",
    "Here's how the `__del__` method relates to constructors:\n",
    "\n",
    "1. Constructor (`__init__`):\n",
    "   - The constructor, denoted by `__init__`, is responsible for initializing the attributes of an object and setting up its initial state. It is called automatically when an \n",
    "object is created.\n",
    "\n",
    "2. Destructor (`__del__):\n",
    "   - The destructor, denoted by `__del__`, is responsible for cleaning up resources or performing final actions before an object is destroyed or deallocated. \n",
    "It is called automatically just before the object is removed from memory when there are no more references to it.\n",
    "\n",
    "It's essential to note that the `__del__` method is not commonly used in Python because relying on it for resource cleanup can lead to unpredictable behavior, \n",
    "and Python's garbage collector usually takes care of memory management. In most cases, it's better to use context managers (e.g., `with` statements) or specific cleanup methods \n",
    "rather than relying on the destructor.\n",
    "\n"
   ]
  },
  {
   "cell_type": "code",
   "execution_count": 92,
   "id": "3727d538-6410-42ae-a392-ec647c6c2a5b",
   "metadata": {},
   "outputs": [
    {
     "name": "stdout",
     "output_type": "stream",
     "text": [
      "Object with value 1 is created.\n",
      "Object with value 2 is created.\n",
      "Object with value 1 is being destroyed.\n",
      "Object with value 2 is being destroyed.\n"
     ]
    }
   ],
   "source": [
    "#Here's a simple example to illustrate the use of the `__del__` method\\\n",
    "class MyClass:\n",
    "    def __init__(self, value):\n",
    "        self.value = value\n",
    "        print(f\"Object with value {self.value} is created.\")\n",
    "\n",
    "    def __del__(self):\n",
    "        print(f\"Object with value {self.value} is being destroyed.\")\n",
    "\n",
    "# Creating instances of the MyClass class\n",
    "obj1 = MyClass(1)\n",
    "obj2 = MyClass(2)\n",
    "\n",
    "# Removing references to the objects\n",
    "del obj1\n",
    "del obj2\n"
   ]
  },
  {
   "cell_type": "markdown",
   "id": "6472302a-6eab-40bd-85e4-a419ab19dfb8",
   "metadata": {},
   "source": [
    "19. Explain the use of constructor chaining in Python. Provide a practical example."
   ]
  },
  {
   "cell_type": "code",
   "execution_count": null,
   "id": "1d64deeb-3279-4ced-a150-8b0c7356c95c",
   "metadata": {},
   "outputs": [],
   "source": [
    "Constructor chaining in Python refers to the process of one constructor calling another constructor within the same class. This allows you to reuse the code in one constructor \n",
    "to initialize object attributes while invoking another constructor with a different set of parameters. Constructor chaining can simplify the code and improve code reusability.\n",
    "\n",
    "In Python, constructor chaining is typically achieved using the `super()` function, which is used to call the constructor of the parent class. By chaining constructors, \n",
    "you can have one constructor set default values or common attributes, and another constructor customize or extend the initialization process.\n",
    "\n",
    "\n",
    "Constructor chaining allows you to reuse and extend the functionality of the parent class while ensuring that the necessary attributes are initialized in the child class.\n",
    "It's a powerful tool for organizing and maintaining code in object-oriented programming."
   ]
  },
  {
   "cell_type": "code",
   "execution_count": 93,
   "id": "ffdf9b84-dd6b-4622-850c-c2b34142875a",
   "metadata": {},
   "outputs": [
    {
     "name": "stdout",
     "output_type": "stream",
     "text": [
      "Name: Alice, Age: 20, Student ID: S12345\n"
     ]
    }
   ],
   "source": [
    "#Here's a practical example of constructor chaining in Python:\n",
    "\n",
    "\n",
    "class Person:\n",
    "    def __init__(self, name, age):\n",
    "        self.name = name\n",
    "        self.age = age\n",
    "\n",
    "class Student(Person):\n",
    "    def __init__(self, name, age, student_id):\n",
    "        super().__init__(name, age)  # Call the constructor of the parent class\n",
    "        self.student_id = student_id\n",
    "\n",
    "    def display(self):\n",
    "        return f\"Name: {self.name}, Age: {self.age}, Student ID: {self.student_id}\"\n",
    "\n",
    "# Creating an instance of the Student class\n",
    "student1 = Student(\"Alice\", 20, \"S12345\")\n",
    "\n",
    "# Displaying the student's information\n",
    "student_info = student1.display()\n",
    "print(student_info)"
   ]
  },
  {
   "cell_type": "markdown",
   "id": "321db2a2-8ea6-43c4-8afb-1fb93d47e838",
   "metadata": {},
   "source": [
    "20. Create a Python class called `Car` with a default constructor \n",
    "that initializes the `make` and `model` attributes. Provide a method to display car information."
   ]
  },
  {
   "cell_type": "code",
   "execution_count": 37,
   "id": "da574818-d78a-4e97-babe-1eca8cb9523f",
   "metadata": {},
   "outputs": [
    {
     "data": {
      "text/plain": [
       "('hynduai', 2012)"
      ]
     },
     "execution_count": 37,
     "metadata": {},
     "output_type": "execute_result"
    }
   ],
   "source": [
    "#defualt only give parameters inside constructor\n",
    "class Car:\n",
    "    def __init__(self):\n",
    "        self.make = \"hynduai\"\n",
    "        self.model = 2012\n",
    "    def display(self):\n",
    "        return self.make,self.model\n",
    "car = Car()\n",
    "car.display()"
   ]
  },
  {
   "cell_type": "code",
   "execution_count": null,
   "id": "cd407496-69d1-402e-8eac-71255582cd0a",
   "metadata": {},
   "outputs": [],
   "source": []
  },
  {
   "cell_type": "code",
   "execution_count": null,
   "id": "a5b4d154-7179-4d96-bc13-99c169d727da",
   "metadata": {},
   "outputs": [],
   "source": []
  },
  {
   "cell_type": "markdown",
   "id": "5f0e34f1-eaf7-4e65-a966-ac9cd2889c53",
   "metadata": {},
   "source": [
    "INHERITANCE"
   ]
  },
  {
   "cell_type": "markdown",
   "id": "9154e409-bd74-4dd4-a2e0-3c20877f3cef",
   "metadata": {},
   "source": [
    "1. What is inheritance in Python? Explain its significance in object-oriented programming.\n"
   ]
  },
  {
   "cell_type": "code",
   "execution_count": null,
   "id": "9f816858-9a7d-4c2b-9600-9f7a791c24fd",
   "metadata": {},
   "outputs": [],
   "source": [
    "Inheritance is a fundamental concept in object-oriented programming (OOP) that allows one class (the subclass or derived class) \n",
    "to inherit the properties and behaviors of another class (the superclass or base class).\n",
    "In Python, inheritance enables you to create a new class that is a modified version of an existing class, \n",
    "reusing the attributes and methods of the base class while allowing customization and extension. \n",
    "Inheritance is a core principle in OOP, and it offers several significant benefits:\n",
    "\n",
    "1. Code Reusability: Inheritance allows you to reuse existing code from a base class in a new class. \n",
    "This promotes code reusability and helps avoid redundancy by using common attributes and methods from the base class.\n",
    "\n",
    "2. Hierarchy and Structure: Inheritance enables you to create class hierarchies, representing relationships between different classes. \n",
    "You can model complex systems and structures more effectively by organizing classes in a hierarchical manner.\n",
    "\n",
    "3. Modularity: Inheritance promotes modularity and separation of concerns. \n",
    "You can have a base class that represents a generic concept, and then create \n",
    "specialized subclasses to handle specific variations or extensions of that concept.\n",
    "\n",
    "4. Polymorphism: Inheritance is closely related to the concept of polymorphism, \n",
    "which allows objects of different classes to be treated as objects of a common superclass. This facilitates more flexible and generalized programming.\n",
    "\n",
    "5. Maintenance and Updates: When you need to make changes or updates to the behavior \n",
    "of multiple classes, you can do so by modifying the base class, and these changes are\n",
    "automatically inherited by all its subclasses. This makes it easier to maintain and extend your code.\n",
    "\n",
    "6. Encapsulation: Inheritance promotes encapsulation by allowing you to define an \n",
    "interface and implementation details in a base class and hide the complexity from the \n",
    "derived classes. Subclasses can use and extend the base class without being concerned with its internal implementation.\n",
    "\n",
    "In Python, inheritance is implemented using the `class SubClass(BaseClass):` syntax. \n",
    "The `SubClass` inherits attributes and methods from `BaseClass`. You can override and \n",
    "extend inherited methods or add new attributes and methods specific to the subclass. \n",
    "The base class is also known as the superclass or parent class, and the derived class is \n",
    "the subclass or child class.\n"
   ]
  },
  {
   "cell_type": "markdown",
   "id": "a614b27f-1029-4525-aa2a-3af73625ccd2",
   "metadata": {},
   "source": [
    "2. Differentiate between single inheritance and multiple inheritance in Python. \n",
    "Provide examples for each.\n"
   ]
  },
  {
   "cell_type": "code",
   "execution_count": null,
   "id": "969310d6-def7-4d48-8f81-2665ca68dc3c",
   "metadata": {},
   "outputs": [],
   "source": [
    "In Python, inheritance can take two main forms: single inheritance and multiple inheritance. Here's the differentiation between the two, along with examples for each:\n",
    "\n",
    "1. Single Inheritance:\n",
    "   - Single inheritance involves a class inheriting from only one superclass (base class). In other words, a subclass can have only one parent class.\n",
    "   - It provides a simple and linear hierarchy of classes, making it easier to understand and manage class relationships.\n",
    "   - Single inheritance is the most common form of inheritance in Python.\n",
    "  \n",
    "\n",
    "2. Multiple Inheritance:\n",
    "   - Multiple inheritance involves a class inheriting from more than one superclass. A subclass can have multiple parent classes.\n",
    "   - It provides flexibility but can make the class hierarchy more complex and challenging to manage. Python supports multiple inheritance, \n",
    "    but it should be used with care to avoid ambiguities and maintain code readability.\n",
    "   - The order in which superclasses are listed in the class definition affects method resolution and attribute access. \n",
    "Python uses a method resolution order (MRO) algorithm to determine the order in which superclasses are considered when looking up methods and attributes.\n",
    "\n",
    "   "
   ]
  },
  {
   "cell_type": "code",
   "execution_count": 97,
   "id": "45fb4fb9-8813-4769-92b1-cdb9cfb0f0b9",
   "metadata": {},
   "outputs": [
    {
     "name": "stdout",
     "output_type": "stream",
     "text": [
      "Woof!\n",
      "Meow!\n"
     ]
    }
   ],
   "source": [
    "#Example of Single Inheritance:\n",
    "class Animal:\n",
    "    def speak(self):\n",
    "        pass\n",
    "\n",
    "class Dog(Animal):\n",
    "    def speak(self):\n",
    "        return \"Woof!\"\n",
    "\n",
    "class Cat(Animal):\n",
    "    def speak(self):\n",
    "        return \"Meow!\"\n",
    "\n",
    "dog = Dog()\n",
    "cat = Cat()\n",
    "\n",
    "print(dog.speak()) \n",
    "print(cat.speak())"
   ]
  },
  {
   "cell_type": "code",
   "execution_count": 100,
   "id": "d521eee6-b853-4ad9-99ca-e4da66b776f5",
   "metadata": {},
   "outputs": [
    {
     "name": "stdout",
     "output_type": "stream",
     "text": [
      "Tweet!\n"
     ]
    }
   ],
   "source": [
    "#Example of Multiple Inheritance:\n",
    "\n",
    "'''In this example, the `Pet` class inherits from both `Bird` and `Dog` classes, and it inherits the `speak` method from both superclasses.\n",
    "When an instance of `Pet` calls the `speak` method, Python uses its method resolution order to determine that the method from `Bird` is called.\n",
    "\n",
    "Multiple inheritance can become more complex when there are naming conflicts between superclasses or when dealing with a deeper hierarchy of classes. \n",
    "Proper care and attention to the method resolution order are required in such cases to avoid issues. It's essential to understand the trade-offs and considerations when \n",
    "choosing between single and multiple inheritance for your specific programming needs.'''\n",
    "\n",
    "class Bird:\n",
    "    def speak(self):\n",
    "        return \"Tweet!\"\n",
    "\n",
    "class Dog:\n",
    "    def speak(self):\n",
    "        return \"Woof!\"\n",
    "\n",
    "class Pet(Bird, Dog):\n",
    "    pass\n",
    "\n",
    "pet = Pet()\n",
    "\n",
    "print(pet.speak())  \n",
    " "
   ]
  },
  {
   "cell_type": "markdown",
   "id": "6a81f9de-9899-412b-a6ab-4c201874bd1b",
   "metadata": {},
   "source": [
    "3. Create a Python class called `Vehicle` with attributes `color` and `speed`. \n",
    "Then, create a child class called `Car` that inherits from `Vehicle` and \n",
    "adds a `brand` attribute. Provide an example of creating a `Car` object"
   ]
  },
  {
   "cell_type": "code",
   "execution_count": 12,
   "id": "79fc2893-6007-405a-82c0-ce141712a50a",
   "metadata": {},
   "outputs": [
    {
     "name": "stdout",
     "output_type": "stream",
     "text": [
      "suzuki\n",
      "blue\n",
      "120\n"
     ]
    }
   ],
   "source": [
    "class Vehicle:\n",
    "    def __init__(self,color,speed):\n",
    "        self.color = color\n",
    "        self.speed = speed\n",
    "class Car(Vehicle):\n",
    "    def add(self,brand):\n",
    "        self.brand = brand\n",
    "veh = Car(\"blue\",120)\n",
    "veh.add(\"suzuki\")\n",
    "print(veh.brand)\n",
    "print(veh.color)\n",
    "print(veh.speed)"
   ]
  },
  {
   "cell_type": "code",
   "execution_count": null,
   "id": "f1039619-dd11-4988-b570-4828773b1d25",
   "metadata": {},
   "outputs": [],
   "source": [
    "4. Explain the concept of method overriding in inheritance. Provide a practical example.\n"
   ]
  },
  {
   "cell_type": "code",
   "execution_count": null,
   "id": "d8e8168c-d9fb-4a97-bb54-e55e4080ad6c",
   "metadata": {},
   "outputs": [],
   "source": [
    "Method overriding is a fundamental concept in object-oriented programming and inheritance,\n",
    "which allows a subclass to provide a specific implementation of a method that is already \n",
    "defined in its superclass. When a method in a subclass has the same name, parameters, \n",
    "and return type as a method in its parent class (superclass), the method in the subclass \n",
    "overrides the method in the superclass. This allows the subclass to customize or extend \n",
    "the behavior of the inherited method to suit its specific needs.\n",
    "\n",
    "\n",
    "\n",
    "In this example, we have a base class `Animal` with a `speak` method that provides a \n",
    "generic sound for an animal. Then, we have two subclasses, `Dog` and `Cat`, that inherit \n",
    "from the `Animal` class and override the `speak` method with their specific sound.\n",
    "\n",
    "When we create instances of `Animal`, `Dog`, and `Cat`, and call the `speak` method on \n",
    "each of them, we observe that the overridden methods in the subclasses are executed. \n",
    "This demonstrates that method overriding allows us to provide specialized behavior in \n",
    "the derived classes while still maintaining a common interface through inheritance.\n",
    "\n",
    "Method overriding is crucial for creating a hierarchy of classes with a shared interface \n",
    "while allowing each subclass to customize and extend the behavior of the inherited methods.\n",
    "It promotes code reusability and helps design more maintainable and extensible object-orien\n",
    "ted systems."
   ]
  },
  {
   "cell_type": "code",
   "execution_count": 101,
   "id": "dbddafc9-bdf6-4405-acbe-bced7ce4495b",
   "metadata": {},
   "outputs": [
    {
     "name": "stdout",
     "output_type": "stream",
     "text": [
      "Animal makes a sound\n",
      "Dog barks\n",
      "Cat meows\n"
     ]
    }
   ],
   "source": [
    "#Here's a practical example to illustrate method overriding in Python:\n",
    "\n",
    "\n",
    "class Animal:\n",
    "    def speak(self):\n",
    "        print(\"Animal makes a sound\")\n",
    "\n",
    "class Dog(Animal):\n",
    "    def speak(self):\n",
    "        print(\"Dog barks\")\n",
    "\n",
    "class Cat(Animal):\n",
    "    def speak(self):\n",
    "        print(\"Cat meows\")\n",
    "\n",
    "\n",
    "animal = Animal()\n",
    "dog = Dog()\n",
    "cat = Cat()\n",
    "\n",
    "\n",
    "animal.speak()  \n",
    "dog.speak()     \n",
    "cat.speak() "
   ]
  },
  {
   "cell_type": "code",
   "execution_count": 17,
   "id": "02a1ace6-df08-429c-90cd-dc66bb10af62",
   "metadata": {},
   "outputs": [
    {
     "name": "stdout",
     "output_type": "stream",
     "text": [
      "60\n",
      "rakesh:india failed\n",
      "chaitanya:gotha failed\n"
     ]
    }
   ],
   "source": [
    "class vamshi:\n",
    "    def marks(self):\n",
    "        print(\"60\")\n",
    "class rakesh(vamshi):\n",
    "    def marks(self):\n",
    "        print(f\"rakesh:india failed\")\n",
    "class chaitanya(vamshi):\n",
    "    def marks(self):\n",
    "        print(f\"chaitanya:gotha failed\")\n",
    "stu1_vamshi = vamshi()\n",
    "stu2_rakesh = rakesh()\n",
    "stu3_chaitanya = chaitanya()\n",
    "stu1_vamshi.marks()\n",
    "stu2_rakesh.marks()\n",
    "stu3_chaitanya.marks()"
   ]
  },
  {
   "cell_type": "markdown",
   "id": "df4566d8-35af-419d-8a58-a4c477153886",
   "metadata": {},
   "source": [
    "5. How can you access the methods and attributes of a parent class from a child class \n",
    "in Python? Give an example."
   ]
  },
  {
   "cell_type": "code",
   "execution_count": null,
   "id": "87ab1755-fbed-46fe-b2e0-ab0ab4ccf7e8",
   "metadata": {},
   "outputs": [],
   "source": [
    "In Python, you can access the methods and attributes of a parent class (superclass) from a child class (subclass) by using the `super()` function. \n",
    "The `super()` function allows you to call methods defined in the parent class and access its attributes. You can use `super()` within the \n",
    "child class to invoke the methods of the parent class.\n",
    "\n",
    "\n",
    "In the example below:\n",
    "\n",
    "1. We have a `Parent` class with an `__init__` method that sets the `name` attribute and a `say_hello` method that prints a greeting with the name.\n",
    "\n",
    "2. We create a `Child` class that inherits from the `Parent` class. The `Child` class has its own constructor that takes an additional `age` parameter. In the `Child` class's constructor, \n",
    "we use `super()` to call the `__init__` method of the parent class to set the `name` attribute.\n",
    "\n",
    "3. The `Child` class also defines an `introduce` method that calls the `say_hello` method of the parent class using `super()` to access the parent class method and \n",
    "prints additional information about the child.\n",
    "\n",
    "4. We create a `Child` object and demonstrate how to access both the parent class's `say_hello` method and the child class's `introduce` method, which uses the parent class's method."
   ]
  },
  {
   "cell_type": "code",
   "execution_count": 102,
   "id": "1486a04f-9d19-432f-8b90-0e3c3a4208f5",
   "metadata": {},
   "outputs": [
    {
     "name": "stdout",
     "output_type": "stream",
     "text": [
      "Hello, my name is Alice\n",
      "I am 5 years old.\n",
      "Hello, my name is Alice\n"
     ]
    }
   ],
   "source": [
    "#Here's an example to demonstrate how to access the methods and attributes of a parent class from a child class:\n",
    "\n",
    "\n",
    "class Parent:\n",
    "    def __init__(self, name):\n",
    "        self.name = name\n",
    "\n",
    "    def say_hello(self):\n",
    "        print(f\"Hello, my name is {self.name}\")\n",
    "\n",
    "class Child(Parent):\n",
    "    def __init__(self, name, age):\n",
    "        super().__init__(name)\n",
    "        self.age = age\n",
    "\n",
    "    def introduce(self):\n",
    "        super().say_hello()  # Accessing the parent class method\n",
    "        print(f\"I am {self.age} years old.\")\n",
    "\n",
    "# Creating a Child object\n",
    "child = Child(\"Alice\", 5)\n",
    "\n",
    "# Accessing methods and attributes from the Child class\n",
    "child.introduce()  \n",
    "\n",
    "# Accessing the parent class method directly from the Child class\n",
    "child.say_hello()  "
   ]
  },
  {
   "cell_type": "markdown",
   "id": "b7520765-57c4-4448-b1da-a990255faeea",
   "metadata": {},
   "source": [
    "6. Discuss the use of the `super()` function in Python inheritance. When and why is it used? Provide an \n",
    "example."
   ]
  },
  {
   "cell_type": "code",
   "execution_count": null,
   "id": "cfdeb70b-3e29-4671-a6e9-33537275ef88",
   "metadata": {},
   "outputs": [],
   "source": [
    "The `super()` function in Python is used to call methods and access attributes of a parent class (superclass) from a child class (subclass) when working with inheritance. \n",
    "It is particularly useful when you want to extend or customize the behavior of methods inherited from the parent class in the child class.\n",
    "The `super()` function helps maintain the relationship between the parent and child classes while allowing the child class to build upon the functionality provided by the parent class.\n",
    "\n",
    "Here are some common use cases and reasons for using the `super()` function in Python inheritance:\n",
    "\n",
    "1. Calling the Parent Class Constructor: When a child class has its own constructor (`__init__` method) but still needs to initialize attributes inherited from the parent class, \n",
    "you can use `super()` to call the parent class constructor. This ensures that the parent class's attributes are correctly initialized.\n",
    "\n",
    "2. Overriding Parent Class Methods: If a child class overrides a method from the parent class and still wants to use the parent class's implementation within the overridden method, \n",
    "`super()` is used to call the parent class's method.\n",
    "\n",
    "3. Extending Parent Class Behavior: Child classes can extend the functionality provided by the parent class by adding additional behavior before \n",
    "or after calling the parent class's method using `super()`.\n",
    "\n",
    "\n",
    "In this example:\n",
    "\n",
    "- `super()` is used in the child classes `Dog` and `Cat` to call the parent class constructor to initialize the `name` attribute.\n",
    "- `super()` is also used within the `speak` methods of the child classes to invoke the `speak` method from the parent class before adding their own behavior.\n",
    "\n",
    "Using `super()` helps ensure that the parent-child class relationship is maintained and that you can build upon the functionality of the parent class while \n",
    "customizing it in the child classes."
   ]
  },
  {
   "cell_type": "code",
   "execution_count": 104,
   "id": "333ceca0-59de-4ef3-b3e6-4d5e901268d6",
   "metadata": {},
   "outputs": [
    {
     "name": "stdout",
     "output_type": "stream",
     "text": [
      "Animal makes a sound\n",
      "Dog barks\n",
      "Buddy is a Golden Retriever.\n",
      "\n",
      "Animal makes a sound\n",
      "Cat meows\n",
      "Whiskers is Orange.\n"
     ]
    }
   ],
   "source": [
    "#Here's an example to illustrate the use of the `super()` function:\n",
    "\n",
    "class Animal:\n",
    "    def __init__(self, name):\n",
    "        self.name = name\n",
    "\n",
    "    def speak(self):\n",
    "        print(\"Animal makes a sound\")\n",
    "\n",
    "class Dog(Animal):\n",
    "    def __init__(self, name, breed):\n",
    "        super().__init__(name)  # Call the parent class constructor\n",
    "        self.breed = breed\n",
    "\n",
    "    def speak(self):\n",
    "        super().speak()  # Call the parent class method\n",
    "        print(\"Dog barks\")\n",
    "\n",
    "class Cat(Animal):\n",
    "    def __init__(self, name, color):\n",
    "        super().__init__(name)  # Call the parent class constructor\n",
    "        self.color = color\n",
    "\n",
    "    def speak(self):\n",
    "        super().speak()  # Call the parent class method\n",
    "        print(\"Cat meows\")\n",
    "\n",
    "# Creating objects\n",
    "dog = Dog(\"Buddy\", \"Golden Retriever\")\n",
    "cat = Cat(\"Whiskers\", \"Orange\")\n",
    "\n",
    "# Accessing methods and attributes from child classes\n",
    "dog.speak()  \n",
    "print(f\"{dog.name} is a {dog.breed}.\\n\")\n",
    "\n",
    "cat.speak() \n",
    "print(f\"{cat.name} is {cat.color}.\")"
   ]
  },
  {
   "cell_type": "markdown",
   "id": "f29800eb-fd2d-413d-b6b9-30568e5fa1e6",
   "metadata": {},
   "source": [
    "7. Create a Python class called `Animal` with a method `speak()`. Then, create child classes \n",
    "`Dog` and `Cat` that inherit from `Animal` and override the `speak()` method. \n",
    "Provide an example of using these \n",
    "classes"
   ]
  },
  {
   "cell_type": "code",
   "execution_count": 27,
   "id": "81f2719c-9eff-4b89-bee3-ff706f06a382",
   "metadata": {},
   "outputs": [
    {
     "name": "stdout",
     "output_type": "stream",
     "text": [
      "None\n",
      "dog says bow\n",
      "cat says meow\n"
     ]
    }
   ],
   "source": [
    "class Animal:\n",
    "    def speak(self):\n",
    "        pass\n",
    "class Dog(Animal):\n",
    "    def speak(self):\n",
    "        return \"bow\"\n",
    "class Cat(Animal):\n",
    "    def speak(self):\n",
    "        return \"meow\"\n",
    "\n",
    "Ani = Animal()\n",
    "dog = Dog()\n",
    "cat = Cat()\n",
    "print(Ani.speak())\n",
    "print(\"dog says\",dog.speak())\n",
    "print(\"cat says\",cat.speak())\n",
    "        "
   ]
  },
  {
   "cell_type": "markdown",
   "id": "501c3596-3d16-41fc-a227-165e96237706",
   "metadata": {},
   "source": [
    "8. Explain the role of the `isinstance()` function in Python and how it relates to\n",
    "inheritance.\n"
   ]
  },
  {
   "cell_type": "code",
   "execution_count": null,
   "id": "42929675-3b74-478b-be27-9a1c722f19af",
   "metadata": {},
   "outputs": [],
   "source": [
    "The `isinstance()` function in Python is used to check whether an object belongs to a specific class or a class derived from it. It helps determine \n",
    "if an object is an instance of a particular class or a subclass. This function is crucial when working with inheritance because it allows you to check the type \n",
    "of an object and ensure that it's compatible with the expected class or one of its subclasses.\n",
    "\n",
    "Here's how `isinstance()` relates to inheritance:\n",
    "\n",
    "1. Checking if an object is an instance of a specific class:\n",
    "   You can use `isinstance()` to check if an object is an instance of a particular class.\n",
    "\n",
    "\n",
    "2. Checking if an object is an instance of multiple classes:\n",
    "   `isinstance()` can be used to check if an object is an instance of multiple classes or their subclasses. This is helpful when you have multiple inheritance or \n",
    "when you want to ensure an object is compatible with multiple class types.\n",
    "\n",
    "\n",
    "\n",
    "3. Polymorphism and dynamic dispatch:\n",
    "   Inheritance and `isinstance()` are often used together to achieve polymorphism and dynamic dispatch. Polymorphism allows objects of different classes to be treated as \n",
    "'if they have a common interface (e.g., a shared method). You can use `isinstance()` to check an object's type and then call the appropriate method or behavior based on the \n",
    "object's actual class.\n",
    "\n",
    "   \n",
    "In summary, the `isinstance()` function is a powerful tool in Python for working with inheritance and achieving polymorphism by checking the type or class of an object,\n",
    "allowing you to write code that is more flexible and can handle a variety of object types and their relationships."
   ]
  },
  {
   "cell_type": "markdown",
   "id": "5ea09b9e-27fc-4fe1-a832-8e6f58841d24",
   "metadata": {},
   "source": [
    "10. Discuss the concept of constructor inheritance in Python. \n",
    "How are constructors inherited in child classes?\n"
   ]
  },
  {
   "cell_type": "code",
   "execution_count": null,
   "id": "6230b587-fdef-483e-beb0-e0af10f618f2",
   "metadata": {},
   "outputs": [],
   "source": [
    "In Python, constructor inheritance refers to how constructors (initialization methods) are inherited by child classes when you create a subclass. \n",
    "Constructors in Python are defined using the `__init__` method, and they are responsible for initializing the attributes and state of an object when it is created. \n",
    "When you create a child class that inherits from a parent class, the child class can inherit the constructor of the parent class. Here are some key points \n",
    "about constructor inheritance in Python:\n",
    "\n",
    "1. Inheriting Constructors:\n",
    "   When you create a child class, if you don't define a constructor (`__init__` method) in the child class, it inherits the constructor of the parent class. \n",
    "This means that the child class can automatically use the parent class's constructor to initialize its own attributes and perform any additional setup.\n",
    "\n",
    "2. Overriding Constructors:\n",
    "   If you define a constructor in the child class, it will override the constructor of the parent class. This allows you to customize the initialization process \n",
    "for the child class, but you can still call the parent class's constructor explicitly using `super()` to include the parent's behavior.\n",
    "\n",
    "3. Calling the Parent Class Constructor:\n",
    "   To call the constructor of the parent class within the constructor of the child class, you can use `super()` as follows:\n",
    "\n",
    "   class Parent:\n",
    "       def __init__(self, name):\n",
    "           self.name = name\n",
    "\n",
    "   class Child(Parent):\n",
    "       def __init__(self, name, age):\n",
    "           super().__init__(name)\n",
    "           self.age = age\n",
    "\n",
    "   child = Child(\"Alice\", 10)\n",
    "   print(child.name)  # Output: \"Alice\"\n",
    "   print(child.age)   # Output: 10\n",
    "\n",
    "\n",
    "   In this example, the `Child` class defines its own constructor but calls the `Parent` class's constructor using `super().__init__(name)` to ensure that the \n",
    "    `name` attribute is properly initialized.\n",
    "\n",
    "4. Multiple Inheritance:\n",
    "   When a child class inherits from multiple parent classes (multiple inheritance), you may need to explicitly call the constructors of each parent class using \n",
    "`super()` to ensure proper initialization. The order in which you call the parent class constructors matters.\n",
    "\n",
    "Here's a simple example to illustrate constructor inheritance:\n",
    "\n",
    "\n",
    "class Parent:\n",
    "    def __init__(self, name):\n",
    "        self.name = name\n",
    "\n",
    "class Child(Parent):\n",
    "    def __init__(self, name, age):\n",
    "        super().__init__(name)\n",
    "        self.age = age\n",
    "\n",
    "child = Child(\"Alice\", 10)\n",
    "print(child.name)  # Output: \"Alice\"\n",
    "\n",
    "\n",
    "In this example, the `Child` class inherits the constructor from the `Parent` class and extends it to include the `age` attribute. \n",
    "This demonstrates how constructor inheritance works in Python, allowing child classes to reuse and extend the initialization behavior of their parent classes."
   ]
  },
  {
   "cell_type": "markdown",
   "id": "2e1041f5-47f7-4e8f-862d-4d4009a7d2b7",
   "metadata": {},
   "source": [
    "11. Create a Python class called `Shape` with a method `area()` that calculates the \n",
    "area of a shape. Then, create child classes `Circle` and `Rectangle` that inherit from \n",
    "`Shape` and implement the `area()` method \n",
    "accordingly. Provide an example."
   ]
  },
  {
   "cell_type": "code",
   "execution_count": 37,
   "id": "b41eddd6-cb15-44f0-9557-502955e9fa13",
   "metadata": {},
   "outputs": [
    {
     "name": "stdout",
     "output_type": "stream",
     "text": [
      "calculates the area of shape\n",
      "50.26548245743669\n",
      "20\n"
     ]
    }
   ],
   "source": [
    "import math\n",
    "class Shape:\n",
    "    def area (self):\n",
    "        return \"calculates the area of shape\"\n",
    "class Circle(Shape):\n",
    "    def __init__(self,radius):\n",
    "        self.radius = radius\n",
    "    def area(self):\n",
    "        return math.pi*self.radius**2\n",
    "        \n",
    "class Rectangle(Shape):\n",
    "    def __init__(self,length,width):\n",
    "        self.length = length\n",
    "        self.width = width\n",
    "    def area(self):\n",
    "        return self.length *self.width\n",
    "obj1 = Shape()\n",
    "obj2 = Circle(4)\n",
    "obj3 = Rectangle(4,5)\n",
    "print(obj1.area())\n",
    "print(obj2.area())\n",
    "print(obj3.area())"
   ]
  },
  {
   "cell_type": "markdown",
   "id": "09d144e6-1465-495e-b886-d58baaa0c6d5",
   "metadata": {},
   "source": [
    "\n",
    "12. Explain the use of abstract base classes (ABCs) in Python and how they relate to \n",
    "inheritance. Provide an example using the `abc` module."
   ]
  },
  {
   "cell_type": "code",
   "execution_count": null,
   "id": "6aa4ed5a-6a4c-489b-8b48-04725a23f60b",
   "metadata": {},
   "outputs": [],
   "source": [
    "bstract Base Classes (ABCs) in Python are a way to define a common interface for a group of related classes. They allow you to define a set of methods that must be \n",
    "implemented by the concrete (sub)classes. ABCs help in enforcing a certain structure across different classes and provide a clear contract for their usage.\n",
    "\n",
    "The abc module in Python provides the ABC class, which can be used as a metaclass for creating abstract base classes. \n",
    "Abstract methods in ABCs are marked with the @abstractmethod decorator."
   ]
  },
  {
   "cell_type": "code",
   "execution_count": null,
   "id": "fbe49a26-18f5-4df7-bf99-7526199bffd1",
   "metadata": {},
   "outputs": [],
   "source": [
    "from abc import ABC, abstractmethod\n",
    "\n",
    "class Vehicle(ABC):\n",
    "    @abstractmethod\n",
    "    def start(self):\n",
    "        pass\n",
    "\n",
    "class Car(Vehicle):\n",
    "    def start(self):\n",
    "        return \"Car engine started.\"\n",
    "\n",
    "class Bicycle(Vehicle):\n",
    "    def start(self):\n",
    "        return \"Bicycle pedaling started.\"\n",
    "\n",
    "car = Car()\n",
    "bicycle = Bicycle()\n",
    "\n",
    "print(car.start())       # Output: Car engine started.\n",
    "print(bicycle.start())   # Output: Bicycle pedaling started.\n",
    "In this example, the Vehicle abstract base class defines a common method start() that its concrete subclasses, Car and Bicycle, must implement. \n",
    "It enforces a consistent interface for all vehicles."
   ]
  },
  {
   "cell_type": "markdown",
   "id": "34075179-5e89-41a5-8826-b50e42cd0e4f",
   "metadata": {},
   "source": [
    "13. How can you prevent a child class from modifying certain attributes or \n",
    "methods inherited from a parent \n",
    "class in Python"
   ]
  },
  {
   "cell_type": "code",
   "execution_count": null,
   "id": "71d5de8e-b4b2-4d1e-a5ff-0cea8f8ca435",
   "metadata": {},
   "outputs": [],
   "source": [
    "In Python, you can prevent a child class from modifying certain attributes or methods inherited from a parent class by using encapsulation and access control. You can make attributes or methods private by prefixing them with an underscore (e.g., `_attribute` or `_method`) to indicate that they are for internal use and should not be accessed or modified directly. This is a convention rather than a strict access control mechanism, but it serves as a signal to other developers that these members are not meant to be modified outside of the class.\n",
    "\n",
    "Here's how you can use encapsulation and access control to prevent modification of attributes or methods:\n",
    "\n",
    "1. Private Attributes:\n",
    "\n",
    "   You can use a single underscore prefix to indicate that an attribute is intended for internal use.\n",
    "\n",
    "   The `_private_attribute` is meant for internal use, but it can still be accessed and modified if desired. However, it's not a recommended practice.\n",
    "\n",
    "2. Name Mangling (Stronger Encapsulation):\n",
    "\n",
    "   For stronger encapsulation, you can use name mangling, which adds a double underscore prefix to attributes. Name mangling makes it more challenging for\n",
    "    child classes to modify the attribute directly:\n",
    "\n",
    "   With name mangling, you can't directly access the attribute using `child.__private_attribute`, but you can access it using the mangled name `child._Parent__private_attribute`.\n",
    "\n",
    "It's important to note that encapsulation in Python is primarily a naming convention and not a strict access control mechanism. \n",
    "Developers can still access and modify \"private\" attributes if they really want to, \n",
    "but the convention is to treat them as non-public and avoid modifying them directly."
   ]
  },
  {
   "cell_type": "markdown",
   "id": "f023827e-a0f5-4358-9075-50762cebb357",
   "metadata": {},
   "source": [
    "14. Create a Python class called `Employee` with attributes `name` and `salary`. \n",
    "Then, create a child class \n",
    "`Manager` that inherits from `Employee` and adds an attribute `department`. \n",
    "Provide an example."
   ]
  },
  {
   "cell_type": "code",
   "execution_count": 52,
   "id": "a730a848-bd73-4fec-940c-6096f6116265",
   "metadata": {},
   "outputs": [
    {
     "name": "stdout",
     "output_type": "stream",
     "text": [
      "vamshi\n",
      "10000\n",
      "mechanical engineer\n",
      "mech\n",
      "IT\n"
     ]
    }
   ],
   "source": [
    "class Employee:\n",
    "    def __init__(self,name,salary):\n",
    "        self.name = name\n",
    "        self.salary = salary\n",
    "class Manager(Employee):\n",
    "    def __init__(self,name,department):\n",
    "        super().__init__(name,10000)\n",
    "        self.department = department\n",
    "    def add(self,department):\n",
    "        self.department = department\n",
    "\n",
    "emp = Employee(\"vamshi\",10000)\n",
    "man = Manager(\"mechanical engineer\",\"mech\")\n",
    "print(emp.name)\n",
    "print(emp.salary)\n",
    "print(man.name)\n",
    "print(man.department)\n",
    "man.add(\"IT\")\n",
    "print(man.department)"
   ]
  },
  {
   "cell_type": "markdown",
   "id": "632b571b-daf2-4050-b6a9-4d4dae4d481b",
   "metadata": {},
   "source": [
    "15. Discuss the concept of method overloading in Python inheritance. \n",
    "How does it differ from method overriding."
   ]
  },
  {
   "cell_type": "code",
   "execution_count": null,
   "id": "cf5ddbdf-4120-4ce8-9804-4e621f37ac36",
   "metadata": {},
   "outputs": [],
   "source": [
    "Certainly, here's a simplified explanation:\n",
    "\n",
    "Method Overloading:\n",
    "- Method overloading allows a class to have multiple methods with the same name but \n",
    "different parameter lists within the same class.\n",
    "- In Python, you can achieve method overloading by using default arguments or \n",
    "variable-length argument lists (e.g., `*args`, `**kwargs`).\n",
    "- It's not directly related to inheritance; it's more about defining multiple \n",
    "methods with the same name in a single class.\n",
    "\n",
    "\n",
    "Method Overriding:\n",
    "- Method overriding occurs in inheritance when a subclass provides its own implementation\n",
    "of a method that is already defined in its parent class.\n",
    "- The overridden method in the subclass has the same name, return type, and parameters \n",
    "as the method in the parent class.\n",
    "- Method overriding is about customizing the behavior of inherited methods.\n",
    "\n",
    "\n",
    "In summary, method overloading is about defining multiple methods with the same name \n",
    "in a class, while method overriding is about customizing inherited methods in a subclass.\n",
    "Method overriding is a fundamental concept in inheritance."
   ]
  },
  {
   "cell_type": "code",
   "execution_count": 105,
   "id": "164778ae-28ea-4984-b3fa-0090ebe22607",
   "metadata": {},
   "outputs": [
    {
     "name": "stdout",
     "output_type": "stream",
     "text": [
      "5\n",
      "8\n",
      "Woof!\n"
     ]
    }
   ],
   "source": [
    "#Example overloading:\n",
    "\n",
    "class Calculator:\n",
    "    def add(self, a, b=0):\n",
    "        return a + b\n",
    "\n",
    "calc = Calculator()\n",
    "print(calc.add(5))      \n",
    "print(calc.add(5, 3))   \n",
    "\n",
    "#Example overriding:\n",
    "\n",
    "class Animal:\n",
    "    def speak(self):\n",
    "        pass\n",
    "\n",
    "class Dog(Animal):\n",
    "    def speak(self):\n",
    "        return \"Woof!\"\n",
    "\n",
    "dog = Dog()\n",
    "print(dog.speak())   \n",
    "\n"
   ]
  },
  {
   "cell_type": "markdown",
   "id": "9fcd4b68-99e2-443e-bee9-b9bdcca485c3",
   "metadata": {},
   "source": [
    "16. Explain the purpose of the `__init__()` method in Python inheritance and \n",
    "how it is utilized in child classes.\n"
   ]
  },
  {
   "cell_type": "code",
   "execution_count": null,
   "id": "f20358da-0088-4faa-9f70-ab181a777ff6",
   "metadata": {},
   "outputs": [],
   "source": [
    "In Python, the `__init__()` method is a special method known as a constructor, and it plays a crucial role in the process of initializing objects of a class.\n",
    "When you create a new instance of a class, the `__init__()` method is automatically called, and it is used to perform any necessary setup or initialization for that object. \n",
    "This method is typically defined within a class and is used to initialize the attributes and properties of the object.\n",
    "\n",
    "When it comes to inheritance, the `__init__()` method is inherited from the parent class to the child class, just like other methods and attributes. \n",
    "However, if the child class defines its own `__init__()` method, it can override the parent class's `__init__()` method.\n",
    "\n",
    "Here's the purpose of the `__init__()` method in Python inheritance and how it is utilized in child classes:\n",
    "\n",
    "1. Inheriting the Parent Class's `__init__()`: When a child class is created, it inherits the `__init__()` method from its parent class. \n",
    "This means that if the parent class has an `__init__()` method that initializes certain attributes, the child class will have access to the same `__init__()` method.\n",
    "\n",
    "2. Extending the Initialization: In many cases, you may want to extend the initialization process in the child class. To do this, you can define a new `__init__()` method in the child \n",
    "class. This new method can call the parent class's `__init__()` method using `super()` and then add additional initialization steps specific to the child class.\n",
    "\n",
    "\n",
    "This allows you to reuse and build upon the initialization behavior of the parent class while customizing it for the child class's specific needs."
   ]
  },
  {
   "cell_type": "markdown",
   "id": "8d9f788a-75fd-45de-addc-309fd68fd5b5",
   "metadata": {},
   "source": [
    "17. Create a Python class called `Bird` with a method `fly()`. \n",
    "Then, create child classes `Eagle` and `Sparrow` that inherit from `Bird` \n",
    "and implement the `fly()` method differently. Provide an example of using these \n",
    "classes."
   ]
  },
  {
   "cell_type": "code",
   "execution_count": 55,
   "id": "73029d90-4a99-45b2-97f3-a6fd901df641",
   "metadata": {},
   "outputs": [
    {
     "name": "stdout",
     "output_type": "stream",
     "text": [
      "bird flies\n",
      "eagle flies in sky\n",
      "sparrow flies\n"
     ]
    }
   ],
   "source": [
    "class Bird:\n",
    "    def fly(self):\n",
    "        return \"bird flies\"\n",
    "class eagle(Bird):\n",
    "    def fly(self):\n",
    "        return \"eagle flies in sky\"\n",
    "        \n",
    "class sparrow(Bird):\n",
    "    def fly(fly):\n",
    "        return \"sparrow flies\"\n",
    "    \n",
    "B = Bird()\n",
    "E = eagle()\n",
    "S = sparrow()\n",
    "print(B.fly())\n",
    "print(E.fly())\n",
    "print(S.fly())"
   ]
  },
  {
   "cell_type": "markdown",
   "id": "71c6d9c1-0eac-4811-a115-4fc5837acb00",
   "metadata": {},
   "source": [
    "18. What is the \"diamond problem\" in multiple inheritance, and how does Python address it?\n"
   ]
  },
  {
   "cell_type": "code",
   "execution_count": null,
   "id": "e771dbfc-8c94-416a-adaa-ad24d9be612d",
   "metadata": {},
   "outputs": [],
   "source": [
    "The \"diamond problem\" is a common issue in multiple inheritance, which occurs when a particular class inherits from two or more classes that have a common ancestor. \n",
    "This creates ambiguity in the method resolution order (MRO) and can lead to unexpected behavior in the derived class. The problem is called the \"diamond problem\" \n",
    "because the inheritance structure often resembles a diamond shape when visualized.\n",
    "\n",
    "Consider the following class hierarchy:\n",
    "\n",
    "```\n",
    "   A\n",
    "  / \\\n",
    " B   C\n",
    "  \\ /\n",
    "   D\n",
    "```\n",
    "\n",
    "In this hierarchy, class `D` inherits from both classes `B` and `C`, which, in turn, inherit from class `A`. If there is a method defined in class `A`, and both classes `B` and `C` \n",
    "override that method differently, it becomes unclear which method should be called when an instance of class `D` tries to invoke it.\n",
    "\n",
    "Python addresses the diamond problem by using a method resolution order (MRO) and a cooperative multiple inheritance mechanism. Python's approach to resolving the diamond problem \n",
    "is known as C3 Linearization or C3 superclass linearization, which is a specific algorithm for determining the order in which the base classes should be searched when looking for \n",
    "a method or attribute.\n",
    "\n",
    "Python's MRO and C3 Linearization ensures that the method of the most specific base class is called, and the order of base classes is determined in a consistent and predictable way. \n",
    "This helps avoid ambiguity and ensures that the correct method is invoked, even in cases of complex multiple inheritance hierarchies.\n",
    "\n",
    "Here's how Python addresses the diamond problem:\n",
    "\n",
    "1. Python uses the C3 Linearization algorithm to create a consistent and predictable MRO for classes. This algorithm determines the order in which base classes are considered when \n",
    "looking for methods or attributes.\n",
    "\n",
    "2. The MRO ensures that the most specific base class is searched first. This means that if there are multiple paths to a common ancestor, the method in the most specific subclass \n",
    "along the path is chosen.\n",
    "\n",
    "3. If a class needs to access a method from its parent class or a common ancestor, it can do so by calling the super() function, which follows the MRO and ensures that the correct \n",
    "method is invoked.\n",
    "\n",
    "By using C3 Linearization and super(), Python provides a robust and effective solution to the diamond problem, making it easier to work with multiple inheritance and preventing \n",
    "ambiguity and unexpected behavior in class hierarchies."
   ]
  },
  {
   "cell_type": "code",
   "execution_count": null,
   "id": "3d0d5a60-4d56-4a37-b577-aa6fb0a55fa4",
   "metadata": {},
   "outputs": [],
   "source": []
  },
  {
   "cell_type": "markdown",
   "id": "acd4b2b6-73d3-462f-adb0-6695f2d9e401",
   "metadata": {},
   "source": [
    "20. Create a Python class hierarchy for a university system. Start with a base class \n",
    "`Person` and create child \n",
    "classes `Student` and `Professor`, each with their own attributes and methods. \n",
    "Provide an example of using \n",
    "these classes in a university context"
   ]
  },
  {
   "cell_type": "code",
   "execution_count": 63,
   "id": "3bea4c91-bf6f-47e4-82e3-4b75b4fbef0a",
   "metadata": {},
   "outputs": [
    {
     "name": "stdout",
     "output_type": "stream",
     "text": [
      "ds\n",
      "python\n",
      "big data\n"
     ]
    }
   ],
   "source": [
    "class Person:\n",
    "    def __init__(self,name,age,address):\n",
    "        self.name = name\n",
    "        self.age = age\n",
    "        self.address = address\n",
    "class Student(Person):\n",
    "    def __init__(self,stu_id,course_enrolled,GPA):\n",
    "        self.stu_id = stu_id\n",
    "        self.course_enrolled = course_enrolled\n",
    "        self.GPA = GPA\n",
    "    def enroll(self):\n",
    "        return \"enrolled in python\"\n",
    "    def gpa(self):\n",
    "        return \"8\"\n",
    "class Professor(Person):\n",
    "    def __init__(self,employee_id,courses_taught):\n",
    "        self.employee_id = employee_id\n",
    "        self.courses_taught = courses_taught\n",
    "    def teach_course(self):\n",
    "        return \"python\"\n",
    "\n",
    "O1 = Person(\"vamshi\",22,\"hyd\")\n",
    "o2 = Student(123,\"ds\",9)\n",
    "o3 = Professor(23,\"big data\")\n",
    "print(o2.course_enrolled)\n",
    "print(o3.teach_course())\n",
    "print(o3.courses_taught)\n"
   ]
  },
  {
   "cell_type": "code",
   "execution_count": null,
   "id": "9bf33076-4807-4efa-a2df-e1e1b891c184",
   "metadata": {},
   "outputs": [],
   "source": [
    "Encapsulation"
   ]
  },
  {
   "cell_type": "markdown",
   "id": "34a6aecc-f61c-44cc-9bcc-014f25716361",
   "metadata": {},
   "source": [
    "1. Explain the concept of encapsulation in Python. What is its role in object-oriented programming?"
   ]
  },
  {
   "cell_type": "code",
   "execution_count": null,
   "id": "052d0d79-4dfa-4a6f-8a6b-642c2cfdbb40",
   "metadata": {},
   "outputs": [],
   "source": [
    "Encapsulation is one of the fundamental concepts in object-oriented programming (OOP) and is a key principle in Python. It refers to the bundling of data (attributes or variables) and \n",
    "the methods (functions or procedures) that operate on that data into a single unit called a class. This class acts as a blueprint or template for creating objects, which are instances \n",
    "of the class.\n",
    "\n",
    "Encapsulation serves several important roles in object-oriented programming:\n",
    "\n",
    "1. Data Hiding: Encapsulation allows you to hide the internal details and implementation of a class from the outside world. You can define class attributes as private, \n",
    "making them inaccessible directly from outside the class. This is typically done by prefixing attribute names with an underscore (e.g., `_data`). This data hiding helps maintain \n",
    "data integrity and prevents unintended or unauthorized access and modification.\n",
    "\n",
    "2. Abstraction: Encapsulation allows you to abstract the essential characteristics and behaviors of an object, while hiding the unnecessary details. Users of the class \n",
    "interact with it through a well-defined interface, using methods, without needing to understand the internal workings of the class. This simplifies the complexity of using \n",
    "and understanding objects.\n",
    "\n",
    "3. Modularity: Encapsulation promotes modularity in your code. You can define classes and objects that encapsulate specific functionality or features. This makes your code \n",
    "easier to maintain, as changes to one class do not necessarily affect other parts of your program.\n",
    "\n",
    "4. Code Reusability: Encapsulation allows you to create reusable and self-contained classes. Once you define a class, you can create multiple instances of that class (objects) \n",
    "to reuse its functionality in various parts of your program.\n",
    "\n",
    "\n",
    "In summary, encapsulation in Python is a critical OOP concept that promotes data hiding, abstraction, modularity, and code reusability, making your code more organized and maintainable."
   ]
  },
  {
   "cell_type": "markdown",
   "id": "0dc8c3c6-36da-4822-ae30-4f3a04300b11",
   "metadata": {},
   "source": [
    "2. Describe the key principles of encapsulation, including access control and data hiding.\n"
   ]
  },
  {
   "cell_type": "code",
   "execution_count": null,
   "id": "71340ce7-52d4-4a3a-b709-7ff09afc79d5",
   "metadata": {},
   "outputs": [],
   "source": [
    "Encapsulation is a fundamental concept in object-oriented programming (OOP) that involves bundling data and the methods that operate on that data into a single unit called a class. \n",
    "It helps to organize and structure code while providing several key principles, including access control and data hiding:\n",
    "\n",
    "1. Access Control:\n",
    "   Access control refers to the mechanisms that restrict or manage the visibility and usage of class members (attributes and methods) from outside the class. In many OOP languages, \n",
    "including Python, there are different levels of access control:\n",
    "\n",
    "   a. Public: Public members are accessible from anywhere in the code. They are typically designated without any access modifier in most OOP languages. In Python, all class \n",
    "members are public by default unless indicated otherwise.\n",
    "\n",
    "   b. Private: Private members are accessible only within the class that defines them. In Python, a common convention to create private members is by prefixing their names with \n",
    "    an underscore (e.g., `_private_attribute`).\n",
    "\n",
    "   c. Protected: Protected members are accessible within the class that defines them and by subclasses. In Python, there is no strict enforcement of protected members, but \n",
    "a single leading underscore is often used as a convention to indicate that a member should be treated as protected (e.g., `_protected_attribute`).\n",
    "\n",
    "   The use of access control allows you to control and limit the visibility and usage of class members, promoting encapsulation and maintaining the integrity of the class.\n",
    "\n",
    "2. Data Hiding:\n",
    "   Data hiding is a key principle of encapsulation that involves the concealment of the internal details and implementation of a class from the outside world. \n",
    "This is typically achieved by making class attributes private or protected, as mentioned above. The benefits of data hiding include:\n",
    "\n",
    "   a. Preventing Unauthorized Access: By making data private or protected, you can prevent external code from accessing and modifying the internal state of a class directly. \n",
    "This helps maintain data integrity and security.\n",
    "\n",
    "   b. Encapsulation of Complexity: Data hiding allows you to encapsulate the internal implementation details of a class, so users of the class can interact with it through \n",
    "    a well-defined interface (i.e., public methods). This simplifies the use of the class and reduces complexity for the user.\n",
    "\n",
    "   c. Flexibility and Maintenance: Data hiding makes it easier to change the internal implementation of a class without affecting the code that uses the class. Users of the class \n",
    "only need to rely on the class's public interface, which remains stable.\n",
    "\n",
    "\n",
    "In this example, the `name` attribute is treated as protected (by convention), and the `age` attribute is private. The class provides public methods for accessing these attributes, \n",
    "demonstrating data hiding and controlled access to class members."
   ]
  },
  {
   "cell_type": "markdown",
   "id": "e0529f08-3efa-4b21-9ceb-08254aa59712",
   "metadata": {},
   "source": [
    "3. How can you achieve encapsulation in Python classes? Provide an example.\n"
   ]
  },
  {
   "cell_type": "code",
   "execution_count": null,
   "id": "63e869b1-751d-4ff0-a892-26f465b1e398",
   "metadata": {},
   "outputs": [],
   "source": [
    "In Python, encapsulation is achieved by using access control modifiers and naming conventions to control the visibility and accessibility of class members (attributes and methods). \n",
    "While Python does not provide strict access control like some other object-oriented programming languages, it relies on naming conventions and a few mechanisms to achieve encapsulation. Here's how you can achieve encapsulation in Python classes, along with an example:\n",
    "\n",
    "1. Naming Conventions:\n",
    "   - Public members: These members are intended to be accessible from anywhere. They have names without any special prefixes. Public members are the default in Python.\n",
    "   - Protected members: By convention, protected members have a single underscore prefix (e.g., `_protected_attribute`). This indicates that they are intended \n",
    "    for internal use within the class and by subclasses.\n",
    "   - Private members: By convention, private members have a double underscore prefix (e.g., `__private_attribute`). While not entirely private, this naming convention makes \n",
    "it harder to access these members from outside the class.\n",
    "\n",
    "2. Accessors (Getter and Setter methods):\n",
    "   - To access or modify private or protected attributes, you can provide public methods (getter and setter methods) that allow controlled access to these attributes.\n",
    "\n"
   ]
  },
  {
   "cell_type": "code",
   "execution_count": 107,
   "id": "78d0676f-5327-4644-ae0d-f32a48b04e51",
   "metadata": {},
   "outputs": [
    {
     "name": "stdout",
     "output_type": "stream",
     "text": [
      "Alice\n",
      "Bob\n",
      "20\n",
      "25\n"
     ]
    }
   ],
   "source": [
    "#Here's an example demonstrating encapsulation in a Python class:\n",
    "\n",
    "'''In this example, the `Student` class encapsulates the `name` and `age` attributes using naming conventions and provides getter and setter methods to access and modify them. \n",
    "The naming conventions with a single underscore for protected attributes and a double underscore for private attributes indicate their intended level of visibility and access. \n",
    "This approach allows you to achieve encapsulation and controlled access to class members in Python.'''\n",
    "class Student:\n",
    "    def __init__(self, name, age):\n",
    "        self._name = name  # Protected attribute\n",
    "        self.__age = age   # Private attribute\n",
    "\n",
    "    # Getter method for the protected attribute\n",
    "    def get_name(self):\n",
    "        return self._name\n",
    "\n",
    "    # Setter method for the protected attribute\n",
    "    def set_name(self, name):\n",
    "        self._name = name\n",
    "\n",
    "    # Getter method for the private attribute\n",
    "    def get_age(self):\n",
    "        return self.__age\n",
    "\n",
    "    # Setter method for the private attribute\n",
    "    def set_age(self, age):\n",
    "        if age >= 0:\n",
    "            self.__age = age\n",
    "        else:\n",
    "            print(\"Age cannot be negative.\")\n",
    "\n",
    "# Creating a Student object\n",
    "student = Student(\"Alice\", 20)\n",
    "\n",
    "# Accessing and modifying protected and private attributes using getter and setter methods\n",
    "print(student.get_name())  # Accessing the protected attribute\n",
    "student.set_name(\"Bob\")     # Modifying the protected attribute\n",
    "print(student.get_name())\n",
    "\n",
    "print(student.get_age())    # Accessing the private attribute\n",
    "student.set_age(25)        # Modifying the private attribute\n",
    "print(student.get_age())\n",
    "\n",
    "# Attempting to access private attribute directly (will result in an error)\n",
    "# print(student.__age)\n",
    "\n",
    "\n",
    "\n"
   ]
  },
  {
   "cell_type": "markdown",
   "id": "8e7070d3-a9d1-4eb3-aca6-c4b3d3c965b4",
   "metadata": {},
   "source": [
    "4. Discuss the difference between public, private, and protected access modifiers in Python.\n"
   ]
  },
  {
   "cell_type": "code",
   "execution_count": null,
   "id": "ee836002-9c09-4626-b192-52414007ad43",
   "metadata": {},
   "outputs": [],
   "source": [
    "In Python, access modifiers are used to control the visibility and accessibility of class members (attributes and methods). Although Python does not enforce access control as strictly as some other object-oriented languages, it relies on naming conventions and a few mechanisms to indicate the intended level of visibility and access. The three common access modifiers in Python are public, protected, and private, and they are differentiated by naming conventions:\n",
    "\n",
    "1. Public Members:\n",
    "   - Naming Convention: Public members are designated without any special prefixes, and their names are typically written in lowercase or using \"snake_case\"\n",
    "     (e.g., `public_attribute`, `public_method`).\n",
    "   - Accessibility: Public members are intended to be accessible from anywhere in the code, both within the class and from external code. They have no access restrictions.\n",
    "\n",
    "   \n",
    "\n",
    "2. Protected Members:\n",
    "   - Naming Convention: By convention, protected members have a single underscore prefix (e.g., `_protected_attribute`, `_protected_method`).\n",
    "   - Accessibility: Protected members are intended for internal use within the class and by its subclasses. \n",
    "    While not strictly enforced, the single underscore prefix is a signal to other developers that these members should be treated as protected.\n",
    "\n",
    "\n",
    "3. Private Members:\n",
    "   - Naming Convention: By convention, private members have a double underscore prefix (e.g., `__private_attribute`, `__private_method`).\n",
    "   - Accessibility: Private members are intended for internal use within the class only. They are not intended to be accessed directly\n",
    "    from outside the class. Python enforces a name mangling mechanism to make it slightly harder to access private members from outside the class.\n",
    "\n",
    "\n",
    "It's important to note that in Python, these naming conventions are not strict access modifiers; they are more like guidelines and signals to other \n",
    "developers about the intended visibility and access level of class members. Python allows you to access and modify all these members from outside the class,\n",
    "but it's considered best practice to respect the conventions and not access protected and private members directly from external code.\n",
    "\n",
    "Here's a demonstration of how you can access these different types of members from outside a class:\n",
    "\n",
    "```python\n",
    "obj = MyClass()\n",
    "print(obj.public_var)       # Accessing a public attribute\n",
    "print(obj._protected_var)   # Accessing a protected attribute (not recommended)\n",
    "# Attempting to access a private attribute directly (may result in name mangling)\n",
    "# print(obj.__private_var)\n"
   ]
  },
  {
   "cell_type": "markdown",
   "id": "fc845fb7-fabb-492e-885d-303360d459af",
   "metadata": {},
   "source": [
    "5. Create a Python class called `Person` with a private attribute `__name`. Provide methods to get and set the \n",
    "name attribute"
   ]
  },
  {
   "cell_type": "code",
   "execution_count": 21,
   "id": "35a27d51-32fe-4d2f-9f5f-0bb3231b3ba7",
   "metadata": {},
   "outputs": [
    {
     "name": "stdout",
     "output_type": "stream",
     "text": [
      "priya\n",
      "updated name: vamshi\n"
     ]
    }
   ],
   "source": [
    "class Person:\n",
    "    def __init__(self,name):\n",
    "        self.__name = name\n",
    "    def get_name(self):\n",
    "        return self.__name\n",
    "    def set_name(self,name):\n",
    "        self.__name = name\n",
    "person = Person(\"priya\")\n",
    "print(person.get_name())\n",
    "person.set_name(\"vamshi\")\n",
    "print(\"updated name:\",person.get_name())\n"
   ]
  },
  {
   "cell_type": "markdown",
   "id": "fd3e7a23-ea19-4c93-9ce5-ba7438fa8a37",
   "metadata": {},
   "source": [
    "6. Explain the purpose of getter and setter methods in encapsulation. Provide examples.\n"
   ]
  },
  {
   "cell_type": "code",
   "execution_count": null,
   "id": "80008cab-8707-43be-a6f4-75453e8d5c19",
   "metadata": {},
   "outputs": [],
   "source": [
    "Getter methods are used to retrieve the value of an attribute, \n",
    "while setter methods are used to modify the value of an attribute in a controlled and validated way, promoting data encapsulation and abstraction."
   ]
  },
  {
   "cell_type": "markdown",
   "id": "956ae681-d145-47bc-9e6d-8c3eb9b1f174",
   "metadata": {},
   "source": [
    "7. What is name mangling in Python, and how does it affect encapsulation?\n"
   ]
  },
  {
   "cell_type": "code",
   "execution_count": null,
   "id": "90d8706c-3e20-47d9-8187-beb880a7563e",
   "metadata": {},
   "outputs": [],
   "source": [
    "Name mangling in Python is a mechanism used to make the names of certain class attributes \"private\" by adding a prefix to their names, specifically a double underscore (`__`). \n",
    "This prefixing is done to avoid unintentional name clashes in the inheritance hierarchy and to make it harder to access these attributes from outside the class. Name mangling affects encapsulation by making it more difficult, though not impossible, to directly access private attributes.\n",
    "\n",
    "When you define an attribute with a double underscore prefix in a class, Python internally renames the attribute by adding a prefix that consists of an underscore and the class name.\n",
    "For example, an attribute `__private_var` in a class named `MyClass` is internally renamed to `_MyClass__private_var`. This renaming occurs during the compilation stage, and it applies to both attribute access and modification.\n",
    "\n",
    "Here's how name mangling affects encapsulation:\n",
    "\n",
    "1. Harder Access from Outside: Name mangling makes it more challenging to accidentally or intentionally access private attributes from outside the class. \n",
    "This helps enforce encapsulation and prevents unintended interference with the class's internal state.\n",
    "\n",
    "2. Intended for Internal Use: Private attributes are still technically accessible from outside the class by using the mangled name, but this is discouraged.\n",
    "Name mangling is a convention that signals that these attributes are intended for internal use within the class, and they should not be accessed directly from external code.\n",
    "\n",
    "\n"
   ]
  },
  {
   "cell_type": "markdown",
   "id": "2f5cf742-723a-4fc5-961b-7a2664d373e9",
   "metadata": {},
   "source": [
    "8. Create a Python class called `BankAccount` with private attributes for the account balance (`__balance`) and account number (`__account_number`).\n",
    "Provide methods for depositing and withdrawing money."
   ]
  },
  {
   "cell_type": "code",
   "execution_count": 47,
   "id": "88b98761-b415-4bac-89cc-2edaecd5474b",
   "metadata": {},
   "outputs": [
    {
     "name": "stdout",
     "output_type": "stream",
     "text": [
      "190000\n",
      "withdrawn10000,available balance 180000\n",
      "180000\n",
      "12345\n",
      "180000\n"
     ]
    }
   ],
   "source": [
    "class BankAccount:\n",
    "    def __init__(self,balance,account_number):\n",
    "        self.__balance = balance\n",
    "        self.__account_number = account_number\n",
    "        \n",
    "    def get_balance(self):\n",
    "        return self.__balance\n",
    "    \n",
    "    def get_account_number(self):\n",
    "        return self.__account_number\n",
    "    \n",
    "    def depositing(self,depositing_money):\n",
    "        \n",
    "        if depositing_money>0:\n",
    "            self.__balance +=depositing_money\n",
    "            return self.__balance\n",
    "        else:\n",
    "            return \"invalid deposit amount\"\n",
    "    \n",
    "    def withdraw(self,withdraw_money):\n",
    "        if 0<withdraw_money<=self.__balance:\n",
    "            self.__balance -= withdraw_money\n",
    "            return f\"withdrawn{withdraw_money},available balance {self.__balance}\"\n",
    "        else:\n",
    "            \"invalid withdrawn amount\"\n",
    "        \n",
    "    \n",
    "    \n",
    "bank = BankAccount(180000,12345)\n",
    "print(bank.depositing(10000))\n",
    "print(bank.withdraw(10000))\n",
    "print(bank.get_balance())\n",
    "print(bank.get_account_number())\n",
    "print(bank._BankAccount__balance)  #####accessing private variable\n"
   ]
  },
  {
   "cell_type": "markdown",
   "id": "617f0f85-ff33-4b3e-8c63-5cab56db56a8",
   "metadata": {},
   "source": [
    "9. Discuss the advantages of encapsulation in terms of code maintainability and security.\n"
   ]
  },
  {
   "cell_type": "code",
   "execution_count": null,
   "id": "06f92dee-16cb-4a21-8b6e-08f1f98de2fa",
   "metadata": {},
   "outputs": [],
   "source": [
    "Advantages of encapsulation in terms of code maintainability and security:\n",
    "\n",
    "Code Maintainability:\n",
    "\n",
    "- Modularity: Encapsulation breaks code into manageable units.\n",
    "- Abstraction: Simplifies code interaction with abstracted interfaces.\n",
    "- Code Reusability: Encapsulated functionality can be reused.\n",
    "- Ease of Testing: Isolates unit testing for individual classes.\n",
    "\n",
    "Security:\n",
    "\n",
    "- Data Hiding: Protects internal data from unauthorized access.\n",
    "- Access Control: Enforces rules and constraints for data.\n",
    "- Reduced Exposure: Limits the attack surface and security risks.\n",
    "- Protection of Sensitive Data: Safeguards sensitive information from unauthorized access."
   ]
  },
  {
   "cell_type": "markdown",
   "id": "f6cc98c4-018f-498f-b43d-95ad03f94063",
   "metadata": {},
   "source": [
    "10. How can you access private attributes in Python? Provide an example demonstrating the use of name \n",
    "mangling."
   ]
  },
  {
   "cell_type": "code",
   "execution_count": 49,
   "id": "e9452292-fc19-4d13-a9fb-b8152bbb628f",
   "metadata": {},
   "outputs": [
    {
     "name": "stdout",
     "output_type": "stream",
     "text": [
      "190000\n",
      "withdrawn10000,available balance 180000\n",
      "180000\n",
      "12345\n",
      "180000\n"
     ]
    }
   ],
   "source": [
    "'''In Python, private attributes are intended to be accessed only within the class where they are defined. However, \n",
    "it is still possible to access private attributes from outside the class using name mangling. Name mangling is a \n",
    "mechanism that adds a prefix to the attribute's name,making it less straightforward to access, \n",
    "but it's important to note that this is generally discouraged as it goes against the principles of encapsulation.'''\n",
    "\n",
    "\n",
    "class BankAccount:\n",
    "    def __init__(self,balance,account_number):\n",
    "        self.__balance = balance\n",
    "        self.__account_number = account_number\n",
    "        \n",
    "    def get_balance(self):\n",
    "        return self.__balance\n",
    "    \n",
    "    def get_account_number(self):\n",
    "        return self.__account_number\n",
    "    \n",
    "    def depositing(self,depositing_money):\n",
    "        \n",
    "        if depositing_money>0:\n",
    "            self.__balance +=depositing_money\n",
    "            return self.__balance\n",
    "        else:\n",
    "            return \"invalid deposit amount\"\n",
    "    \n",
    "    def withdraw(self,withdraw_money):\n",
    "        if 0<withdraw_money<=self.__balance:\n",
    "            self.__balance -= withdraw_money\n",
    "            return f\"withdrawn{withdraw_money},available balance {self.__balance}\"\n",
    "        else:\n",
    "            \"invalid withdrawn amount\"\n",
    "        \n",
    "    \n",
    "    \n",
    "bank = BankAccount(180000,12345)\n",
    "print(bank.depositing(10000))\n",
    "print(bank.withdraw(10000))\n",
    "print(bank.get_balance())   ################ accessing private variable using public\n",
    "print(bank.get_account_number())\n",
    "print(bank._BankAccount__balance)  #####accessing private variable using mangling\n"
   ]
  },
  {
   "cell_type": "markdown",
   "id": "c3f7dfb0-193e-459d-b9e4-0405a1345984",
   "metadata": {},
   "source": [
    "11. Create a Python class hierarchy for a school system, including classes for students, teachers, and courses, \n",
    "and implement encapsulation principles to protect sensitive information."
   ]
  },
  {
   "cell_type": "code",
   "execution_count": 51,
   "id": "5a081dc1-e2ca-4684-81ae-096585ffa437",
   "metadata": {},
   "outputs": [
    {
     "name": "stdout",
     "output_type": "stream",
     "text": [
      "Enrolled courses: [{'course_name': 'python', 'course_id': 213, 'fees': 15000}]\n",
      "Courses taught: [{'course_name': 'python', 'course_id': 213, 'fees': 15000}]\n",
      "Student Info: {'id': 2, 'name': 'vamshi', 'dob': 2000}\n",
      "Teacher Info: {'t_id': 1, 't_name': 'priya', 'subject': 'ds'}\n",
      "Course Info: {'course_name': 'python', 'course_id': 213, 'fees': 15000}\n"
     ]
    }
   ],
   "source": [
    "class students:\n",
    "    def __init__(self, id, name, dob):\n",
    "        self.__id = id\n",
    "        self.__name = name\n",
    "        self.__dob = dob\n",
    "        self.__course = []\n",
    "\n",
    "    def get_student_details(self):\n",
    "        return {\"id\": self.__id, \"name\": self.__name, \"dob\": self.__dob}\n",
    "\n",
    "    def enroll_courses(self, course):\n",
    "        self.__course.append(course)\n",
    "\n",
    "    def get_course(self):\n",
    "        return self.__course\n",
    "\n",
    "class teachers:\n",
    "    def __init__(self, t_id, t_name, subject):\n",
    "        self.__t_id = t_id\n",
    "        self.__t_name = t_name\n",
    "        self.__subject = subject\n",
    "        self.__courses_taught = []\n",
    "\n",
    "    def get_teacher_details(self):\n",
    "        return {\"t_id\": self.__t_id, \"t_name\": self.__t_name, \"subject\": self.__subject}\n",
    "\n",
    "    def course(self, course):\n",
    "        self.__courses_taught.append(course)\n",
    "\n",
    "    def get_course(self):\n",
    "        return self.__courses_taught\n",
    "\n",
    "class courses:\n",
    "    def __init__(self, c_name, c_id, fees):\n",
    "        self.__c_name = c_name\n",
    "        self.__c_id = c_id\n",
    "        self.__fees = fees\n",
    "\n",
    "    def course_info(self):\n",
    "        return {\"course_name\": self.__c_name, \"course_id\": self.__c_id, \"fees\": self.__fees}\n",
    "\n",
    "student = students(2, \"vamshi\", 2000)\n",
    "teacher = teachers(1, \"priya\", \"ds\")\n",
    "course = courses(\"python\", 213, 15000)\n",
    "\n",
    "student.enroll_courses(course)\n",
    "print(\"Enrolled courses:\", [course.course_info() for course in student.get_course()])\n",
    "\n",
    "teacher.course(course)\n",
    "print(\"Courses taught:\", [course.course_info() for course in teacher.get_course()])\n",
    "\n",
    "print(\"Student Info:\", student.get_student_details())\n",
    "print(\"Teacher Info:\", teacher.get_teacher_details())\n",
    "print(\"Course Info:\", course.course_info())\n"
   ]
  },
  {
   "cell_type": "markdown",
   "id": "24f30da6-8f75-4e61-b7cd-745fa23a6270",
   "metadata": {},
   "source": [
    "12. Explain the concept of property decorators in Python and how they relate to encapsulation.\n"
   ]
  },
  {
   "cell_type": "code",
   "execution_count": null,
   "id": "23937843-4670-4adc-8826-a7160f3efe21",
   "metadata": {},
   "outputs": [],
   "source": [
    "Property decorators in Python are a mechanism for controlling the access, modification, and validation of class attributes. \n",
    "They are used to define getter and setter methods for class attributes in a way that appears as if you are directly accessing or modifying the attribute, \n",
    "but you can add custom logic to control the process. Property decorators play a significant role in encapsulation by allowing you to hide the underlying implementation details\n",
    "and enforce data integrity.\n",
    "\n",
    "There are three primary property decorators in Python:\n",
    "\n",
    "@property: This decorator is used for defining a getter method. It allows you to access the attribute's value as if it were a direct attribute, \n",
    "while still executing custom logic when accessing the attribute.\n",
    "\n",
    "@attribute_name.setter: This decorator is used for defining a setter method. It allows you to modify the attribute's value as if it were a direct attribute assignment,\n",
    "while enabling you to validate or manipulate the new value before setting it.\n",
    "\n",
    "@attribute_name.deleter: This decorator is used for defining a deleter method. It enables you to control what happens when you use the del statement to delete the attribute."
   ]
  },
  {
   "cell_type": "markdown",
   "id": "2614feae-b766-4d1c-8b25-b1c2d0438f54",
   "metadata": {},
   "source": [
    "13. What is data hiding, and why is it important in encapsulation? Provide examples.\n"
   ]
  },
  {
   "cell_type": "code",
   "execution_count": null,
   "id": "602d4338-9220-493c-bba6-4457cee30d4c",
   "metadata": {},
   "outputs": [],
   "source": [
    "Data hiding, also known as information hiding, is a fundamental concept in encapsulation. It involves restricting direct access to the internal data or attributes of an object from \n",
    "external code. Instead, access to this data is provided through well-defined interfaces, typically in the form of getter and setter methods, which encapsulate the data and protect it \n",
    "from unintended modification.\n",
    "\n",
    "Data hiding is essential in encapsulation for the following reasons:\n",
    "\n",
    "1. Controlled Access: By encapsulating data, you can control how it is accessed and modified. This allows you to enforce rules, validations, and restrictions on the data, ensuring \n",
    "its integrity and consistency.\n",
    "\n",
    "2. Abstraction: Data hiding provides an abstracted view of the object, where the internal details are hidden. This abstraction simplifies how external code interacts with the object,\n",
    "making it more understandable and reducing complexity.\n",
    "3. Flexibility: It allows you to change the internal representation of data without affecting the external code that relies on the object. As long as the interface (getter and setter\n",
    "methods) remains the same, the internal implementation can change.\n",
    "\n",
    "4. Security: By restricting direct access to sensitive or critical data, data hiding enhances security. It prevents unauthorized access and manipulation of data, safeguarding the \n",
    "object's integrity.\n",
    "\n"
   ]
  },
  {
   "cell_type": "code",
   "execution_count": 109,
   "id": "f8e93c13-87a9-49d5-a4dc-f9c47013d3e3",
   "metadata": {},
   "outputs": [
    {
     "name": "stdout",
     "output_type": "stream",
     "text": [
      "Initial Balance: $1000.0\n",
      "Deposited $500. New balance: $1500.0\n",
      "Withdrew $200. New balance: $1300.0\n"
     ]
    }
   ],
   "source": [
    "#Here's an example of data hiding in Python:\n",
    "\n",
    "'''In this example, the `BankAccount` class encapsulates the `__balance` attribute and restricts direct access to it. \n",
    "External code can access and modify the balance only through the `get_balance`, `deposit`, and `withdraw` methods, which enforce rules and maintain data integrity. \n",
    "This is a demonstration of data hiding within encapsulation.'''\n",
    "\n",
    "class BankAccount:\n",
    "    def __init__(self, account_number, initial_balance=0.0):\n",
    "        self.__account_number = account_number  # Private attribute\n",
    "        self.__balance = initial_balance  # Private attribute\n",
    "\n",
    "    def get_balance(self):\n",
    "        return self.__balance  # Getter method for balance\n",
    "\n",
    "    def deposit(self, amount):\n",
    "        if amount > 0:\n",
    "            self.__balance += amount  # Modifying balance through a setter method\n",
    "            return f\"Deposited ${amount}. New balance: ${self.__balance}\"\n",
    "        else:\n",
    "            return \"Invalid deposit amount. Please deposit a positive amount.\"\n",
    "\n",
    "    def withdraw(self, amount):\n",
    "        if 0 < amount <= self.__balance:\n",
    "            self.__balance -= amount  # Modifying balance through a setter method\n",
    "            return f\"Withdrew ${amount}. New balance: ${self.__balance}\"\n",
    "        else:\n",
    "            return \"Invalid withdrawal amount or insufficient balance.\"\n",
    "\n",
    "# Creating a BankAccount object\n",
    "my_account = BankAccount(\"12345\", 1000.0)\n",
    "\n",
    "# Accessing balance and performing transactions through methods\n",
    "print(f\"Initial Balance: ${my_account.get_balance()}\")\n",
    "print(my_account.deposit(500))\n",
    "print(my_account.withdraw(200))\n",
    "\n",
    "\n"
   ]
  },
  {
   "cell_type": "markdown",
   "id": "2765af82-7ccc-4c02-882a-cbc838f7e32d",
   "metadata": {},
   "source": [
    "14. Python class called `Employee` with private attributes for salary (`__salary`) and employee ID (`__employee_id`). Provide a method to calculate yearly bonuses."
   ]
  },
  {
   "cell_type": "code",
   "execution_count": 20,
   "id": "37b1476d-0165-49cf-82cb-6789cc3eae6b",
   "metadata": {},
   "outputs": [
    {
     "name": "stdout",
     "output_type": "stream",
     "text": [
      "100.0\n",
      "1000\n"
     ]
    }
   ],
   "source": [
    "class Employee:\n",
    "    def __init__(self,employee_ID):\n",
    "        self.__salary = 1000\n",
    "        self.__employee_ID = employee_ID\n",
    "    def yearly_bonuses(self):\n",
    "        bonus = (self.__salary *0.10)\n",
    "        return bonus\n",
    " \n",
    "    \n",
    "emp = Employee(\"cog123\")\n",
    "print(emp.yearly_bonuses())\n",
    "#here we cant access private variable outside class directly\n",
    "print(emp._Employee__salary)   #but we can access by using this method"
   ]
  },
  {
   "cell_type": "code",
   "execution_count": 18,
   "id": "255b7ca5-a955-4cd4-b9a8-fcd551df8e13",
   "metadata": {},
   "outputs": [
    {
     "name": "stdout",
     "output_type": "stream",
     "text": [
      "100.0\n",
      "cog123\n",
      "1000\n"
     ]
    }
   ],
   "source": [
    "#to access private variables we need to use getter \n",
    "class Employee:\n",
    "    def __init__(self,employee_ID):\n",
    "        self.__salary = 1000\n",
    "        self.__employee_ID = employee_ID\n",
    "    def yearly_bonuses(self):\n",
    "        bonus = (self.__salary *0.10)\n",
    "        return bonus\n",
    "    def get_employeeid(self):\n",
    "        return self.__employee_ID\n",
    "    def get_salary(self):\n",
    "        return self.__salary\n",
    "    \n",
    "emp = Employee(\"cog123\")\n",
    "print(emp.yearly_bonuses())\n",
    "print(emp.get_employeeid())\n",
    "print(emp.get_salary())"
   ]
  },
  {
   "cell_type": "markdown",
   "id": "bf55849b-431d-4243-877b-e439c6d6471e",
   "metadata": {},
   "source": [
    "15. Discuss the use of accessors and mutators in encapsulation. How do they help maintain control over \n",
    "attribute access?"
   ]
  },
  {
   "cell_type": "code",
   "execution_count": null,
   "id": "69411e2e-9dec-41d9-9957-b0e1e86b402e",
   "metadata": {},
   "outputs": [],
   "source": [
    "Accessors and mutators, also known as getter and setter methods, are essential components of encapsulation in object-oriented programming. \n",
    "They play a crucial role in maintaining control over attribute access and encapsulating the internal state of objects. Here's how they work and their benefits:\n",
    "\n",
    "1. Accessors (Getters):\n",
    "   - Accessors are methods used to retrieve the values of private attributes or properties of an object.\n",
    "   - They provide read-only access to the attributes, allowing external code to obtain the attribute's value without directly accessing the underlying data.\n",
    "   - Accessors can include custom logic to calculate or transform the data before returning it.\n",
    "   - Getters ensure that external code can only read the data and not modify it, preserving data integrity.\n",
    "   - Accessors are used to implement information hiding and protect the object's state from unintended modification.\n",
    "\n",
    "\n",
    "2. Mutators (Setters):\n",
    "   - Mutators are methods used to modify the values of private attributes or properties of an object.\n",
    "   - They provide controlled and validated access to the attributes, allowing external code to change the attribute's value,\n",
    "    but under certain conditions or rules defined in the setter method.\n",
    "   - Mutators can include custom logic to validate and process the new value before assigning it to the attribute.\n",
    "   - Setters ensure that attribute modifications follow the defined rules, protecting the object's state and enforcing data consistency.\n",
    "   - Mutators are used to implement encapsulation and protect the object's internal state.\n",
    "\n",
    " \n",
    "\n",
    "Accessors and mutators help maintain control over attribute access by enforcing rules, validations, and encapsulation:\n",
    "\n",
    "- Controlled Access:Accessors and mutators allow you to control how external code reads and modifies object attributes. \n",
    "This control ensures that the data remains consistent and accurate.\n",
    "\n",
    "- Data Validation: Mutators can validate incoming data and enforce rules before updating the attribute, preventing invalid or inconsistent changes to the object's state.\n",
    "\n",
    "- Encapsulation: By providing controlled access to private attributes, accessors and mutators encapsulate the object's internal state,\n",
    "preventing external code from directly accessing or modifying it.\n",
    "\n",
    "- Abstraction:Accessors and mutators create an abstraction layer that simplifies the way external code interacts with objects. \n",
    "They hide the implementation details while exposing a clear interface.\n",
    "\n",
    "- Data Integrity:Accessors and mutators help maintain the integrity of the object's data by ensuring that changes are consistent with the intended behavior of the class.\n",
    "\n",
    "Overall, accessors and mutators are fundamental tools for implementing encapsulation and ensuring that objects maintain control over how their internal data is accessed and modified."
   ]
  },
  {
   "cell_type": "markdown",
   "id": "f8a8722e-0090-4a15-bbe2-c0628f1086aa",
   "metadata": {},
   "source": [
    "16. What are the potential drawbacks or disadvantages of using encapsulation in Python?\n"
   ]
  },
  {
   "cell_type": "code",
   "execution_count": null,
   "id": "628c7e56-0f56-4783-8dfa-43560317a857",
   "metadata": {},
   "outputs": [],
   "source": [
    "Using encapsulation in Python may add complexity to your code, introduce some extra work, and potentially make your program a bit slower. \n",
    "It can also make debugging a bit more challenging. \n",
    "However, it's a helpful way to keep your data safe and organized. So, while there are some downsides, encapsulation is still a good practice."
   ]
  },
  {
   "cell_type": "markdown",
   "id": "b989a92b-2840-49bb-b004-4d21e8473919",
   "metadata": {},
   "source": [
    "17. Create a Python class for a library system that encapsulates book information, including titles, authors, \n",
    "and availability status."
   ]
  },
  {
   "cell_type": "code",
   "execution_count": 14,
   "id": "957fc0d1-9aa8-4f66-8fef-55257c496b3b",
   "metadata": {},
   "outputs": [
    {
     "name": "stdout",
     "output_type": "stream",
     "text": [
      "python\n",
      "intro to python\n",
      "pwskills\n",
      "2022\n"
     ]
    }
   ],
   "source": [
    "class libraryBook:\n",
    "    def __init__(self,book_info,title,authors,availability_status):\n",
    "        self.__book_info = book_info\n",
    "        self.__title = title\n",
    "        self.__authors = authors\n",
    "        self.__availability_status = availability_status\n",
    "    def get_bookinfo(self):\n",
    "        return self.__book_info\n",
    "    def get_title(self):\n",
    "        return self.__title\n",
    "    def get_authors(self):\n",
    "        return self.__authors\n",
    "    def get_availability_status(self):\n",
    "        return self.__availability_status\n",
    "lib = libraryBook(\"python\",\"intro to python\",\"pwskills\",\"2022\")   \n",
    "print(lib.get_bookinfo())\n",
    "print(lib.get_title())\n",
    "print(lib.get_authors())\n",
    "print(lib.get_availability_status())"
   ]
  },
  {
   "cell_type": "markdown",
   "id": "65133a3b-7fb0-4c97-ab1f-611ea0c1768c",
   "metadata": {},
   "source": [
    "18. Explain how encapsulation enhances code reusability and modularity in Python programs.\n"
   ]
  },
  {
   "cell_type": "code",
   "execution_count": null,
   "id": "e57146cb-ecb1-4476-bf11-794641f4e785",
   "metadata": {},
   "outputs": [],
   "source": [
    "Encapsulation enhances code reusability and modularity in Python by organizing code into classes, providing well-defined interfaces, and promoting code isolation. \n",
    "This allows for easier reuse, maintenance, and extensibility while simplifying testing and improving security."
   ]
  },
  {
   "cell_type": "markdown",
   "id": "fec2edfc-62b7-4cb8-bd7a-ead1f77ace8a",
   "metadata": {},
   "source": [
    "19. Describe the concept of information hiding in encapsulation. Why is it essential in software development?\n"
   ]
  },
  {
   "cell_type": "code",
   "execution_count": null,
   "id": "1902bdba-b5a5-47c5-9e2b-d17420ff8715",
   "metadata": {},
   "outputs": [],
   "source": [
    "Information hiding, also known as data hiding, is a fundamental concept in encapsulation that involves restricting the access to certain details or\n",
    "implementation-specific aspects of an object while exposing a well-defined and controlled interface for interacting with that object. In other words, \n",
    "it's the practice of concealing the internal workings of an object and exposing only the necessary information to the outside world.\n",
    "\n",
    "The key elements of information hiding in encapsulation are:\n",
    "\n",
    "1. Private Attributes and Methods: You mark certain attributes and methods of a class as private, often by prefixing their names \n",
    "with double underscores (e.g., `__private_attribute`). These private elements are intended to be used only within the class itself and are hidden from external code.\n",
    "\n",
    "2. Public Interface: You provide a well-defined public interface to the class, consisting of methods that allow external code to interact with the object. \n",
    "This interface hides the implementation details while exposing only the methods that are meant to be used by external code.\n",
    "\n",
    "The importance of information hiding in software development includes:\n",
    "\n",
    "1. Abstraction: Information hiding abstracts the internal complexity of an object, making it easier for other developers to use the \n",
    "object without needing to understand its intricate details. This simplifies code consumption and promotes a high-level understanding of how to use an object.\n",
    "\n",
    "2. Modularity: By isolating the implementation details within the class and exposing only a controlled interface, you create modules that can be independently developed, tested, \n",
    "and maintained. This enhances modularity in your software, making it easier to manage and extend.\n",
    "\n",
    "3. Security: It enhances the security of your code by preventing unauthorized access or modification of internal data. Private attributes and methods are hidden \n",
    "from external code, reducing the risk of unintended side effects or security vulnerabilities.\n",
    "\n",
    "4. Maintenance: Changes to the internal implementation of a class can be made without affecting external code that uses the class, as long as the public interface remains consistent.\n",
    "This simplifies maintenance and reduces the risk of introducing new bugs when making updates.\n",
    "\n",
    "5. Testing: Information hiding makes it easier to write unit tests for individual classes or components in isolation. This facilitates debugging and ensures that the \n",
    "class's behavior is thoroughly tested.\n",
    "\n",
    "6. Encapsulation: Information hiding is a key aspect of encapsulation. By combining private attributes and a well-defined public interface, it ensures that objects maintain \n",
    "control over their internal state and behavior.\n",
    "\n",
    "In summary, information hiding is essential in software development because it promotes abstraction, modularity, security, maintenance, and testing. It contributes to the overall \n",
    "quality and maintainability of software systems and fosters a more robust and collaborative development process."
   ]
  },
  {
   "cell_type": "markdown",
   "id": "4f88b32c-d4d5-4492-9838-2351ab1c20c9",
   "metadata": {},
   "source": [
    "20. Create a Python class called `Customer` with private attributes for customer details like name, address, \n",
    "and contact information. Implement encapsulation to ensure data integrity and security"
   ]
  },
  {
   "cell_type": "code",
   "execution_count": 23,
   "id": "a64e118c-f1d8-4333-8e70-6285dcc1b5ba",
   "metadata": {},
   "outputs": [
    {
     "name": "stdout",
     "output_type": "stream",
     "text": [
      "hyd\n",
      "123\n",
      "vamshi\n",
      "priya\n",
      "Banglore\n",
      "234\n"
     ]
    }
   ],
   "source": [
    "class Customer:\n",
    "    def __init__(self,name,address,contact_information):\n",
    "        self.__name = name\n",
    "        self.__address = address\n",
    "        self.__contact_information = contact_information\n",
    "        \n",
    "    def get_name(self):\n",
    "        return self.__name\n",
    "    def get_address(self):\n",
    "        return self.__address\n",
    "    def get_contact_information(self):\n",
    "        return self.__contact_information\n",
    "    def set_name(self, new_name):\n",
    "        if new_name:\n",
    "            self.__name = new_name  \n",
    "\n",
    "    def set_address(self, new_address):\n",
    "        if new_address:\n",
    "            self.__address = new_address \n",
    "\n",
    "    def set_contact_information(self, new_contact_info):\n",
    "        if new_contact_info:\n",
    "            self.__contact_information = new_contact_info \n",
    "            \n",
    "cust = Customer(\"vamshi\",\"hyd\",\"123\")\n",
    "print(cust.get_address())\n",
    "print(cust.get_contact_information())\n",
    "print(cust.get_name())\n",
    "cust.set_name(\"priya\")\n",
    "cust.set_address(\"Banglore\")\n",
    "cust.set_contact_information(\"234\")\n",
    "print(cust.get_name())\n",
    "print(cust.get_address())\n",
    "print(cust.get_contact_information())"
   ]
  },
  {
   "cell_type": "markdown",
   "id": "1b2c9c1b-d66a-4abb-bdc5-80f4c41c1dea",
   "metadata": {},
   "source": [
    "POLYMORPHISM-----needs coomon method typically a base CLASS"
   ]
  },
  {
   "cell_type": "code",
   "execution_count": null,
   "id": "8f797ebe-ac68-47d1-bd3d-c42bd0dc9b21",
   "metadata": {},
   "outputs": [],
   "source": []
  },
  {
   "cell_type": "markdown",
   "id": "d7bd2df8-518a-499e-8d64-527671fc191c",
   "metadata": {},
   "source": [
    "1. What is polymorphism in Python? Explain how it is related to object-oriented programming.\n"
   ]
  },
  {
   "cell_type": "code",
   "execution_count": null,
   "id": "afb598f0-8329-461e-b75b-2cf80d1ca7ce",
   "metadata": {},
   "outputs": [],
   "source": [
    "Polymorphism is a fundamental concept in object-oriented programming (OOP) and is closely related to the principle of inheritance and the ability of different objects to respond to the \n",
    "same method or function call in a way that is specific to their individual class. \n",
    "In Python, polymorphism allows objects of different classes to be treated as objects of a common superclass. \n",
    "It enables you to write code that can work with different types of objects in a consistent and flexible manner.\n",
    "\n",
    "Polymorphism in Python is primarily achieved through two mechanisms:\n",
    "\n",
    "Method Overriding: Inheritance allows a subclass to provide a specific implementation for a method that is already defined in its superclass. \n",
    "This is called method overriding. Subclasses can override methods to tailor their behavior to their specific needs while maintaining a common interface with the superclass.\n",
    "\n",
    "Duck Typing: Python follows a dynamic typing system and allows objects to be used based on their behavior rather than their specific class or type. \n",
    "This is often referred to as \"duck typing.\" \n",
    "If an object behaves like a particular type, it's treated as that type, even if it doesn't inherit from it explicitly.\n",
    "\n",
    "Polymorphism is essential in OOP because it promotes code reusability and flexibility. It allows you to work with objects at a higher level of abstraction, \n",
    "which makes your code more maintainable and adaptable to changes. \n",
    "By focusing on the common interfaces provided by classes, rather than their specific implementations, you can write more generic and extensible code."
   ]
  },
  {
   "cell_type": "markdown",
   "id": "c301c47f-2447-426b-ac39-c898e7f024f3",
   "metadata": {},
   "source": [
    "2. Describe the difference between compile-time polymorphism and runtime polymorphism in Python.\n"
   ]
  },
  {
   "cell_type": "code",
   "execution_count": null,
   "id": "20ee0b54-2428-4e28-b91d-838795a0cbfe",
   "metadata": {},
   "outputs": [],
   "source": [
    "In Python, there is no direct concept of \"compile-time polymorphism\" due to its dynamic typing. The language relies on \"runtime polymorphism,\" \n",
    "where the method to call is determined at runtime based on the object's actual class and method overriding."
   ]
  },
  {
   "cell_type": "markdown",
   "id": "75be7355-ed76-4a46-b38b-6e55f5d7fce2",
   "metadata": {},
   "source": [
    "3. Create a Python class hierarchy for shapes (e.g., circle, square, triangle) and demonstrate polymorphism \n",
    " through a common method, such as `calculate_area()`."
   ]
  },
  {
   "cell_type": "code",
   "execution_count": 42,
   "id": "515c7ff5-15b9-434b-8035-55633ff77bfe",
   "metadata": {},
   "outputs": [
    {
     "name": "stdout",
     "output_type": "stream",
     "text": [
      "16\n",
      "157.0\n",
      "20\n"
     ]
    }
   ],
   "source": [
    "class shapes:\n",
    "    def calculate_area(self):\n",
    "        pass\n",
    "class circle(shapes):\n",
    "    def calculate_area(self,radius):\n",
    "        return 2*3.14*radius**2\n",
    "class square(shapes):\n",
    "    def calculate_area(self,side):\n",
    "        return side*side\n",
    "class triangle(shapes):\n",
    "    def calculate_area(self,base,height):\n",
    "        return base*height\n",
    "c = circle()\n",
    "s = square()\n",
    "r = triangle()\n",
    "print(s.calculate_area(4))\n",
    "print(c.calculate_area(5))\n",
    "print(r.calculate_area(5,4))  #first time"
   ]
  },
  {
   "cell_type": "markdown",
   "id": "fe76ddd6-1b8b-475e-afee-ff0e389042fc",
   "metadata": {},
   "source": [
    "4.Explain concept of method overriding and give example"
   ]
  },
  {
   "cell_type": "markdown",
   "id": "68156049-5c88-4e8d-8afe-91864fcab84a",
   "metadata": {},
   "source": [
    "Method overriding is a concept in object-oriented programming where a subclass provides a specific implementation for a method that is already defined in its superclass. \n",
    "This allows objects of the subclass to respond to method calls in a way that is tailored to their individual class, while still maintaining a common method signature with the superclass.\n",
    "\n",
    "Key points about method overriding:\n",
    "\n",
    "1. The method in the subclass must have the same name, return type, and parameters (method signature) as the method in the superclass.\n",
    "\n",
    "2. The purpose of method overriding is to provide a more specialized or customized behavior for the method in the subclass.\n",
    "\n",
    "3. When a method is called on an object, the runtime environment determines which implementation of the method to execute based on the actual class of the object.\n",
    "\n"
   ]
  },
  {
   "cell_type": "code",
   "execution_count": 110,
   "id": "09d0509b-1080-4658-9cc3-f0e4c0ca21d0",
   "metadata": {},
   "outputs": [
    {
     "name": "stdout",
     "output_type": "stream",
     "text": [
      "Woof!\n",
      "Meow!\n"
     ]
    }
   ],
   "source": [
    "#Here's an example in Python:\n",
    "\n",
    "\n",
    "class Animal:\n",
    "    def speak(self):\n",
    "        return \"Animal makes a sound\"\n",
    "\n",
    "class Dog(Animal):\n",
    "    def speak(self):\n",
    "        return \"Woof!\"\n",
    "\n",
    "class Cat(Animal):\n",
    "    def speak(self):\n",
    "        return \"Meow!\"\n",
    "\n",
    "my_dog = Dog()\n",
    "my_cat = Cat()\n",
    "\n",
    "\n",
    "print(my_dog.speak())  \n",
    "print(my_cat.speak())  "
   ]
  },
  {
   "cell_type": "markdown",
   "id": "04bb4e42-fb77-40e3-b7f2-f35a49206b1c",
   "metadata": {},
   "source": [
    "5. How is polymorphism different from method overloading in Python? Provide examples for both.\n"
   ]
  },
  {
   "cell_type": "raw",
   "id": "152ecb4d-2247-4a71-bf72-b6fa9a0f2812",
   "metadata": {},
   "source": [
    "Polymorphism and method overloading are related concepts in object-oriented programming, but they serve different purposes and have different implementations in Python.\n",
    "\n",
    "Polymorphism:\n",
    "- Polymorphism is a fundamental OOP concept that allows objects of different classes to be treated as objects of a common superclass.\n",
    "- It enables objects to respond to the same method or function call in a way that is specific to their individual class. This is achieved through method overriding.\n",
    "- In Python, polymorphism is typically achieved through method overriding, where a subclass provides a specific implementation for a method defined in its superclass.\n",
    "\n",
    "Method Overloading:\n",
    "- Method overloading is a concept related to having multiple methods with the same name within a class, but with different parameters (method signatures).\n",
    "- In some programming languages, like Java or C++, method overloading is used to create multiple methods with the same name but different parameter lists.\n",
    "- In Python, method overloading is not directly supported because Python allows you to define multiple functions or methods with the same name, but only the\n",
    "latest defined method is kept, and it's not based on the parameter list.\n",
    "\n",
    "In Python, if you define multiple methods with the same name, the latest defined method with that name will overwrite the previous ones, and the method to call is \n",
    "determined solely by the method signature of the latest definition, not based on the parameter list as in some other languages.\n",
    "\n",
    "To achieve method overloading-like behavior in Python, you can use default parameter values or use variable-length argument lists (e.g., `*args` and `**kwargs`) to \n",
    "handle different sets of arguments within a single method."
   ]
  },
  {
   "cell_type": "code",
   "execution_count": 111,
   "id": "7016cef9-e676-4e15-b8a6-56082970113c",
   "metadata": {},
   "outputs": [
    {
     "name": "stdout",
     "output_type": "stream",
     "text": [
      "Woof!\n",
      "Meow!\n",
      "Method with two parameters: Hello and World\n"
     ]
    }
   ],
   "source": [
    "#Example of polymorphism in Python (method overriding):\n",
    "\n",
    "class Animal:\n",
    "    def speak(self):\n",
    "        pass\n",
    "\n",
    "class Dog(Animal):\n",
    "    def speak(self):\n",
    "        return \"Woof!\"\n",
    "\n",
    "class Cat(Animal):\n",
    "    def speak(self):\n",
    "        return \"Meow!\"\n",
    "\n",
    "my_dog = Dog()\n",
    "my_cat = Cat()\n",
    "\n",
    "print(my_dog.speak()) \n",
    "print(my_cat.speak()) \n",
    "\n",
    "#Example in Python (not method overloading, but multiple methods with the same name):\n",
    "\n",
    "class MyClass:\n",
    "    def my_method(self, param1):\n",
    "        return f\"Method with one parameter: {param1}\"\n",
    "\n",
    "    def my_method(self, param1, param2):\n",
    "        return f\"Method with two parameters: {param1} and {param2}\"\n",
    "\n",
    "obj = MyClass()\n",
    "\n",
    "result = obj.my_method(\"Hello\", \"World\")\n",
    "print(result) "
   ]
  },
  {
   "cell_type": "markdown",
   "id": "a78da1c1-de8d-409d-9c4f-7f9d79e99648",
   "metadata": {},
   "source": [
    "6. Create a Python class called `Animal` with a method `speak()`. Then, create child classes like `Dog`, `Cat`, and `Bird`, each with their own `speak()` method. \n",
    "Demonstrate polymorphism by calling the `speak()` method on objects of different subclasses."
   ]
  },
  {
   "cell_type": "code",
   "execution_count": 3,
   "id": "0d20874e-98c8-4370-a377-03daf3bd4d8d",
   "metadata": {},
   "outputs": [
    {
     "name": "stdout",
     "output_type": "stream",
     "text": [
      "bow bow\n",
      "meow\n",
      "chirps\n"
     ]
    }
   ],
   "source": [
    "class Animal:\n",
    "    def speak(self):\n",
    "        return \"animal sound\"\n",
    "class Dog(Animal):\n",
    "    def speak(self):\n",
    "        return \"bow bow\"\n",
    "class Cat(Animal):\n",
    "    def speak(self):\n",
    "        return \"meow\"\n",
    "class Bird(Animal):\n",
    "    def speak(self):\n",
    "        return \"chirps\"\n",
    "\n",
    "dog = Dog()\n",
    "cat = Cat()\n",
    "bird = Bird()\n",
    "print(dog.speak())\n",
    "print(cat.speak())\n",
    "print(bird.speak())"
   ]
  },
  {
   "cell_type": "markdown",
   "id": "ca4edf44-4283-49da-8c36-1d4a22669d7f",
   "metadata": {},
   "source": [
    "7. Discuss the use of abstract methods and classes in achieving polymorphism in Python. Provide an example \n",
    "using the `abc` module."
   ]
  },
  {
   "cell_type": "code",
   "execution_count": null,
   "id": "742320ee-5a32-415f-9581-15112d7f459c",
   "metadata": {},
   "outputs": [],
   "source": [
    "Abstract methods and classes in Python, using the `abc` module, enforce a common interface. \n",
    "Abstract classes can't be instantiated and include methods that must be implemented by subclasses. \n",
    "This ensures consistent behavior across related classes, promoting polymorphism. \n"
   ]
  },
  {
   "cell_type": "code",
   "execution_count": 112,
   "id": "66e88b6b-a89e-40cf-8a83-3401414e6b55",
   "metadata": {},
   "outputs": [],
   "source": [
    "#Example:\n",
    "from abc import ABC, abstractmethod\n",
    "\n",
    "class Shape(ABC):\n",
    "    @abstractmethod\n",
    "    def area(self): pass"
   ]
  },
  {
   "cell_type": "markdown",
   "id": "2cbe8683-5090-4f50-b86f-e5c4cb53ce92",
   "metadata": {},
   "source": [
    "8. Create a Python class hierarchy for a vehicle system (e.g., car, bicycle, boat) and implement a polymorphic `start()` method that prints a message specific to each vehicle type."
   ]
  },
  {
   "cell_type": "code",
   "execution_count": 9,
   "id": "eb4486b5-1d5e-409b-910b-0d38eb762ed2",
   "metadata": {},
   "outputs": [
    {
     "name": "stdout",
     "output_type": "stream",
     "text": [
      "car starts\n",
      "bicycle starts\n",
      "boat starts\n"
     ]
    }
   ],
   "source": [
    "class vehicleSystem:\n",
    "    def start(self):\n",
    "        return \" vehicle starts\"\n",
    "class Car(vehicleSystem):\n",
    "    def start(self):\n",
    "        return \"car starts\"\n",
    "class Bicycle(vehicleSystem):\n",
    "    def start(self):\n",
    "        return \"bicycle starts\"\n",
    "class Boat(vehicleSystem):\n",
    "    def start(self):\n",
    "        return \"boat starts\"\n",
    "\n",
    "car = Car()\n",
    "bicycle = Bicycle()\n",
    "boat = Boat()\n",
    "print(car.start())\n",
    "print(bicycle.start())\n",
    "print(boat.start())"
   ]
  },
  {
   "cell_type": "markdown",
   "id": "e93c53b6-8ab4-4194-b2d6-bae72ddb981a",
   "metadata": {},
   "source": [
    "9. Explain the significance of the `isinstance()` and `issubclass()` functions in Python polymorphism."
   ]
  },
  {
   "cell_type": "code",
   "execution_count": null,
   "id": "c36aa355-074c-478f-a0ec-9741aff01ce8",
   "metadata": {},
   "outputs": [],
   "source": [
    "\n",
    "isinstance() Function:\n",
    "\n",
    "Significance: Determines whether an object is an instance of a particular class or a tuple of classes. \n",
    "It's crucial in polymorphism for checking if an object adheres to a specific interface or is of a certain type before performing operations.\n",
    "issubclass() Function:\n",
    "\n",
    "Significance: Checks if a class is a subclass of another class. This is essential in polymorphism to verify if a given class \n",
    "inherits from a particular base class, ensuring compatibility and adherence to a shared interface."
   ]
  },
  {
   "cell_type": "markdown",
   "id": "4549d11f-f94f-4f75-8fd6-c5362e820131",
   "metadata": {},
   "source": [
    "10. What is the role of the `@abstractmethod` decorator in achieving polymorphism in Python? Provide an \n",
    "example"
   ]
  },
  {
   "cell_type": "code",
   "execution_count": null,
   "id": "228c339c-15c7-4eee-a796-53ac37c176b6",
   "metadata": {},
   "outputs": [],
   "source": [
    "The `@abstractmethod` decorator in Python, often used in conjunction with the `ABC` (Abstract Base Class) module, \n",
    "is crucial for achieving polymorphism by defining abstract methods in abstract classes. Abstract methods are methods declared in \n",
    "the base class but without an implementation. Subclasses are then required to provide their own implementations, \n",
    "ensuring a common interface across different classes.\n"
   ]
  },
  {
   "cell_type": "code",
   "execution_count": 113,
   "id": "ae40ffde-a7da-4eda-9853-84027efc2620",
   "metadata": {},
   "outputs": [
    {
     "name": "stdout",
     "output_type": "stream",
     "text": [
      "Area: 78.5\n",
      "Area: 16\n"
     ]
    }
   ],
   "source": [
    "#Here's an example:\n",
    "'''In this example, the `Shape` class declares an abstract method `area()` using the `@abstractmethod` decorator. \n",
    "The `Circle` and `Square` classes then provide their own implementations of the `area` method. \n",
    "The `print_area` function can take any object of type `Shape` (or its subclasses), demonstrating polymorphism \n",
    "as it works with different shapes without knowing their specific types.'''\n",
    "\n",
    "from abc import ABC, abstractmethod\n",
    "\n",
    "# Abstract class with an abstract method\n",
    "class Shape(ABC):\n",
    "    @abstractmethod\n",
    "    def area(self):\n",
    "        pass\n",
    "\n",
    "# Concrete classes implementing the abstract method\n",
    "class Circle(Shape):\n",
    "    def __init__(self, radius):\n",
    "        self.radius = radius\n",
    "\n",
    "    def area(self):\n",
    "        return 3.14 * self.radius * self.radius\n",
    "\n",
    "class Square(Shape):\n",
    "    def __init__(self, side):\n",
    "        self.side = side\n",
    "\n",
    "    def area(self):\n",
    "        return self.side * self.side\n",
    "\n",
    "# Function demonstrating polymorphism\n",
    "def print_area(shape):\n",
    "    print(f\"Area: {shape.area()}\")\n",
    "\n",
    "# Instances of concrete classes\n",
    "circle = Circle(5)\n",
    "square = Square(4)\n",
    "\n",
    "# Polymorphic behavior in action\n",
    "print_area(circle)  # Output: Area: 78.5\n",
    "print_area(square)  # Output: Area: 16\n"
   ]
  },
  {
   "cell_type": "markdown",
   "id": "6f20eeec-b91e-46cc-8b78-7858fb0336e0",
   "metadata": {},
   "source": [
    "11. Create a Python class called `Shape` with a polymorphic method `area()` that calculates the area of different shapes (e.g., circle, rectangle, triangle)."
   ]
  },
  {
   "cell_type": "code",
   "execution_count": 14,
   "id": "51f98cf5-ca85-4f55-b536-e85c948e6fd5",
   "metadata": {},
   "outputs": [
    {
     "name": "stdout",
     "output_type": "stream",
     "text": [
      "19625.0\n",
      "20\n",
      "7.5\n"
     ]
    }
   ],
   "source": [
    "import math\n",
    "class Shape:\n",
    "    def __init__(self):\n",
    "        pass\n",
    "    def area(self):\n",
    "        pass\n",
    "    \n",
    "class Circle(Shape):\n",
    "    def __init__(self,radius):\n",
    "        self.radius = radius\n",
    "    def area(self):\n",
    "        area = 2*3.14*self.radius**self.radius\n",
    "        return area\n",
    "        \n",
    "class Rectangle(Shape):\n",
    "    def __init__(self,width,height):\n",
    "        self.width = width\n",
    "        self.height = height\n",
    "    def area(self):\n",
    "        area = self.width*self.height\n",
    "        return area\n",
    "        \n",
    "class Triangle(Shape):\n",
    "    def __init__(self,base,height):\n",
    "        self.base = base\n",
    "        self.height = height\n",
    "    def area(self):\n",
    "        area = 0.5*self.base *self.height\n",
    "        return area\n",
    "\n",
    "circle = Circle(5)\n",
    "rectangle = Rectangle(5,4)\n",
    "triangle = Triangle(5,3)\n",
    "print(circle.area())\n",
    "print(rectangle.area())\n",
    "print(triangle.area())"
   ]
  },
  {
   "cell_type": "markdown",
   "id": "e3c95a88-6231-4df4-ad58-5ed680e7e9c8",
   "metadata": {},
   "source": [
    "12. Discuss the benefits of polymorphism in terms of code reusability and flexibility in Python programs.\n"
   ]
  },
  {
   "cell_type": "code",
   "execution_count": null,
   "id": "625e8832-acaa-46bf-923c-6a32643cf592",
   "metadata": {},
   "outputs": [],
   "source": [
    "Polymorphism in Python offers several benefits in terms of code reusability and flexibility:\n",
    "\n",
    "1. Code Reusability:\n",
    "   - Interface Consistency: Polymorphism allows different classes to implement a common interface (via abstract classes or \n",
    "                                                                                                       shared methods), \n",
    "    promoting a consistent structure across the codebase.\n",
    "   - Generic Functions: Functions that operate on objects of a common base type can be written without needing to \n",
    "know the specific subtype, making the code more generic and reusable.\n",
    "\n",
    "2. Flexibility:\n",
    "   - Easy Extension:New classes can be added without modifying existing code. As long as they adhere to the common interface, they seamlessly integrate with the existing code,\n",
    "promoting an open/closed principle in software design.\n",
    "   - Adaptability: Polymorphism allows objects to be treated at a higher level of abstraction, providing flexibility in handling various types without the need for detailed knowledge \n",
    "    about their implementations.\n",
    "\n",
    "3. Reduced Code Redundancy:\n",
    "   - hared Interfaces: Polymorphism encourages the definition of shared interfaces, reducing the need for duplicate code. Common functionality can be implemented in base classes, and \n",
    "specific behavior can be overridden in subclasses.\n",
    "   - Avoidance of Type Checking: Polymorphism enables code to rely on abstract types and interfaces, reducing the need for explicit type checking. This makes the code more adaptable to\n",
    "    changes and simplifies maintenance.\n",
    "    \n",
    "4. Enhanced Readability:\n",
    "   - Clearer Intent: Code that utilizes polymorphism often expresses the intent more clearly. By relying on shared interfaces, the purpose of different classes becomes evident, \n",
    "enhancing the readability of the code.\n",
    "   - Simpler Client Code: Client code that uses polymorphic objects can be simpler, as it deals with objects at a higher level of abstraction. This results in code that is easier to \n",
    "    understand and maintain.\n",
    "\n",
    "5. Dynamic Binding:\n",
    "   - Run-Time Flexibility: Polymorphism in Python is achieved through dynamic binding. This means that the method calls are resolved at runtime based on the actual type of the object. \n",
    "This provides flexibility and adaptability at runtime.\n",
    "\n",
    "In summary, polymorphism in Python promotes code reusability by encouraging shared interfaces and enhances flexibility by allowing for easy extension and adaptability to new classes. \n",
    "It contributes to more maintainable, readable, and adaptable code, making it a valuable aspect of object-oriented programming."
   ]
  },
  {
   "cell_type": "markdown",
   "id": "46403c4f-a5d5-478a-a8f9-0eb5e0a47d54",
   "metadata": {},
   "source": [
    "13. Explain the use of the `super()` function in Python polymorphism. How does it help call methods of parent \n",
    "classes?"
   ]
  },
  {
   "cell_type": "code",
   "execution_count": null,
   "id": "78f2c9d6-bf9c-45d0-a280-ffa5c37155b0",
   "metadata": {},
   "outputs": [],
   "source": [
    "In Python, the `super()` function is used in the context of inheritance to call methods of a parent or superclass. It provides a way to invoke methods from the superclass within a subclass, allowing for code reuse and facilitating polymorphic behavior.\n",
    "\n",
    "Here's how `super()` works and why it's useful:\n",
    "\n",
    "1. Calling Superclass Methods:\n",
    "   - When a method is overridden in a subclass, using `super()` allows you to call the method from the superclass with the same name. \n",
    "This is particularly useful when you want to extend the behavior of the parent class's method in the subclass.\n",
    "\n",
    "2. Maintaining Method Resolution Order (MRO):\n",
    "   - `super()` ensures that methods are called in the order specified by the Method Resolution Order (MRO). \n",
    "The MRO defines the sequence in which base classes are searched when looking for a method. It helps in resolving ambiguities and ensures a consistent method lookup order.\n",
    "\n",
    "3. Passing Arguments:\n",
    "   - `super()` can also be used to pass arguments to the superclass method. This is beneficial when the overridden method in the subclass needs to extend or \n",
    "modify the behavior of the superclass method.\n"
   ]
  },
  {
   "cell_type": "markdown",
   "id": "2e0c4f6b-d385-4c3a-914c-6b48ea163d02",
   "metadata": {},
   "source": [
    "14. Create a Python class hierarchy for a banking system with various account types ****\n",
    "(e.g., savings, checking, credit card) and demonstrate polymorphism by implementing a common `withdraw()` method."
   ]
  },
  {
   "cell_type": "code",
   "execution_count": 13,
   "id": "1a8115ec-b828-40b1-bd0e-7bfdb253e3f0",
   "metadata": {},
   "outputs": [
    {
     "name": "stdout",
     "output_type": "stream",
     "text": [
      "withdrawn form savings account\n",
      "withdraw\n",
      "withdraw form credit card\n"
     ]
    }
   ],
   "source": [
    "class BankingSystem:\n",
    "    def withdraw(self):\n",
    "        return \" amount with drawn successfully\"\n",
    "class Savings(BankingSystem):\n",
    "    def withdraw(self):\n",
    "        return \"withdrawn form savings account\"\n",
    "class Checking(BankingSystem):\n",
    "    def withdraw(self):\n",
    "        return \"withdraw\"\n",
    "class CreditCard(BankingSystem):\n",
    "    def withdraw(self):\n",
    "        return \"withdraw form credit card\"\n",
    "\n",
    "savings = Savings()\n",
    "checking = Checking()\n",
    "creditcard = CreditCard()\n",
    "print(savings.withdraw())\n",
    "print(checking.withdraw())\n",
    "print(creditcard.withdraw())"
   ]
  },
  {
   "cell_type": "markdown",
   "id": "d0f1f012-e3eb-41df-958d-1c45d9667c20",
   "metadata": {},
   "source": [
    "15. Describe the concept of operator overloading in Python and how it relates to polymorphism. Provide \n",
    "examples using operators like `+` and `*`."
   ]
  },
  {
   "cell_type": "code",
   "execution_count": null,
   "id": "da0a3b8a-04dd-412f-a0e0-87100df0b142",
   "metadata": {},
   "outputs": [],
   "source": [
    "Operator overloading in Python allows customizing the behavior of operators for user-defined objects. It is related to polymorphism as it provides a consistent interface for \n",
    "operators across different types. For example, overloading `+` and `*` operators for a `Point` class:\n"
   ]
  },
  {
   "cell_type": "code",
   "execution_count": 115,
   "id": "1c203e22-a35e-435b-bd88-f5040b68d728",
   "metadata": {},
   "outputs": [],
   "source": [
    "class Point:\n",
    "    def __init__(self, x, y):\n",
    "        self.x = x\n",
    "        self.y = y\n",
    "\n",
    "    def __add__(self, other):\n",
    "        return Point(self.x + other.x, self.y + other.y)\n",
    "\n",
    "    def __mul__(self, scalar):\n",
    "        return Point(self.x * scalar, self.y * scalar)\n",
    "\n",
    "    def __str__(self):\n",
    "        return \"Point({}, {})\".format(self.x, self.y)\n",
    "\n",
    "point1 = Point(1, 2)\n",
    "point2 = Point(3, 4)\n",
    "\n",
    "result_addition = point1 + point2 \n",
    "result_multiplication = point1 * 3 \n"
   ]
  },
  {
   "cell_type": "markdown",
   "id": "d462fb00-06b7-42b8-aa4c-b92fcb6dd133",
   "metadata": {},
   "source": [
    "16. What is dynamic polymorphism, and how is it achieved in Python?\n"
   ]
  },
  {
   "cell_type": "code",
   "execution_count": null,
   "id": "6c9b47de-458a-4ebb-964d-262a5d73f9c8",
   "metadata": {},
   "outputs": [],
   "source": [
    "Dynamic polymorphism refers to the ability of a language to resolve and execute method calls and other operations at runtime, allowing flexibility in choosing the appropriate method or \n",
    "behavior based on the actual type of the object. It is a characteristic of object-oriented programming languages, and Python achieves dynamic polymorphism through features like method \n",
    "overriding and duck typing.\n",
    "\n",
    "In Python, dynamic polymorphism is primarily achieved through the following mechanisms:\n",
    "\n",
    "1. Method Overriding:\n",
    "   - Inheritance allows a subclass to provide a specific implementation of a method that is already defined in its superclass. When an object of the subclass is used, the method from \n",
    "the subclass is called, even if the reference to the object is of the superclass type.\n",
    "\n",
    "2. Duck Typing:\n",
    "   - Python follows the principle of \"duck typing,\" which is often summarized as \"If it looks like a duck, swims like a duck, and quacks like a duck, then it probably is a duck.\" \n",
    "In other words, Python determines the suitability of an object based on its behavior rather than its explicit type.\n",
    "\n"
   ]
  },
  {
   "cell_type": "markdown",
   "id": "ee970f0c-3f84-4857-bdf9-89c06be8f72e",
   "metadata": {},
   "source": [
    "17. Create a Python class hierarchy for employees in a company (e.g., manager, developer, designer) and implement polymorphism through a common `calculate_salary()` method.****"
   ]
  },
  {
   "cell_type": "code",
   "execution_count": 17,
   "id": "e7dd3fcf-ca43-4e9b-838f-e0f86e4f34a0",
   "metadata": {},
   "outputs": [
    {
     "name": "stdout",
     "output_type": "stream",
     "text": [
      "1.5lakh\n",
      "1lakh\n",
      " 2 lakh\n"
     ]
    }
   ],
   "source": [
    "class Employees:\n",
    "    def calculate_salary(self):\n",
    "        return \" display salary\"\n",
    "class Manager(Employees):\n",
    "    def calculate_salary(self):\n",
    "        return \"1lakh\"\n",
    "class Developer(Employees):\n",
    "    def calculate_salary(self):\n",
    "        return \" 2 lakh\"\n",
    "class Designer(Employees):\n",
    "    def calculate_salary(self):\n",
    "        return \"1.5lakh\"\n",
    "\n",
    "manager = Manager()\n",
    "developer = Developer()\n",
    "designer = Designer()\n",
    "print(designer.calculate_salary())\n",
    "print(manager.calculate_salary())\n",
    "print(developer.calculate_salary())"
   ]
  },
  {
   "cell_type": "markdown",
   "id": "48473994-19be-4198-9de6-2527db92fc55",
   "metadata": {},
   "source": [
    "18. Discuss the concept of function pointers and how they can be used to achieve polymorphism in Python.\n"
   ]
  },
  {
   "cell_type": "code",
   "execution_count": null,
   "id": "e86f4807-8a1d-4439-89cf-230d6641bd64",
   "metadata": {},
   "outputs": [],
   "source": [
    "In Python, the concept of function pointers is somewhat different from languages like C or C++. Python doesn't have explicit function pointers, but it has first-class functions, \n",
    "which can be assigned to variables and passed as arguments. This flexibility allows achieving a form of polymorphism through functions.\n",
    "\n",
    "Here's a brief explanation of how function pointers (or first-class functions) can be used to achieve polymorphism in Python:\n",
    "\n",
    "1. First-Class Functions:\n",
    "   - In Python, functions are first-class citizens, meaning they can be assigned to variables, passed as arguments to other functions, and returned as values from other functions.\n",
    "\n",
    "2. Polymorphism with Functions:\n",
    "   - By using first-class functions, you can create polymorphic behavior in Python. Functions can be assigned to variables, and the variables can be used as if they were function \n",
    "pointers. This allows different functions to be used interchangeably, promoting a level of polymorphism.\n"
   ]
  },
  {
   "cell_type": "code",
   "execution_count": 118,
   "id": "e6953cff-1a53-46d8-ac82-96423ec0fcf3",
   "metadata": {},
   "outputs": [],
   "source": [
    "#Here's a simple example:\n",
    "\n",
    "'''In this example, `add` and `multiply` are functions assigned to variables, which act as function pointers. The `operate` function takes two operands and a function as an argument, \n",
    "allowing different operations to be performed based on the function passed.\n",
    "\n",
    "While this is a form of polymorphism, it's important to note that Python's dynamic typing and duck typing often provide more flexible and natural ways to achieve polymorphic behavior \n",
    "without the need for explicit function pointers. The use of objects and method overriding, as discussed earlier, is a more common and idiomatic way to achieve polymorphism in Python.'''\n",
    "\n",
    "# Function pointers (function variables)\n",
    "def add(x, y):\n",
    "    return x + y\n",
    "\n",
    "def multiply(x, y):\n",
    "    return x * y\n",
    "\n",
    "# Polymorphic function\n",
    "def operate(x, y, operation):\n",
    "    return operation(x, y)\n",
    "\n",
    "# Using the function pointers for polymorphism\n",
    "result_addition = operate(5, 3, add)         # Output: 8\n",
    "result_multiplication = operate(5, 3, multiply)  # Output: 15\n",
    "\n"
   ]
  },
  {
   "cell_type": "markdown",
   "id": "6e840ee6-f47e-4f41-ba6d-a5d94c333540",
   "metadata": {},
   "source": [
    "19. Explain the role of interfaces and abstract classes in polymorphism, drawing comparisons between them.\n"
   ]
  },
  {
   "cell_type": "code",
   "execution_count": null,
   "id": "dfcf85b5-8565-4513-836d-fd0fc0769649",
   "metadata": {},
   "outputs": [],
   "source": [
    "Interfaces and abstract classes both play essential roles in achieving polymorphism, but they are distinct concepts in Python:\n",
    "\n",
    "1. Abstract Classes:\n",
    "   - Definition: Abstract classes are classes that cannot be instantiated and may contain one or more abstract methods (methods without implementation).\n",
    "   - Role in Polymorphism: Abstract classes provide a common interface for a group of related classes. Subclasses of an abstract class must implement its abstract methods, \n",
    "    ensuring a consistent structure and behavior across all subclasses.\n",
    "   - Example:\n",
    "     \n",
    "     from abc import ABC, abstractmethod\n",
    "\n",
    "     class Shape(ABC):\n",
    "         @abstractmethod\n",
    "         def area(self):\n",
    "             pass\n",
    "     \n",
    "   - Comparison:\n",
    "     - Abstract classes can have both abstract and concrete methods.\n",
    "     - They can include attributes and provide some shared functionality.\n",
    "\n",
    "2. Interfaces:\n",
    "   - Definition: In Python, interfaces are not explicitly defined like in some other languages, but the concept is achieved through abstract classes with only abstract methods. \n",
    "An interface in Python is essentially an abstract class with no concrete methods.\n",
    "   - Role in Polymorphism: Interfaces define a contract that classes must adhere to by implementing all the methods declared in the interface. \n",
    "    This promotes a clear and enforced structure, ensuring that classes implementing an interface provide specific functionalities.\n",
    "   - Example:\n",
    "    \n",
    "     from abc import ABC, abstractmethod\n",
    "\n",
    "     class ShapeInterface(ABC):\n",
    "         @abstractmethod\n",
    "         def area(self):\n",
    "             pass\n",
    "     \n",
    "   - Comparison:\n",
    "     - Interfaces contain only abstract methods and no implementation.\n",
    "     - They define a contract that implementing classes must fulfill.\n",
    "\n",
    "Comparison:\n",
    "- Both abstract classes and interfaces in Python provide a way to achieve a form of polymorphism by defining a common structure (abstract methods) that subclasses must adhere to.\n",
    "- The choice between using an abstract class and an interface often depends on the need for shared implementation (abstract class) versus a pure contract (interface) and \n",
    "the specific design requirements of the system.\n",
    "- Python's flexibility allows developers to use abstract classes or interfaces based on their specific needs, and often the distinction is not as rigid as in statically typed languages."
   ]
  },
  {
   "cell_type": "markdown",
   "id": "c88d8223-0fc1-45ed-8a79-b0fd09a287cd",
   "metadata": {},
   "source": [
    "20. Create a Python class for a zoo simulation, demonstrating polymorphism with different animal types\n",
    "(e.g., mammals, birds, reptiles) and their behavior (e.g., eating, sleeping, making sounds). *************************"
   ]
  },
  {
   "cell_type": "code",
   "execution_count": 10,
   "id": "7db34ce0-f441-4c1e-ab70-c919cb58f8a5",
   "metadata": {},
   "outputs": [
    {
     "name": "stdout",
     "output_type": "stream",
     "text": [
      "mammal eat\n",
      "bird sounds\n",
      "reptile sleeping\n"
     ]
    }
   ],
   "source": [
    "class Animal:\n",
    "   \n",
    "        \n",
    "    def eating(self):\n",
    "        pass\n",
    "    def sleeping(self):\n",
    "        pass\n",
    "    def making_sounds(self):\n",
    "        pass\n",
    "class Mammals(Animal):\n",
    "    def eating(self):\n",
    "        return \"mammal eat\"\n",
    "    def sleeping(self):\n",
    "        return \"mammal sleeping\"\n",
    "    def making_sounds(self):\n",
    "        return \"mammal sounds\"\n",
    "class Birds(Animal):\n",
    "    def eating(self):\n",
    "        return \"Bird sounds\"\n",
    "    def sleeping(self):\n",
    "        return \"bird sleeping\"\n",
    "    def making_sounds(self):\n",
    "        return \"bird sounds\"\n",
    "class Reptiles(Animal):\n",
    "    def eating(self):\n",
    "        return \"reptile sounds\"\n",
    "    def sleeping(self):\n",
    "        return \"reptile sleeping\"\n",
    "    def making_sounds(self):\n",
    "        return \"reptile sounds\"\n",
    "\n",
    "mammals = Mammals()\n",
    "birds = Birds()\n",
    "reptiles = Reptiles()\n",
    "print(mammals.eating())\n",
    "print(birds.making_sounds())\n",
    "print(reptiles.sleeping())"
   ]
  },
  {
   "cell_type": "code",
   "execution_count": null,
   "id": "4c5be0dd-a177-4522-96ef-e7bd58c6d8ed",
   "metadata": {},
   "outputs": [],
   "source": []
  },
  {
   "cell_type": "code",
   "execution_count": null,
   "id": "05b6f1c9-68a6-4831-82d8-58adf9091743",
   "metadata": {},
   "outputs": [],
   "source": [
    "ABSTRACTION"
   ]
  },
  {
   "cell_type": "markdown",
   "id": "9a00b571-d762-4fdc-8cca-df1c33e0b629",
   "metadata": {},
   "source": [
    "1. What is abstraction in Python, and how does it relate to object-oriented programming?\n"
   ]
  },
  {
   "cell_type": "code",
   "execution_count": null,
   "id": "22d0552d-7cdb-4db8-82d1-8155485b1553",
   "metadata": {},
   "outputs": [],
   "source": [
    "Abstraction in Python is the concept of hiding unnecessary details and exposing only essential features of an \n",
    "object or system. In object-oriented programming, it involves defining abstract classes or interfaces to declare methods \n",
    "without specifying their implementations. Abstraction simplifies code, promotes modularity,\n",
    "and allows users to interact with objects at a conceptual level without needing to understand internal complexities."
   ]
  },
  {
   "cell_type": "code",
   "execution_count": null,
   "id": "b4e38edb-3740-4d83-9fdc-bee11e65cce2",
   "metadata": {},
   "outputs": [],
   "source": [
    "2. Describe the benefits of abstraction in terms of code organization and complexity reduction.\n"
   ]
  },
  {
   "cell_type": "code",
   "execution_count": null,
   "id": "4aca85f9-9305-4b3c-b8cc-4b8a76d139b9",
   "metadata": {},
   "outputs": [],
   "source": [
    "Abstraction in Python provides several benefits in terms of code organization and complexity reduction:\n",
    "\n",
    "1. Simplified Interfaces:\n",
    "   - Abstraction allows developers to define simplified and clear interfaces for objects, focusing on essential functionalities. Users can interact with objects through these interfaces \n",
    "without needing to understand the intricate details of their implementation.\n",
    "\n",
    "2. Code Modularity:\n",
    "   - By hiding internal details and exposing only essential functionalities, abstraction promotes code modularity. Objects can be encapsulated with well-defined interfaces, \n",
    "making it easier to manage and maintain code.\n",
    "\n",
    "3. Reduced Complexity:\n",
    "   - Abstraction reduces the overall complexity of the codebase by hiding unnecessary implementation details. Developers can work with high-level abstractions, dealing with concepts \n",
    "and functionalities rather than intricate coding details, leading to simpler and more maintainable code.\n",
    "\n",
    "4. Ease of Maintenance:\n",
    "   - Code that utilizes abstraction is often easier to maintain. Changes to the internal implementation of an object can be made without affecting external code that relies on the \n",
    "object's interface. This separation between interface and implementation simplifies maintenance tasks.\n",
    "\n",
    "5. Improved Readability:\n",
    "   - Abstraction enhances code readability by presenting a clear and concise view of the essential features of an object. Developers can focus on understanding the purpose and \n",
    "usage of objects without getting bogged down by unnecessary details.\n",
    "\n",
    "6. Encapsulation and Information Hiding:\n",
    "   - Abstraction is closely related to encapsulation, which bundles data and methods into a single unit. Together, they support information hiding, allowing developers to hide \n",
    "internal details and protect the integrity of an object's state.\n",
    "\n",
    "7. Facilitates Reusability:\n",
    "   - Abstraction encourages the creation of reusable code. Abstract classes and interfaces can serve as templates for multiple classes, fostering a hierarchy of related objects \n",
    "that share common behaviors. This promotes the reuse of code across different parts of an application.\n",
    "\n",
    "8. Ease of Collaboration:\n",
    "   - Teams can collaborate more effectively when code is organized through abstraction. Clear interfaces and well-defined functionalities make it easier for team members to understand \n",
    "and work on different parts of the codebase without needing to understand every internal detail.\n",
    "\n",
    "In summary, abstraction in Python enhances code organization by providing clear interfaces, promoting modularity, reducing complexity, and facilitating ease of maintenance. \n",
    "These benefits contribute to the creation of more readable, maintainable, and collaborative code."
   ]
  },
  {
   "cell_type": "markdown",
   "id": "8f083979-7760-4634-b28c-f3925aeb6e32",
   "metadata": {},
   "source": [
    "3. Create a Python class called `Shape` with an abstract method `calculate_area()`. Then, create child classes (e.g., `Circle`, `Rectangle`) that implement the `calculate_area()` method. \n",
    "Provide an example of \n",
    "using these classes."
   ]
  },
  {
   "cell_type": "code",
   "execution_count": 24,
   "id": "6aef416f-d3a9-4a8d-97ae-1b2592b486d9",
   "metadata": {},
   "outputs": [
    {
     "name": "stdout",
     "output_type": "stream",
     "text": [
      "19625.0\n",
      "20\n",
      "7.5\n"
     ]
    }
   ],
   "source": [
    "from abc import ABC, abstractmethod\n",
    "class Shape(ABC):\n",
    "    @abstractmethod   #used as reference\n",
    "    def __init__(self):\n",
    "        pass\n",
    "    def calculate_area(self):\n",
    "        pass\n",
    "class Circle(Shape):\n",
    "    def __init__(self,radius):\n",
    "        self.radius = radius\n",
    "    def calculate_area(self):\n",
    "        area = 2*3.14*self.radius**self.radius\n",
    "        return area\n",
    "        \n",
    "class Rectangle(Shape):\n",
    "    def __init__(self,width,height):\n",
    "        self.width = width\n",
    "        self.height = height\n",
    "    def calculate_area(self):\n",
    "        area = self.width*self.height\n",
    "        return area\n",
    "        \n",
    "class Triangle(Shape):\n",
    "    def __init__(self,base,height):\n",
    "        self.base = base\n",
    "        self.height = height\n",
    "    def calculate_area(self):\n",
    "        area = 0.5*self.base *self.height\n",
    "        return area\n",
    "\n",
    "circle = Circle(5)\n",
    "rectangle = Rectangle(5,4)\n",
    "triangle = Triangle(5,3)\n",
    "print(circle.calculate_area())\n",
    "print(rectangle.calculate_area())\n",
    "print(triangle.calculate_area())"
   ]
  },
  {
   "cell_type": "markdown",
   "id": "450c71b4-64ee-4232-ad3d-01b248d39a13",
   "metadata": {},
   "source": [
    "4. Explain the concept of abstract classes in Python and how they are defined using the `abc` module. Provide \n",
    "an example."
   ]
  },
  {
   "cell_type": "code",
   "execution_count": null,
   "id": "46142c34-b291-46df-9a6d-8cea07857dcf",
   "metadata": {},
   "outputs": [],
   "source": [
    "In Python, an abstract class is a class that cannot be instantiated on its own and is meant to be subclassed by other classes. \n",
    "Abstract classes can contain abstract methods, which are declared but not implemented in the abstract class. \n",
    "Subclasses must provide concrete implementations for these abstract methods. \n",
    "Abstract classes provide a way to define a common interface for a group of related classes"
   ]
  },
  {
   "cell_type": "markdown",
   "id": "98ffa7dc-00e6-47fe-8b81-1e5273c382ae",
   "metadata": {},
   "source": [
    "5. How do abstract classes differ from regular classes in Python? Discuss their use cases.\n"
   ]
  },
  {
   "cell_type": "code",
   "execution_count": null,
   "id": "9174fc7b-1ca6-4383-9ee1-c541e4f99a79",
   "metadata": {},
   "outputs": [],
   "source": [
    "Abstract classes and regular classes in Python differ in their instantiation and the presence of abstract methods. Here are key distinctions and use cases for each:\n",
    "\n",
    "Abstract Classes:\n",
    "1. Cannot be Instantiated: Abstract classes cannot be instantiated on their own. They are meant to serve as a blueprint for other classes.\n",
    "2. May Contain Abstract Methods: Abstract classes can contain abstract methods, which are methods declared but not implemented in the abstract class. Subclasses must provide concrete \n",
    "implementations for these methods.\n",
    "3. Defined with the `abc` Module: Abstract classes are typically defined using the `ABC` (Abstract Base Class) from the `abc` module. Abstract methods are declared using the \n",
    "`@abstractmethod` decorator.\n",
    "4. Used for Providing a Common Interface: Abstract classes are useful when you want to define a common interface for a group of related classes. They ensure that certain methods are\n",
    "implemented in all subclasses.\n",
    "\n",
    "Regular Classes:\n",
    "1. Can be Instantiated: Regular classes can be instantiated, and objects can be created based on them.\n",
    "2. Do Not Require Abstract Methods: Regular classes do not necessarily contain abstract methods. They may have concrete implementations for all their methods.\n",
    "3. Defined without the `abc` Module: Regular classes are defined without explicitly using the `abc` module or the `ABC` base class.\n",
    "4.Used for Creating Objects:Regular classes are used when you want to create objects with specific attributes and behaviors. They may or may not be part of an inheritance hierarchy.\n",
    "\n",
    "Use Cases:\n",
    "- Abstract Classes:\n",
    "  - Creating Frameworks or APIs: Abstract classes are useful when creating frameworks or APIs where you want to define a common structure that must be implemented by the end user.\n",
    "  - Enforcing a Common Interface: When you want to enforce that certain methods must be implemented in all subclasses to provide a consistent interface.\n",
    "\n",
    "- Regular Classes:\n",
    "  - Creating Objects: Regular classes are used when you need to create instances of objects with specific attributes and behaviors.\n",
    "  - Modeling Real-World Entities: When modeling real-world entities in your application, regular classes allow you to define the properties and methods that characterize those entities.\n",
    "\n"
   ]
  },
  {
   "cell_type": "markdown",
   "id": "47e2c263-7732-4c5b-8867-d8aeecb629c3",
   "metadata": {},
   "source": [
    "6. Create a Python class for a bank account and demonstrate abstraction by hiding the account balance and \n",
    "providing methods to deposit and withdraw funds."
   ]
  },
  {
   "cell_type": "code",
   "execution_count": 25,
   "id": "03ad1a05-333c-45b2-9b18-b1b6dd10e539",
   "metadata": {},
   "outputs": [
    {
     "name": "stdout",
     "output_type": "stream",
     "text": [
      "0\n",
      "deposited 5000.new balance:5000\n",
      "withdrwan 2500.new balance:2500\n"
     ]
    }
   ],
   "source": [
    "from abc import ABC , abstractmethod\n",
    "\n",
    "class Account:\n",
    "    \n",
    "    def __init__(self,accountNumber,name,password,balance):\n",
    "        self.accountNumber = accountNumber\n",
    "        self.name = name\n",
    "        self.password = password\n",
    "        self.__balance = balance\n",
    "        \n",
    "    @abstractmethod\n",
    "    def accountBalance(self,accountNumber,password):\n",
    "        pass\n",
    "\n",
    "    @abstractmethod\n",
    "    def deposit(self,amount):\n",
    "        pass\n",
    "    \n",
    "    @abstractmethod\n",
    "    def withdraw(self,amount):\n",
    "        pass\n",
    "\n",
    "class BankAccount:\n",
    "   \n",
    "    def __init__(self,accountNumber,name,password,balance):\n",
    "        self.accountNumber = accountNumber\n",
    "        self.name = name\n",
    "        self.password = password\n",
    "        self.__balance = balance\n",
    "    def accountBalance(self,accountNumber,password):\n",
    "        if accountNumber == self.accountNumber and password == self.password:\n",
    "                return self.__balance\n",
    "        else:\n",
    "                return \"enter correct details\"\n",
    "    def deposit(self,amount):\n",
    "        if amount>0:\n",
    "            self.__balance+=amount\n",
    "            return f\"deposited {amount}.new balance:{self.__balance}\"\n",
    "        else:\n",
    "            return \"invalid  deposited amount\"\n",
    "    \n",
    "    def withdraw(self,amount):\n",
    "        if amount >0 and amount<=self.__balance:\n",
    "            self.__balance-=amount\n",
    "            return f\"withdrwan {amount}.new balance:{self.__balance}\"\n",
    "        elif amount<0:\n",
    "            return \"invalid withdrawn amount\"\n",
    "        else:\n",
    "            return \"insufficient funds\"\n",
    "    \n",
    "ba = BankAccount(123,\"vamshi\",234,0) \n",
    "print(ba.accountBalance(123,234))\n",
    "print(ba.deposit(5000))\n",
    "print(ba.withdraw(2500))"
   ]
  },
  {
   "cell_type": "markdown",
   "id": "ef47e9c1-bb64-49c3-bdc0-4c7c246bcd0b",
   "metadata": {},
   "source": [
    "7. Discuss the concept of interface classes in Python and their role in achieving abstraction.\n"
   ]
  },
  {
   "cell_type": "code",
   "execution_count": null,
   "id": "a8a590c2-73c6-4757-a3a8-596da481359a",
   "metadata": {},
   "outputs": [],
   "source": [
    "In Python, the concept of interface classesis not explicitly defined as it is in some other programming languages. However, the concept of interfaces can be achieved through abstract \n",
    "classes with abstract methods or by using abstract base classes (ABC) provided by the `abc` module. The role of interface classes in Python is closely tied to achieving abstraction.\n",
    "\n",
    "Here's a breakdown of the concept and their role in achieving abstraction:\n",
    "\n",
    "1. Interface in Python:\n",
    "   - An interface in Python is a specification of methods that a class must implement. It declares the method signatures but doesn't provide the method implementations. \n",
    "The implementing class, then, is responsible for providing the actual code for these methods.\n",
    "\n",
    "2. Abstract Base Classes (ABC):\n",
    "   - Python's `abc` module provides a way to define abstract base classes, which can serve as interfaces. Abstract classes can have abstract methods, which are declared but not \n",
    "implemented. Subclasses are required to provide concrete implementations for these methods.\n",
    "\n",
    "3.Role in Achieving Abstraction:\n",
    "   - Interface classes play a crucial role in achieving abstraction by allowing developers to define a common set of methods that must be implemented by classes that conform to a \n",
    "certain interface.\n",
    "   - The interface defines a contract or a set of rules that implementing classes must follow, promoting a consistent structure in the code.\n",
    "\n",
    "4. Enforcing a Common Interface:\n",
    "   - Interface classes enforce a common interface across multiple classes. This ensures that classes adhering to the same interface provide certain functionalities, but it leaves \n",
    "the specific implementations to the individual classes.\n",
    "\n",
    "5. Use Cases:\n",
    "   - Interface classes are beneficial in scenarios where you want to create a common structure that multiple classes must adhere to, but you don't want to provide a default \n",
    "implementation for the methods.\n",
    "\n",
    "Example using Abstract Base Classes (ABC):\n",
    "\n",
    "from abc import ABC, abstractmethod\n",
    "\n",
    "# Interface (Abstract Base Class)\n",
    "class ShapeInterface(ABC):\n",
    "    @abstractmethod\n",
    "    def calculate_area(self):\n",
    "        pass\n",
    "\n",
    "# Implementing Classes\n",
    "class Circle(ShapeInterface):\n",
    "    def __init__(self, radius):\n",
    "        self.radius = radius\n",
    "\n",
    "    def calculate_area(self):\n",
    "        return 3.14 * self.radius ** 2\n",
    "\n",
    "class Rectangle(ShapeInterface):\n",
    "    def __init__(self, length, width):\n",
    "        self.length = length\n",
    "        self.width = width\n",
    "\n",
    "    def calculate_area(self):\n",
    "        return self.length * self.width\n",
    "\n",
    "# Example Usage\n",
    "circle = Circle(5)\n",
    "rectangle = Rectangle(4, 6)\n",
    "\n",
    "shapes = [circle, rectangle]\n",
    "\n",
    "for shape in shapes:\n",
    "    print(f\"Area of {type(shape).__name__}: {shape.calculate_area():.2f}\")\n",
    "\n",
    "\n",
    "In this example, `ShapeInterface` serves as an interface (abstract base class) that declares the method `calculate_area`. \n",
    "The implementing classes (`Circle` and `Rectangle`) must provide concrete implementations for this method. \n",
    "The interface ensures that all classes adhering to it will have a `calculate_area` method, achieving a form of abstraction by defining a common structure."
   ]
  },
  {
   "cell_type": "markdown",
   "id": "40078cf3-f4e9-413c-85d2-d2a9547140f4",
   "metadata": {},
   "source": [
    "8. Create a Python class hierarchy for animals and implement abstraction by defining common methods (e.g., `eat()`, `sleep()`) in an abstract base class.\n"
   ]
  },
  {
   "cell_type": "code",
   "execution_count": 15,
   "id": "0ed626d0-4787-4625-917a-2d50df73610b",
   "metadata": {},
   "outputs": [
    {
     "name": "stdout",
     "output_type": "stream",
     "text": [
      "dog eat\n",
      "dog sleep\n"
     ]
    }
   ],
   "source": [
    "from abc import ABC ,abstractmethod\n",
    "class Animals(ABC):\n",
    "  \n",
    "    @abstractmethod\n",
    "    def eat(self):\n",
    "        pass\n",
    "    @abstractmethod\n",
    "    def sleep(self):\n",
    "        pass\n",
    "\n",
    "class dog(Animals):\n",
    "\n",
    "    def eat(self):\n",
    "        return \"dog eat\"\n",
    "    def sleep(self):\n",
    "        return \"dog sleep\"\n",
    "class cat(Animals):\n",
    "    def eat(self):\n",
    "        return \"cat eat\"\n",
    "    def sleep(self):\n",
    "        return \"cat sleeps\"\n",
    "\n",
    "animal = dog()\n",
    "print(animal.eat())\n",
    "print(animal.sleep())"
   ]
  },
  {
   "cell_type": "markdown",
   "id": "82c930af-8d58-45c5-ab07-e7a9a3653d3b",
   "metadata": {},
   "source": [
    "9. Explain the significance of encapsulation in achieving abstraction. Provide examples.\n"
   ]
  },
  {
   "cell_type": "code",
   "execution_count": null,
   "id": "8e8c7ff5-6383-4a0a-b7cf-a83604821722",
   "metadata": {},
   "outputs": [],
   "source": [
    "Encapsulation in Python is a fundamental concept in object-oriented programming (OOP) that involves bundling data and methods that operate on the data into a single unit, \n",
    "known as a class. It helps in achieving abstraction by hiding the internal implementation details of an object and exposing only the necessary functionalities \n",
    "through well-defined interfaces.\n",
    "\n",
    "Here's how encapsulation contributes to achieving abstraction:\n",
    "\n",
    "1. Data Hiding:\n",
    "   - Encapsulation allows the hiding of the internal state of an object from the outside world. By marking attributes as private or protected, the implementation details are not exposed,\n",
    "promoting information hiding and preventing external interference.\n",
    "\n",
    "2. Access Control:\n",
    "   - Encapsulation provides control over the access to the internal data of an object. By using access modifiers like private, protected, and public, developers can specify the level of\n",
    "visibility and control which parts of the class are accessible from outside.\n",
    "\n",
    "3. Implementation Flexibility:\n",
    "   - The internal representation of an object can be changed without affecting the external code that uses the object. This flexibility in implementation details enables developers to \n",
    "refine and optimize the internal workings of a class without impacting the rest of the program.\n",
    "\n",
    "4. Code Organization:\n",
    "   - Encapsulation organizes code by grouping related data and methods together within a class. This grouping makes it easier to manage and maintain code, especially as the complexity \n",
    "of the program increases.\n",
    "\n",
    "5. Consistent Interfaces:\n",
    "   - By providing methods to access and modify the internal state of an object, encapsulation ensures a consistent and controlled way of interacting with the object. This promotes a \n",
    "clear and standardized interface for working with instances of the class.\n",
    "\n"
   ]
  },
  {
   "cell_type": "code",
   "execution_count": 119,
   "id": "94f36e9b-a442-4bef-a166-1712a05492fa",
   "metadata": {},
   "outputs": [
    {
     "name": "stdout",
     "output_type": "stream",
     "text": [
      "Make: Toyota\n",
      "Model: Camry\n",
      "Fuel: 100\n",
      "Toyota Camry is driving.\n",
      "Remaining Fuel: 95.0\n"
     ]
    }
   ],
   "source": [
    "#Example:\n",
    "'''In this example, the `Car` class encapsulates the details of a car, including make, model, and fuel. The attributes are marked as protected using a single leading underscore.\n",
    "Getter methods are provided to access these attributes, and the `drive` method demonstrates encapsulation by allowing controlled modification of the internal state (fuel). \n",
    "This encapsulation ensures that the external code interacts with the car object in a controlled and consistent manner.'''\n",
    "class Car:\n",
    "    def __init__(self, make, model):\n",
    "        self._make = make  # protected attribute\n",
    "        self._model = model  # protected attribute\n",
    "        self._fuel = 100  # protected attribute\n",
    "\n",
    "    def get_make(self):\n",
    "        return self._make\n",
    "\n",
    "    def get_model(self):\n",
    "        return self._model\n",
    "\n",
    "    def get_fuel(self):\n",
    "        return self._fuel\n",
    "\n",
    "    def drive(self, distance):\n",
    "        fuel_needed = distance / 10  # assuming 10 km per liter\n",
    "        if fuel_needed <= self._fuel:\n",
    "            self._fuel -= fuel_needed\n",
    "            print(f\"{self._make} {self._model} is driving.\")\n",
    "        else:\n",
    "            print(\"Not enough fuel.\")\n",
    "\n",
    "# Example Usage\n",
    "my_car = Car(\"Toyota\", \"Camry\")\n",
    "\n",
    "# Accessing attributes through getter methods\n",
    "print(f\"Make: {my_car.get_make()}\")\n",
    "print(f\"Model: {my_car.get_model()}\")\n",
    "print(f\"Fuel: {my_car.get_fuel()}\")\n",
    "\n",
    "# Driving the car\n",
    "my_car.drive(50)\n",
    "print(f\"Remaining Fuel: {my_car.get_fuel()}\")\n",
    "\n",
    "\n"
   ]
  },
  {
   "cell_type": "markdown",
   "id": "2dee0794-8d25-4533-8d54-129362fbac9d",
   "metadata": {},
   "source": [
    "10. What is the purpose of abstract methods, and how do they enforce abstraction in Python classes?\n"
   ]
  },
  {
   "cell_type": "code",
   "execution_count": null,
   "id": "043c4fef-0c7e-4991-add6-605649c7f065",
   "metadata": {},
   "outputs": [],
   "source": [
    "Abstract methods in Python, declared using the `@abstractmethod` decorator, define method signatures without implementations in \n",
    "abstract classes. They enforce a common interface for subclasses, ensuring each subclass provides its own implementation. \n",
    "This promotes consistency, avoids default implementations, and is useful in creating abstract base classes (ABC) for shared behaviors."
   ]
  },
  {
   "cell_type": "markdown",
   "id": "fc65f6fe-05fe-41d1-a6ae-731dc2cf2e3f",
   "metadata": {},
   "source": [
    "11. Create a Python class for a vehicle system and demonstrate abstraction by defining common methods (e.g., `start()`, `stop()`) in an abstract base class.\n"
   ]
  },
  {
   "cell_type": "code",
   "execution_count": 14,
   "id": "3197e61b-d953-4674-baed-c162231c0d19",
   "metadata": {},
   "outputs": [
    {
     "name": "stdout",
     "output_type": "stream",
     "text": [
      "2014\n",
      "bmw starts\n"
     ]
    }
   ],
   "source": [
    "from abc import ABC,abstractmethod\n",
    "class VehicleSystem(ABC):\n",
    "    \n",
    "    def __init__(self,year):\n",
    "        self.year = year\n",
    "    @abstractmethod\n",
    "    def start(self):\n",
    "        pass\n",
    "    @abstractmethod\n",
    "    def stop(self):\n",
    "        pass\n",
    "class Bmw(VehicleSystem):\n",
    "    def start(self):\n",
    "        return \"bmw starts\"\n",
    "    def stop(self):\n",
    "        return \"stops\"\n",
    "\n",
    "v = Bmw(2014)\n",
    "print(v.year)\n",
    "print(v.start())"
   ]
  },
  {
   "cell_type": "markdown",
   "id": "f3dbbe00-f723-4224-b45e-e6345ae8db6a",
   "metadata": {},
   "source": [
    "12. Describe the use of abstract properties in Python and how they can be employed in abstract classes.\n"
   ]
  },
  {
   "cell_type": "code",
   "execution_count": null,
   "id": "801f9e46-859f-49fc-8a8d-fa1ff0bd23a9",
   "metadata": {},
   "outputs": [],
   "source": [
    "In Python, abstract properties are a way to declare properties in abstract classes without providing their implementation. Similar to abstract methods, abstract properties \n",
    "ensure that subclasses provide a concrete implementation for the declared properties. This is achieved using the `@property` decorator in conjunction with the \n",
    "`@abstractmethod` decorator.\n",
    "\n",
    "Here's how abstract properties are used in abstract classes:\n",
    "\n",
    "1. Declaring Abstract Properties:\n",
    "   - Abstract properties are declared in abstract classes using the `@property` decorator along with the `@abstractmethod` decorator. The `@property` decorator defines a method as a\n",
    "     property, and `@abstractmethod` ensures that the property is abstract and must be implemented by subclasses.\n",
    "\n",
    "2. Forcing Implementation in Subclasses:\n",
    "   - Subclasses inheriting from an abstract class containing abstract properties are required to provide concrete implementations for those properties. \n",
    "This enforces the structure defined by the abstract class and ensures that each subclass adheres to the specified interface.\n",
    "\n",
    "3. Getter Methods for Abstract Properties:\n",
    "   - Abstract properties are often accompanied by getter methods that provide the implementation for the property. The use of getter methods allows for controlled access to the \n",
    "property and may involve additional logic.\n",
    "\n"
   ]
  },
  {
   "cell_type": "code",
   "execution_count": 120,
   "id": "f5bf7a5e-056f-4dc6-b0b7-b0410b8f2436",
   "metadata": {},
   "outputs": [
    {
     "name": "stdout",
     "output_type": "stream",
     "text": [
      "Area of Circle: 78.50\n",
      "Area of Rectangle: 24.00\n"
     ]
    }
   ],
   "source": [
    "#Example:\n",
    "\n",
    "'''In this example:\n",
    "\n",
    "- The `Shape` abstract class declares an abstract property named `area` using the `@property` and `@abstractmethod` decorators. Subclasses must provide their own implementations for this \n",
    "property.\n",
    "\n",
    "- The `Circle` and `Rectangle` classes inherit from `Shape` and provide concrete implementations for the abstract property `area`. The `@property` decorator is used to define the getter\n",
    "method for the property.\n",
    "\n",
    "- The example demonstrates the use of these classes by creating instances of `Circle` and `Rectangle` and accessing their `area` properties. The polymorphic behavior is evident in the \n",
    "loop where the `area` property is accessed on instances of different shape types.'''\n",
    "\n",
    "from abc import ABC, abstractmethod\n",
    "\n",
    "class Shape(ABC):\n",
    "    @property\n",
    "    @abstractmethod\n",
    "    def area(self):\n",
    "        pass\n",
    "\n",
    "class Circle(Shape):\n",
    "    def __init__(self, radius):\n",
    "        self._radius = radius\n",
    "\n",
    "    @property\n",
    "    def area(self):\n",
    "        return 3.14 * self._radius ** 2\n",
    "\n",
    "class Rectangle(Shape):\n",
    "    def __init__(self, length, width):\n",
    "        self._length = length\n",
    "        self._width = width\n",
    "\n",
    "    @property\n",
    "    def area(self):\n",
    "        return self._length * self._width\n",
    "\n",
    "# Example Usage\n",
    "circle = Circle(5)\n",
    "rectangle = Rectangle(4, 6)\n",
    "\n",
    "shapes = [circle, rectangle]\n",
    "\n",
    "for shape in shapes:\n",
    "    print(f\"Area of {type(shape).__name__}: {shape.area:.2f}\")\n",
    "\n",
    "\n"
   ]
  },
  {
   "cell_type": "markdown",
   "id": "ed587e9d-8dca-4c10-91bd-33ae1d647961",
   "metadata": {},
   "source": [
    "13. Create a Python class hierarchy for employees in a company (e.g., manager, developer, designer) and implement abstraction by defining a common `get_salary()` method.\n"
   ]
  },
  {
   "cell_type": "code",
   "execution_count": 32,
   "id": "62e7db37-9b7f-4c9b-9535-c46ca2c1436b",
   "metadata": {},
   "outputs": [
    {
     "name": "stdout",
     "output_type": "stream",
     "text": [
      "55000\n",
      "74000\n",
      "55000\n"
     ]
    }
   ],
   "source": [
    "from abc import ABC,abstractmethod\n",
    "class employees(ABC):\n",
    "    \n",
    "    def __init__(self,employee_id,base_salary):\n",
    "        self.employee_id = employee_id\n",
    "        self.base_salary = base_salary\n",
    "     \n",
    "    @abstractmethod\n",
    "    def get_salary(self):\n",
    "        pass\n",
    "    \n",
    "class Manager(employees):\n",
    "    \n",
    "    def __init__(self,employee_id,base_salary,bonus):\n",
    "        super().__init__(employee_id,base_salary)\n",
    "        self.bonus = bonus\n",
    "        \n",
    "    def get_salary(self):\n",
    "        return self.base_salary+self.bonus\n",
    "    \n",
    "class Developer(employees):\n",
    "    \n",
    "    def __init__(self,employee_id,base_salary,bonus,overtime):\n",
    "        super().__init__(employee_id,base_salary)\n",
    "        self.bonus = bonus\n",
    "        self.overtime = overtime\n",
    "        \n",
    "    def get_salary(self):\n",
    "        return self.base_salary+self.bonus+self.overtime\n",
    "    \n",
    "class Designer(employees):\n",
    "    \n",
    "    def __init__(self,employee_id,base_salary,project_bonus):\n",
    "        super().__init__(employee_id,base_salary)\n",
    "        self.project_bonus = project_bonus\n",
    "        \n",
    "        \n",
    "    def get_salary(self):\n",
    "        return self.base_salary+self.project_bonus\n",
    "    \n",
    "manager = Manager(234,50000,5000)\n",
    "developer = Developer(2,60000,10000,4000)\n",
    "designer = Designer(1,40000,15000)\n",
    "print(manager.get_salary())\n",
    "print(developer.get_salary())\n",
    "print(designer.get_salary())"
   ]
  },
  {
   "cell_type": "markdown",
   "id": "206be4b4-0dc2-43c6-91d5-fe62a3d3631b",
   "metadata": {},
   "source": [
    "\n",
    "14. Discuss the differences between abstract classes and concrete classes in Python, including their \n",
    "instantiation"
   ]
  },
  {
   "cell_type": "code",
   "execution_count": null,
   "id": "18b2d35d-5626-4c74-a6d9-320f463cefd1",
   "metadata": {},
   "outputs": [],
   "source": [
    "Abstract Classes vs. Concrete Classes in Python:\n",
    "\n",
    "1. Definition:\n",
    "   - **Abstract Classes:\n",
    "     - Abstract classes in Python are classes that cannot be instantiated on their own. They often contain abstract methods, which are methods without implementations.\n",
    "     - Abstract classes are meant to serve as blueprints or interfaces for other classes. They are created using the `ABC` (Abstract Base Class) and `@abstractmethod` decorators from the `abc` module.\n",
    "\n",
    "   - Concrete Classes:\n",
    "     - Concrete classes, on the other hand, are regular classes that can be instantiated directly. They provide concrete implementations for all their methods, including any inherited abstract methods.\n",
    "\n",
    "2. Instantiation:\n",
    "   - Abstract Classes:\n",
    "     - Abstract classes cannot be instantiated directly. They are meant to be subclassed, and their abstract methods must be implemented by concrete subclasses before they can be instantiated.\n",
    "     - Attempts to create an instance of an abstract class directly will result in a `TypeError`.\n",
    "\n",
    "   - Concrete Classes:\n",
    "     - Concrete classes can be instantiated directly using the `ClassName()` syntax. Objects created from concrete classes have all the features and functionalities provided by the class.\n",
    "\n",
    "3. Use Cases:\n",
    "   - Abstract Classes:\n",
    "     - Used to define a common interface that must be implemented by subclasses.\n",
    "     - Provide a blueprint for shared behaviors but don't necessarily provide a complete implementation.\n",
    "     - Enforce a consistent structure across multiple classes.\n",
    "\n",
    "   - Concrete Classes:\n",
    "     - Used for creating objects with specific attributes and behaviors.\n",
    "     - Provide complete implementations for all methods.\n",
    "     - Can be instantiated directly to create instances of the class.\n",
    "\n",
    "4. Inheritance:\n",
    "   - Abstract Classes:\n",
    "     - Abstract classes often serve as base classes for inheritance. Subclasses inherit from an abstract class to provide concrete implementations for its abstract methods.\n",
    "\n",
    "   - Concrete Classes:\n",
    "     - Concrete classes can also be used as base classes for inheritance. Subclasses inherit both the attributes and methods of the concrete class.\n",
    "\n",
    "Example:\n",
    "\n",
    "\n",
    "from abc import ABC, abstractmethod\n",
    "\n",
    "# Abstract Class\n",
    "class Shape(ABC):\n",
    "    @abstractmethod\n",
    "    def calculate_area(self):\n",
    "        pass\n",
    "\n",
    "# Concrete Classes\n",
    "class Circle(Shape):\n",
    "    def __init__(self, radius):\n",
    "        self.radius = radius\n",
    "\n",
    "    def calculate_area(self):\n",
    "        return 3.14 * self.radius ** 2\n",
    "\n",
    "class Square(Shape):\n",
    "    def __init__(self, side):\n",
    "        self.side = side\n",
    "\n",
    "    def calculate_area(self):\n",
    "        return self.side ** 2\n",
    "\n",
    "# Instantiation\n",
    "# Attempting to instantiate the abstract class will result in a TypeError\n",
    "# shape = Shape()  # TypeError: Can't instantiate abstract class Shape with abstract methods calculate_area\n",
    "\n",
    "# Instantiate concrete classes\n",
    "circle = Circle(5)\n",
    "square = Square(4)\n",
    "\n",
    "# Example Usage\n",
    "print(\"Area of Circle:\", circle.calculate_area())\n",
    "print(\"Area of Square:\", square.calculate_area())\n",
    "\n",
    "\n",
    "In this example, `Shape` is an abstract class with an abstract method `calculate_area`. `Circle` and `Square` are concrete classes that inherit from `Shape` and provide concrete implementations for the `calculate_area` method. Attempting to instantiate `Shape` directly results in a `TypeError`. Instances of `Circle` and `Square` can be created and used directly."
   ]
  },
  {
   "cell_type": "markdown",
   "id": "0b5eaeb0-1cf5-4bce-b18c-ecee40a90f91",
   "metadata": {},
   "source": [
    "15. Explain the concept of abstract data types (ADTs) and their role in achieving abstraction in Python.\n"
   ]
  },
  {
   "cell_type": "code",
   "execution_count": null,
   "id": "b041f262-bf09-4896-9b0d-4caee4c5986a",
   "metadata": {},
   "outputs": [],
   "source": [
    "Abstract Data Types (ADTs) in Python refer to a high-level description of a set of operations that can be performed on a data structure, without specifying how these operations are \n",
    "implemented. ADTs allow programmers to focus on the functionality of a data structure, promoting a clear separation between the interface and the implementation.\n",
    "\n",
    "Here's how the concept of Abstract Data Types contributes to achieving abstraction in Python:\n",
    "\n",
    "1. Focus on Operations:\n",
    "   - ADTs emphasize the operations that can be performed on a data structure rather than the details of how these operations are implemented. This abstraction allows developers to work \n",
    "with data structures at a conceptual level without needing to understand their internal workings.\n",
    "\n",
    "2. Encapsulation of Details:\n",
    "   - ADTs encapsulate the implementation details of a data structure. By defining a set of operations that can be performed on the data, ADTs hide the complexities of the underlying \n",
    "structure and promote information hiding.\n",
    "\n",
    "3. Modularity and Reusability:\n",
    "   - ADTs facilitate modularity and reusability by providing a standardized interface for interacting with data. Once an ADT is defined, it can be used in various contexts without \n",
    "modification, promoting code reuse and reducing redundancy.\n",
    "\n",
    "4. Implementation Independence:\n",
    "   - ADTs allow for multiple implementations of the same abstract data type. This implementation independence is valuable because it enables developers to choose the most suitable data \n",
    "structure for a particular problem without affecting the code that uses the ADT.\n",
    "\n",
    "5. Consistent Interface:\n",
    "   - ADTs provide a consistent and well-defined interface for working with data. This consistency is essential for code maintainability, as it ensures that changes to the internal \n",
    "implementation of a data structure do not impact the external code that uses the ADT.\n",
    "\n",
    "6. Flexibility in Implementation:\n",
    "   - The abstract nature of ADTs allows developers to switch between different implementations of the same data type without affecting the rest of the program. \n",
    "This flexibility is particularly useful when optimizing for specific use cases or when changing requirements necessitate a different approach.\n",
    "\n",
    "7. Example ADTs:\n",
    "   - Common examples of ADTs include stacks, queues, lists, sets, and dictionaries. For instance, the Python `list` type serves as an implementation of a dynamic array, \n",
    "and the `set` and `dict` types represent abstract sets and dictionaries, respectively.\n",
    "\n",
    "Example:\n",
    "\n",
    "# Example of an Abstract Data Type - Stack\n",
    "\n",
    "class Stack:\n",
    "    def __init__(self):\n",
    "        self.items = []\n",
    "\n",
    "    def is_empty(self):\n",
    "        return len(self.items) == 0\n",
    "\n",
    "    def push(self, item):\n",
    "        self.items.append(item)\n",
    "\n",
    "    def pop(self):\n",
    "        if not self.is_empty():\n",
    "            return self.items.pop()\n",
    "        else:\n",
    "            raise IndexError(\"pop from an empty stack\")\n",
    "\n",
    "    def peek(self):\n",
    "        if not self.is_empty():\n",
    "            return self.items[-1]\n",
    "        else:\n",
    "            raise IndexError(\"peek from an empty stack\")\n",
    "\n",
    "    def size(self):\n",
    "        return len(self.items)\n",
    "\n",
    "# Example Usage\n",
    "stack = Stack()\n",
    "\n",
    "stack.push(10)\n",
    "stack.push(20)\n",
    "stack.push(30)\n",
    "\n",
    "print(\"Is the stack empty?\", stack.is_empty())  # False\n",
    "print(\"Top of the stack:\", stack.peek())         # 30\n",
    "\n",
    "while not stack.is_empty():\n",
    "    print(\"Popped:\", stack.pop())\n",
    "\n",
    "print(\"Is the stack empty?\", stack.is_empty())  # True\n",
    "\n",
    "\n",
    "In this example, the `Stack` class represents an abstract data type. Users interact with the stack through well-defined operations such as `push`, `pop`, `peek`, `size`, and `is_empty`. \n",
    "The internal implementation of the stack (using a Python list) is encapsulated, allowing users to work with the stack in an abstract and operation-centric manner."
   ]
  },
  {
   "cell_type": "markdown",
   "id": "f0cda2a7-596b-4666-b037-c4fd0e6347c2",
   "metadata": {},
   "source": [
    "16. Create a Python class for a computer system, demonstrating abstraction by defining common methods (e.g., `power_on()`, `shutdown()`) in an abstract base class.\n"
   ]
  },
  {
   "cell_type": "code",
   "execution_count": 38,
   "id": "a5f914c1-fb0a-4624-ba41-96f064b8121e",
   "metadata": {},
   "outputs": [
    {
     "name": "stdout",
     "output_type": "stream",
     "text": [
      "dell is successfully powered on\n",
      "already powered off\n"
     ]
    }
   ],
   "source": [
    "from abc import ABC,abstractmethod\n",
    "\n",
    "class computerSystem(ABC):\n",
    "    def __init__(self,brand):\n",
    "        self.brand = brand\n",
    "        self.powered_on = False\n",
    "        \n",
    "    @abstractmethod\n",
    "    def power_on(self):\n",
    "        pass\n",
    "    @abstractmethod\n",
    "    def shutdown(self):\n",
    "        pass\n",
    "class Desktop(computerSystem):\n",
    "    def __init__(self,brand,desktop_type):\n",
    "        super().__init__(brand)\n",
    "        self.desktop_type = desktop_type\n",
    "    def power_on(self):\n",
    "        if not self.powered_on:\n",
    "            return f\"{self.brand} is successfully powered on\"\n",
    "        else:\n",
    "            \"already powered on\"\n",
    "    def shutdown(self):\n",
    "            if self.powered_on:\n",
    "                return f\"{self.brand}shut down successfully\"\n",
    "            else:\n",
    "                return \"already powered off\"\n",
    "            \n",
    "desktop = Desktop(\"dell\",\"lcd\")\n",
    "print(desktop.power_on())\n",
    "print(desktop.shutdown())"
   ]
  },
  {
   "cell_type": "markdown",
   "id": "05116172-0c0a-47ea-9e54-d2a866ad3b84",
   "metadata": {},
   "source": [
    "17. Discuss the benefits of using abstraction in large-scale software development projects.\n"
   ]
  },
  {
   "cell_type": "code",
   "execution_count": null,
   "id": "e4c9a026-5e79-490f-ac78-72c553efaf77",
   "metadata": {},
   "outputs": [],
   "source": [
    "Using abstraction in large-scale software development projects offers several benefits that contribute to the efficiency, maintainability, and scalability of the codebase. Here are some key advantages:\n",
    "\n",
    "1. **Modularity:**\n",
    "   - Abstraction promotes modularity by encapsulating functionality into separate, self-contained modules or classes. Each module or class represents a distinct component with a well-defined interface, making it easier to understand, develop, and maintain.\n",
    "\n",
    "2. **Code Reusability:**\n",
    "   - Abstracting common functionalities into reusable components allows developers to reuse code across different parts of the project. This reduces redundancy, minimizes errors, and accelerates the development process.\n",
    "\n",
    "3. **Ease of Maintenance:**\n",
    "   - Abstracting details and providing well-defined interfaces make it easier to maintain and update code. Changes can be localized to specific modules or classes, minimizing the impact on the rest of the system. This is particularly crucial in large projects where maintaining code can be complex.\n",
    "\n",
    "4. **Scalability:**\n",
    "   - Abstraction supports scalability by allowing developers to extend the system without modifying existing code. New functionalities can be added through the creation of new modules or classes that adhere to the established interfaces, preserving the overall structure of the project.\n",
    "\n",
    "5. **Reduced Complexity:**\n",
    "   - Abstraction hides unnecessary details, reducing the overall complexity of the codebase. Developers can focus on high-level concepts and interactions rather than getting bogged down by implementation specifics. This simplification enhances code readability and comprehension.\n",
    "\n",
    "6. **Improved Collaboration:**\n",
    "   - Abstraction facilitates collaboration among team members. With well-defined interfaces and modular components, team members can work on different parts of the project concurrently without interfering with each other. This parallel development improves productivity and accelerates project timelines.\n",
    "\n",
    "7. **Adaptability to Change:**\n",
    "   - Abstraction enhances the adaptability of the codebase to changing requirements. As long as the interfaces remain consistent, internal implementations can be modified or replaced without affecting the rest of the system. This flexibility is crucial in dynamic development environments.\n",
    "\n",
    "8. **Enhanced Testing:**\n",
    "   - Abstraction supports more effective testing strategies. Modules or classes with clear interfaces can be tested independently, allowing for easier unit testing. Additionally, abstracting away implementation details can help create mock objects for testing, ensuring robust and thorough testing procedures.\n",
    "\n",
    "9. **Facilitates Specialization:**\n",
    "   - Different teams or individuals can specialize in developing specific modules or components. As long as the interfaces are well-defined, each team can work independently on their specialized areas, promoting specialization and expertise within the development team.\n",
    "\n",
    "10. **Promotes Standardization:**\n",
    "    - Abstraction encourages the establishment of coding standards and best practices. With well-defined interfaces and consistent patterns across the project, developers are more likely to adhere to established conventions, leading to a more uniform and maintainable codebase.\n",
    "\n",
    "In summary, abstraction plays a crucial role in large-scale software development by promoting modularity, code reusability, ease of maintenance, scalability, reduced complexity, improved collaboration, adaptability to change, enhanced testing, and the facilitation of specialization and standardization. These benefits contribute to the overall success and sustainability of complex software projects."
   ]
  },
  {
   "cell_type": "markdown",
   "id": "89624c56-0be1-4946-be25-fd80ea534dbe",
   "metadata": {},
   "source": [
    "18. Explain how abstraction enhances code reusability and modularity in Python programs.\n"
   ]
  },
  {
   "cell_type": "code",
   "execution_count": null,
   "id": "45eb7841-58af-4ad4-a5c7-74c340ce75fc",
   "metadata": {},
   "outputs": [],
   "source": [
    "Abstraction enhances code reusability and modularity in Python programs by promoting a structured and encapsulated approach to software design. Here's how abstraction achieves these benefits:\n",
    "\n",
    "1. **Encapsulation:**\n",
    "   - Abstraction involves encapsulating the implementation details of a module or class and exposing a well-defined interface. This encapsulation hides the internal complexities, allowing users to interact with the module or class at a higher level without needing to understand the underlying details.\n",
    "\n",
    "2. **Clear Interfaces:**\n",
    "   - Abstraction defines clear and standardized interfaces for modules or classes. These interfaces specify how users (other modules or classes) can interact with the encapsulated functionality. Well-defined interfaces serve as contracts that outline what functionalities are available and how they can be accessed.\n",
    "\n",
    "3. **Separation of Concerns:**\n",
    "   - Abstraction encourages the separation of concerns by breaking down a system into smaller, independent, and modular components. Each module or class is responsible for a specific functionality, and these components can be developed, tested, and maintained independently.\n",
    "\n",
    "4. **Code Reusability:**\n",
    "   - With encapsulation and clear interfaces, modules or classes become reusable building blocks. Developers can use these components in different parts of the program or even in other projects without modifying their internal code. This reduces redundancy and promotes the reuse of well-tested and reliable code.\n",
    "\n",
    "5. **Plug-and-Play Architecture:**\n",
    "   - Abstraction allows for a \"plug-and-play\" architecture, where modules or classes can be easily replaced or extended without affecting the rest of the system. New components that adhere to the established interfaces can seamlessly integrate with existing code, promoting adaptability and extensibility.\n",
    "\n",
    "6. **Independent Development:**\n",
    "   - Modules or classes developed with abstraction can be worked on independently by different teams or developers. As long as they adhere to the specified interfaces, the integration of these components into the larger system becomes straightforward. This parallel development enhances collaboration and speeds up the development process.\n",
    "\n",
    "7. **Ease of Maintenance:**\n",
    "   - Abstraction contributes to ease of maintenance by localizing changes within specific modules or classes. Modifications or updates to one component do not require altering the entire codebase. This targeted approach simplifies debugging, testing, and updating, making the codebase more maintainable.\n",
    "\n",
    "8. **Reduced Complexity:**\n",
    "   - Abstraction reduces the overall complexity of the codebase by allowing developers to interact with high-level concepts rather than intricate implementation details. This simplification makes the codebase more readable, understandable, and maintainable, especially as the program grows in size.\n",
    "\n",
    "9. **Promotion of Best Practices:**\n",
    "   - Abstraction promotes the adoption of coding standards and best practices. Well-defined interfaces and modular structures encourage developers to follow consistent patterns and adhere to established conventions, leading to a more organized and maintainable codebase.\n",
    "\n",
    "In Python, the use of classes, abstract classes (from the `abc` module), and interfaces achieved through abstraction mechanisms supports these principles. Libraries and frameworks in Python often leverage abstraction to provide reusable and modular components, contributing to the overall success of Python programs in terms of code reusability and modularity."
   ]
  },
  {
   "cell_type": "markdown",
   "id": "0f6ebe03-40dc-41fc-b65a-3e2769fc617a",
   "metadata": {},
   "source": [
    "19. Create a Python class for a library system, implementing abstraction by defining common methods (e.g., `add_book()`, `borrow_book()`) in an abstract base class.\n"
   ]
  },
  {
   "cell_type": "code",
   "execution_count": 56,
   "id": "a3dd36ba-b3a9-47e8-91ee-ab57c0118dac",
   "metadata": {},
   "outputs": [
    {
     "name": "stdout",
     "output_type": "stream",
     "text": [
      "book added\n",
      "book borrowed\n",
      "book is not available\n"
     ]
    }
   ],
   "source": [
    "from abc import ABC\n",
    "\n",
    "class librarySystem(ABC):\n",
    "    books_available =[]\n",
    "    def __init__(self,book_name,author_name):\n",
    "        self.book_name = book_name\n",
    "        self.author_name = author_name\n",
    "        \n",
    "    @abstractmethod\n",
    "    def add_book(self):\n",
    "        pass\n",
    "    @abstractmethod \n",
    "    def borrow_book(self):\n",
    "        pass\n",
    "    \n",
    "class Pwskills(librarySystem):\n",
    "    def __init__(self,book_name,author_name):\n",
    "        super().__init__(book_name,author_name)\n",
    "    \n",
    "    def add_book(self,book):\n",
    "        \n",
    "        librarySystem.books_available.append(book)\n",
    "        return \"book added\"\n",
    "    \n",
    "    def borrow_book(self,book):\n",
    "        \n",
    "        if book in librarySystem.books_available:\n",
    "            librarySystem.books_available.remove(book)\n",
    "            return \"book borrowed\"\n",
    "        else:\n",
    "            return \"book is not available\"\n",
    "pwskills = Pwskills(\"python\",\"sudh\")\n",
    "print(pwskills.add_book(\"python\"))\n",
    "\n",
    "print(pwskills.borrow_book(\"python\"))\n",
    "print(pwskills.borrow_book(\"python\"))"
   ]
  },
  {
   "cell_type": "markdown",
   "id": "8af2961d-bc23-4872-a326-eae4f52a3f05",
   "metadata": {},
   "source": [
    "20. Describe the concept of method abstraction in Python and how it relates to polymorphism.\n"
   ]
  },
  {
   "cell_type": "code",
   "execution_count": null,
   "id": "e11d63c0-cf8b-4d44-ba1f-e3143d2dad0b",
   "metadata": {},
   "outputs": [],
   "source": [
    "Method abstraction in Python** refers to the practice of creating methods in a way that emphasizes their purpose and functionality, hiding unnecessary implementation details from the user. It involves designing methods with clear names, focused functionality, and consistent interfaces. Method abstraction is closely related to the concept of polymorphism in Python.\n",
    "\n",
    "Key Aspects of Method Abstraction:\n",
    "\n",
    "1. Clear Method Names:\n",
    "   - Abstraction involves giving methods names that clearly convey their purpose. Descriptive method names make code more readable and help developers understand the intended functionality.\n",
    "\n",
    "2. Focused Functionality:\n",
    "   - Each method should have a specific and focused functionality. This follows the principle of \"doing one thing and doing it well.\" Abstraction allows developers to design methods that perform well-defined tasks, promoting modular and maintainable code.\n",
    "\n",
    "3. Hidden Implementation Details:\n",
    "   - Abstraction hides unnecessary implementation details from the user. Users interact with methods based on their public interface without needing to know the internal workings of the method. This encapsulation of details promotes a higher level of abstraction and reduces complexity.\n",
    "\n",
    "4. Consistent Interfaces:\n",
    "   - Methods with consistent interfaces share similar names and behaviors across different classes or modules. This consistency simplifies the user's understanding of how to interact with different components and promotes a standardized approach to method usage.\n",
    "\n",
    "Relation to Polymorphism:\n",
    "\n",
    "Polymorphism is a key concept in object-oriented programming, allowing objects of different types to be treated as objects of a common type. Method abstraction is closely related to polymorphism, especially through method overriding.\n",
    "\n",
    "1. Method Overriding:\n",
    "   - Polymorphism is often demonstrated through method overriding, where a subclass provides a specific implementation for a method that is already defined in its superclass.\n",
    "   - The overridden method in the subclass has the same signature (name and parameters) as the method in the superclass but may have a different implementation.\n",
    "   - This allows objects of the subclass to be used interchangeably with objects of the superclass, providing a form of polymorphism.\n",
    "\n",
    "Example:\n",
    "\n",
    "class Animal:\n",
    "    def make_sound(self):\n",
    "        pass\n",
    "\n",
    "class Dog(Animal):\n",
    "    def make_sound(self):\n",
    "        return \"Woof!\"\n",
    "\n",
    "class Cat(Animal):\n",
    "    def make_sound(self):\n",
    "        return \"Meow!\"\n",
    "\n",
    "# Polymorphic usage of make_sound method\n",
    "def animal_sound(animal):\n",
    "    return animal.make_sound()\n",
    "\n",
    "# Example Usage\n",
    "dog = Dog()\n",
    "cat = Cat()\n",
    "\n",
    "print(animal_sound(dog))  # Output: Woof!\n",
    "print(animal_sound(cat))  # Output: Meow!\n",
    "\n",
    "\n",
    "In this example, the `Animal` class has a method `make_sound` without implementation, serving as an abstract method. The `Dog` and `Cat` subclasses override this method with their specific implementations. The `animal_sound` function demonstrates polymorphism by accepting objects of different types (Dog or Cat) and calling the common method `make_sound` on them. The method abstraction and consistent method names enable polymorphic behavior, allowing different types of animals to make their specific sounds."
   ]
  },
  {
   "cell_type": "code",
   "execution_count": null,
   "id": "8aa60dd5-5d83-442b-a844-9e1507c1c338",
   "metadata": {},
   "outputs": [],
   "source": []
  },
  {
   "cell_type": "code",
   "execution_count": null,
   "id": "2c8c27be-6af4-4e6b-84cc-86f27f197fc3",
   "metadata": {},
   "outputs": [],
   "source": []
  },
  {
   "cell_type": "code",
   "execution_count": null,
   "id": "772a8409-889a-4e5c-ac56-e6e60ffd0be6",
   "metadata": {},
   "outputs": [],
   "source": [
    "COMPOSITION"
   ]
  },
  {
   "cell_type": "markdown",
   "id": "0c8bdddb-838f-4333-81fc-e127da2ee419",
   "metadata": {},
   "source": [
    "1. Explain the concept of composition in Python and how it is used to build complex objects from simpler ones.\n"
   ]
  },
  {
   "cell_type": "code",
   "execution_count": null,
   "id": "e3da6d8e-6a7f-48c7-b76e-478bd970a67f",
   "metadata": {},
   "outputs": [],
   "source": [
    "Composition in Python is a design principle that involves creating complex objects by combining simpler ones. Instead of relying on inheritance, where objects inherit attributes\n",
    "and behaviors from a superclass, composition involves constructing objects by assembling or \"composing\" them from other objects. This promotes a more flexible and modular approach \n",
    "to building complex systems.\n",
    "\n",
    "Key Concepts of Composition:\n",
    "\n",
    "1. Has-A Relationship:\n",
    "   - Composition establishes a \"has-a\" relationship between the complex object and its components. It emphasizes that a complex object contains or is composed of simpler objects.\n",
    "\n",
    "\n",
    "2. Flexibility and Reusability:\n",
    "   - Composition allows for greater flexibility and reusability in the design of complex systems. Instead of relying on a fixed hierarchy of classes, objects can be composed and \n",
    "    recomposed dynamically to meet specific requirements.\n",
    "\n",
    "3.Encapsulation:\n",
    "   - Composition promotes encapsulation by encapsulating the functionality of individual components within their respective classes. The internal details of each component are \n",
    "    hidden from the complex object, reducing dependencies and making changes to individual components less impactful.\n",
    "\n",
    "4. Code Separation:\n",
    "   - With composition, concerns are separated into smaller, manageable components. Each component is responsible for a specific aspect of functionality, promoting a modular and \n",
    "    maintainable code structure.\n",
    "\n",
    "Example of Composition:\n",
    "\n",
    "\n",
    "class Engine:\n",
    "    def start(self):\n",
    "        return \"Engine started\"\n",
    "\n",
    "class Wheels:\n",
    "    def roll(self):\n",
    "        return \"Wheels rolling\"\n",
    "\n",
    "class Car:\n",
    "    def __init__(self):\n",
    "        # Composition: Car has an Engine and Wheels\n",
    "        self.engine = Engine()\n",
    "        self.wheels = Wheels()\n",
    "\n",
    "    def drive(self):\n",
    "        return f\"{self.engine.start()} and {self.wheels.roll()}\"\n",
    "\n",
    "# Example Usage\n",
    "my_car = Car()\n",
    "print(my_car.drive())  # Output: Engine started and Wheels rolling\n",
    "\n",
    "\n",
    "In this example, the `Car` class is composed of an `Engine` and `Wheels`. Instead of inheriting from these classes, the `Car` class creates instances of them within its constructor.\n",
    "The `drive` method of the `Car` class then calls the `start` method of the `Engine` and the `roll` method of the `Wheels`. This composition allows the `Car` class to exhibit \n",
    "behavior without being tightly bound to the implementation details of its components.\n",
    "\n",
    "Benefits of Composition:\n",
    "\n",
    "1. Flexibility:\n",
    "   - Objects can be composed and recomposed dynamically, providing greater flexibility in constructing complex systems.\n",
    "\n",
    "2. Reusability:\n",
    "   - Components can be reused in different contexts, promoting a more modular and reusable codebase.\n",
    "\n",
    "3. Encapsulation:\n",
    "   - Each component encapsulates its own functionality, reducing dependencies and making it easier to change individual components without affecting the entire system.\n",
    "\n",
    "4. Code Separation:\n",
    "   - Composition separates concerns into smaller components, making the codebase more organized and easier to maintain.\n",
    "\n",
    "5. Dynamic Composition:\n",
    "   - Objects can be composed dynamically at runtime, allowing for the creation of complex objects based on specific requirements.\n",
    "\n",
    "By embracing composition, developers can create systems that are more modular, maintainable, and adaptable to change, making it a valuable design approach in Python and \n",
    "object-oriented programming in general."
   ]
  },
  {
   "cell_type": "markdown",
   "id": "71128142-18a0-476a-9315-835241422afc",
   "metadata": {},
   "source": [
    "2. Describe the difference between composition and inheritance in object-oriented programming.\n"
   ]
  },
  {
   "cell_type": "code",
   "execution_count": null,
   "id": "30977839-92a4-4f41-bdd6-b6dafabc9c7c",
   "metadata": {},
   "outputs": [],
   "source": [
    "Composition and inheritance are two different approaches to structuring and building object-oriented programs. They represent different ways of achieving code reuse and creating \n",
    "relationships between classes.\n",
    "\n",
    "1. Composition:\n",
    "\n",
    "- Relationship: Composition establishes a \"has-a\" relationship between objects. This means that a class contains an instance of another class as one of its members.\n",
    "  \n",
    "- Code Reuse: In composition, code reuse is achieved by creating objects within other objects. Components can be used and reused in different contexts by creating and combining \n",
    "instances dynamically.\n",
    "\n",
    "- Flexibility: Composition offers more flexibility in combining different components to create complex objects. It allows for dynamic changes and adaptations by assembling \n",
    "objects at runtime.\n",
    "\n",
    "- Encapsulation: Components in composition are encapsulated within their own classes. This promotes encapsulation and reduces dependencies between classes.\n",
    "\n",
    "- Example:\n",
    " \n",
    "  class Engine:\n",
    "      def start(self):\n",
    "          return \"Engine started\"\n",
    "\n",
    "  class Wheels:\n",
    "      def roll(self):\n",
    "          return \"Wheels rolling\"\n",
    "\n",
    "  class Car:\n",
    "      def __init__(self):\n",
    "          self.engine = Engine()\n",
    "          self.wheels = Wheels()\n",
    "\n",
    "      def drive(self):\n",
    "          return f\"{self.engine.start()} and {self.wheels.roll()}\"\n",
    "  \n",
    "2. Inheritance:\n",
    "\n",
    "- Relationship: Inheritance establishes an \"is-a\" relationship between objects. This means that a subclass inherits attributes and behaviors from a superclass.\n",
    "  \n",
    "- Code Reuse: In inheritance, code reuse is achieved by creating a hierarchy of classes. Subclasses inherit attributes and behaviors from a superclass, allowing for \n",
    "a more specialized version of the superclass.\n",
    "\n",
    "- Structure: Inheritance defines a fixed structure, and changes to this structure may impact the entire hierarchy. It relies on a predetermined class hierarchy.\n",
    "\n",
    "- Rigidity: Inheritance can lead to a more rigid design since changes to the superclass can affect all its subclasses. It might result in a less adaptable and more \n",
    "tightly coupled system.\n",
    "\n",
    "- Example:\n",
    "  \n",
    "  class Animal:\n",
    "      def speak(self):\n",
    "          pass\n",
    "\n",
    "  class Dog(Animal):\n",
    "      def speak(self):\n",
    "          return \"Woof!\"\n",
    "\n",
    "  class Cat(Animal):\n",
    "      def speak(self):\n",
    "          return \"Meow!\"\n",
    "\n",
    "\n",
    "Key Differences:\n",
    "\n",
    "- Relationship Type:\n",
    "  - Composition:\"Has-a\" relationship.\n",
    "  - Inheritance: \"Is-a\" relationship.\n",
    "\n",
    "- Code Reuse:\n",
    "  - Composition: Achieved by creating instances of other classes within a class.\n",
    "  - Inheritance: Achieved by inheriting attributes and behaviors from a superclass.\n",
    "\n",
    "- Flexibility:\n",
    "  - Composition: More flexible, allows for dynamic assembly of objects.\n",
    "  - Inheritance: More rigid, relies on a predetermined class hierarchy.\n",
    "\n",
    "- Encapsulation:\n",
    "  - Composition: Promotes encapsulation as components are encapsulated within their own classes.\n",
    "  - Inheritance: Encapsulation can be compromised due to the exposure of superclass implementation details to subclasses.\n",
    "\n",
    "- Dependency\n",
    "  - Composition: Reduces dependencies between classes.\n",
    "  - Inheritance: Can lead to a higher degree of dependency between classes.\n",
    "\n",
    "In practice, a combination of composition and inheritance is often used in software design, depending on the specific requirements of a system. \n",
    "Each approach has its strengths and weaknesses, and the choice between them depends on factors such as flexibility, maintainability, and the nature of the relationships \n",
    "between classes."
   ]
  },
  {
   "cell_type": "markdown",
   "id": "390e3a56-a2c0-4c62-bbcf-0a893f3ff8e6",
   "metadata": {},
   "source": [
    "3. Create a Python class called `Author` with attributes for name and birthdate. Then, create a `Book` class \n",
    "that contains an instance of `Author` as a composition. Provide an example of creating a `Book` object."
   ]
  },
  {
   "cell_type": "code",
   "execution_count": 79,
   "id": "7824fdf6-b47c-4983-b987-21ed928180bf",
   "metadata": {},
   "outputs": [
    {
     "name": "stdout",
     "output_type": "stream",
     "text": [
      "sudh\n",
      "python\n",
      "2000\n"
     ]
    }
   ],
   "source": [
    "class Author:\n",
    "    def __init__(self,name,birthdate):\n",
    "        self.name = name \n",
    "        self.birthdate = birthdate\n",
    "class Book:\n",
    "    \n",
    "    def __init__(self,book_name,author):\n",
    "        self.author = author\n",
    "        self.book_name = book_name\n",
    "\n",
    "a = Author(\"sudh\",2000)\n",
    "book = Book(\"python\",author)\n",
    "print(book.author.name)\n",
    "print(book.book_name)\n",
    "print(book.author.birthdate)"
   ]
  },
  {
   "cell_type": "markdown",
   "id": "67172c51-d8e0-4f10-a6da-f43d1eee3d51",
   "metadata": {},
   "source": [
    "4. Discuss the benefits of using composition over inheritance in Python, especially in terms of code flexibility \n",
    "and reusability."
   ]
  },
  {
   "cell_type": "code",
   "execution_count": null,
   "id": "341d150e-ff34-47b6-9e4b-fdf0ef90ceb3",
   "metadata": {},
   "outputs": [],
   "source": [
    "Flexibility:\n",
    "-Composition allows you to change the behavior of a class more dynamically at runtime. You can replace or modify components easily without affecting the rest of the code.\n",
    "-Inheritance, on the other hand, introduces a static relationship. Changes to the base class can affect all subclasses, potentially leading to unintended consequences.\n",
    "\n",
    "Code Reusability:\n",
    "-Composition promotes code reuse by allowing you to use existing classes as components in new classes. You can create more modular and reusable code by combining smaller, \n",
    "focused classes.\n",
    "-Inheritance, while providing code reuse through the reuse of a base class's code, can lead to problems such as the diamond problem and can result in tightly coupled hierarchies."
   ]
  },
  {
   "cell_type": "markdown",
   "id": "a245eef5-8356-4c52-bcfa-7f18bd90343b",
   "metadata": {},
   "source": [
    "5. How can you implement composition in Python classes? Provide examples of using composition to create \n",
    "complex objects."
   ]
  },
  {
   "cell_type": "code",
   "execution_count": 99,
   "id": "97a7032f-b730-443b-8d43-e83ffc6220dd",
   "metadata": {},
   "outputs": [
    {
     "name": "stdout",
     "output_type": "stream",
     "text": [
      "vamshi\n",
      "python\n"
     ]
    }
   ],
   "source": [
    "\n",
    "'''In Python, you can implement composition by creating instances of one class within another class and using those instances to build more complex objects. \n",
    "Here's an example to illustrate the concept:'''\n",
    "class Author:\n",
    "    def author_name(self):\n",
    "        return \"vamshi\"\n",
    "class Book:\n",
    "    \n",
    "    def __init__(self,book_name):\n",
    "        self.author = Author()\n",
    "        self.book_name = book_name\n",
    "\n",
    "\n",
    "book = Book(\"python\")\n",
    "print(book.author.author_name())\n",
    "print(book.book_name)\n"
   ]
  },
  {
   "cell_type": "markdown",
   "id": "89595604-401f-4270-a0ff-63ad7fd05c24",
   "metadata": {},
   "source": [
    "6. Create a Python class hierarchy for a music player system, using composition to represent playlists and \n",
    "songs."
   ]
  },
  {
   "cell_type": "code",
   "execution_count": 133,
   "id": "39f25c9b-df3f-4ae2-a3bc-a4d542c96890",
   "metadata": {},
   "outputs": [
    {
     "name": "stdout",
     "output_type": "stream",
     "text": [
      "[]\n",
      "['pilla']\n"
     ]
    }
   ],
   "source": [
    "class Songs:\n",
    "    def __init__(self,title,artist,duration):\n",
    "        self.title = title \n",
    "        self.artist = artist\n",
    "        self.duration = duration\n",
    "    \n",
    "    \n",
    "class Playlists:\n",
    "    def __init__(self,name):\n",
    "        self.name = name\n",
    "        self.songs = []\n",
    "class MusicPlayer:\n",
    "    def __init__(self):\n",
    "        self.songs = []\n",
    "        self.playlists = []\n",
    "        \n",
    "s = Songs(\"meri\",\"shreya\",\"1minute\")\n",
    "p = Playlists(\"love\")\n",
    "m = MusicPlayer()\n",
    "m.songs.append(\"pilla\")\n",
    "print(m.playlists)\n",
    "print(m.songs)"
   ]
  },
  {
   "cell_type": "markdown",
   "id": "cd2c6fc3-6b10-4ed7-a4f3-fa312fac4653",
   "metadata": {},
   "source": [
    "7. Explain the concept of \"has-a\" relationships in composition and how it helps design software systems.\n"
   ]
  },
  {
   "cell_type": "code",
   "execution_count": null,
   "id": "1218320f-05a7-477f-81b3-dc9449d4e666",
   "metadata": {},
   "outputs": [],
   "source": [
    "\n",
    "In object-oriented programming, the \"has-a\" relationship refers to a situation where one class has another class as a component or part. \n",
    "It is a form of composition, where an object of one class is composed of objects of another class. This relationship is essential for building complex and modular software systems. \n",
    "\n",
    "Concept of \"Has-a\" Relationship:\n",
    "Composition:\n",
    "\n",
    "In a \"has-a\" relationship, one class contains an object of another class as a member. This allows you to compose more complex objects by combining simpler ones.\n",
    "In summary, the \"has-a\" relationship through composition is a powerful tool in designing software systems. It encourages modularity, code reuse, and flexibility,\n",
    "resulting in a more maintainable and scalable codebase.\n"
   ]
  },
  {
   "cell_type": "markdown",
   "id": "40aee582-f795-45e6-abdc-d81158d777cd",
   "metadata": {},
   "source": [
    "8. Create a Python class for a computer system, using composition to represent components like CPU, RAM, \n",
    "and storage devices."
   ]
  },
  {
   "cell_type": "code",
   "execution_count": 16,
   "id": "61695845-00a6-4f0c-9602-998f4270feba",
   "metadata": {},
   "outputs": [
    {
     "name": "stdout",
     "output_type": "stream",
     "text": [
      "Processing data\n",
      "Storing data in RAM\n",
      "Reading data from storage\n",
      "Writing data to storage\n"
     ]
    }
   ],
   "source": [
    "class CPU:\n",
    "    def __init__(self, company, model):\n",
    "        self.company = company\n",
    "        self.model = model\n",
    "\n",
    "    def process_data(self):\n",
    "        return \"Processing data\"\n",
    "\n",
    "class RAM:\n",
    "    def __init__(self, capacity):\n",
    "        self.capacity = capacity\n",
    "\n",
    "    def store_data(self):\n",
    "        return \"Storing data in RAM\"\n",
    "\n",
    "class StorageDevice:\n",
    "    def __init__(self, type, capacity):\n",
    "        self.type = type\n",
    "        self.capacity = capacity\n",
    "\n",
    "    def read_data(self):\n",
    "        return \"Reading data from storage\"\n",
    "\n",
    "    def write_data(self):\n",
    "        return \"Writing data to storage\"\n",
    "\n",
    "class ComputerSystem:\n",
    "    def __init__(self, cpu, ram, storage_device):\n",
    "        self.cpu = cpu\n",
    "        self.ram = ram\n",
    "        self.storage_device = storage_device\n",
    "\n",
    "    def perform_computing(self):\n",
    "        processing_result = self.cpu.process_data()\n",
    "        storing_result = self.ram.store_data()\n",
    "        reading_result = self.storage_device.read_data()\n",
    "        writing_result = self.storage_device.write_data()\n",
    "\n",
    "        return f\"{processing_result}\\n{storing_result}\\n{reading_result}\\n{writing_result}\"\n",
    "\n",
    "\n",
    "cpu = CPU(\"Intel\", \"i7\")\n",
    "ram = RAM(\"8GB\")\n",
    "storage_device = StorageDevice(\"SSD\", \"256GB\")\n",
    "\n",
    "\n",
    "computer_system = ComputerSystem(cpu, ram, storage_device)\n",
    "\n",
    "result = computer_system.perform_computing()\n",
    "print(result)\n",
    "\n"
   ]
  },
  {
   "cell_type": "markdown",
   "id": "6d001b61-63d5-4d8d-a29c-b15a37e597b0",
   "metadata": {},
   "source": [
    "9. Describe the concept of \"delegation\" in composition and how it simplifies the design of complex systems.\n"
   ]
  },
  {
   "cell_type": "code",
   "execution_count": null,
   "id": "9d94d965-f4f0-4c7b-b3cc-d14ef45546d3",
   "metadata": {},
   "outputs": [],
   "source": [
    "Delegation in composition is a design principle where one class passes the responsibility for a certain behavior or task to another class. \n",
    "In other words, instead of inheriting behavior, a class delegates certain tasks to other classes it contains. This concept is closely related to composition and \n",
    "promotes code reuse, modularity, and flexibility.\n",
    "In summary, delegation in composition simplifies the design of complex systems by promoting modularity, code reuse, and flexibility. \n",
    "It allows classes to focus on specific tasks, leading to cleaner and more maintainable code."
   ]
  },
  {
   "cell_type": "code",
   "execution_count": 130,
   "id": "3fa8f517-9a92-43f0-9f0d-27d24942a962",
   "metadata": {},
   "outputs": [
    {
     "name": "stdout",
     "output_type": "stream",
     "text": [
      "Electric engine starting\n",
      "Gas engine starting\n"
     ]
    }
   ],
   "source": [
    "#example\n",
    "class Engine:\n",
    "    def start(self):\n",
    "        pass\n",
    "\n",
    "class ElectricEngine(Engine):\n",
    "    def start(self):\n",
    "        print(\"Electric engine starting\")\n",
    "\n",
    "class GasEngine(Engine):\n",
    "    def start(self):\n",
    "        print(\"Gas engine starting\")\n",
    "\n",
    "class Car:\n",
    "    def __init__(self, engine):\n",
    "        self.engine = engine\n",
    "\n",
    "    def start(self):\n",
    "        self.engine.start()\n",
    "\n",
    "# Usage\n",
    "electric_car = Car(ElectricEngine())\n",
    "gas_car = Car(GasEngine())\n",
    "\n",
    "electric_car.start()  # Delegation to ElectricEngine\n",
    "gas_car.start()      # Delegation to GasEngine\n"
   ]
  },
  {
   "cell_type": "markdown",
   "id": "422f31ef-96b4-446c-9a37-5ce8045bddf3",
   "metadata": {},
   "source": [
    "10. Create a Python class for a car, using composition to represent components like the engine, wheels, and \n",
    "transmission"
   ]
  },
  {
   "cell_type": "code",
   "execution_count": 25,
   "id": "22e570df-46b1-4445-b8a5-9ae18fb0f826",
   "metadata": {},
   "outputs": [
    {
     "data": {
      "text/plain": [
       "'power generates-engine starts-wheel rotates'"
      ]
     },
     "execution_count": 25,
     "metadata": {},
     "output_type": "execute_result"
    }
   ],
   "source": [
    "class engine:\n",
    "    def start(self):\n",
    "        return \"engine starts\"\n",
    "class wheels:\n",
    "    def rotate(self):\n",
    "        return \"wheel rotates\"\n",
    "class transmission:\n",
    "    def power(self):\n",
    "        return \"power generates\"\n",
    "class Car:\n",
    "    def __init__(self,engine,wheels,transmission):\n",
    "        self.engine = engine()\n",
    "        self.wheels = wheels()\n",
    "        self.transmission = transmission()\n",
    "    def drive(self):\n",
    "        return f\"{self.transmission.power()}-{self.engine.start()}-{self.wheels.rotate()}\"\n",
    "car = Car(engine,wheels,transmission)     \n",
    "car.drive()"
   ]
  },
  {
   "cell_type": "markdown",
   "id": "0a1682d1-702e-4811-8f35-3e17cd09409f",
   "metadata": {},
   "source": [
    "11. How can you encapsulate and hide the details of composed objects in Python classes to maintain \n",
    "abstraction?"
   ]
  },
  {
   "cell_type": "code",
   "execution_count": null,
   "id": "0f428365-c892-4659-b669-bd7dee7a8738",
   "metadata": {},
   "outputs": [],
   "source": [
    "In Python, you can encapsulate and hide the details of composed objects in classes to maintain abstraction by applying principles such as encapsulation and information hiding. \n",
    "-Use private attributes (attributes with a double underscore prefix __) to encapsulate the details of composed objects.This makes the attributes accessible only within the class,\n",
    "preventing direct access from outside.\n",
    "-Provide getter and setter methods to access and modify the composed objects. This allows you to control access to the internal details and add additional logic if needed.\n",
    "-Use property decorators to create getter and setter methods in a more Pythonic way. This allows you to use dot notation for attribute access while still controlling access.\n",
    "-Design a public interface for your class that exposes only the necessary methods and hides the internal details. Users of the class interact with the public interface \n",
    "rather than accessing the composed objects directly.\n",
    "-Define abstract base classes to create a common interface for composed objects. This enforces that all composed objects adhere to the same set of methods,\n",
    "providing a higher level of abstraction.\n",
    "By combining these techniques, we can encapsulate and hide the details of composed objects, maintaining a high level of abstraction and promoting a clean and \n",
    "maintainable design in your Python classes."
   ]
  },
  {
   "cell_type": "markdown",
   "id": "d5047ab4-1754-4a54-b907-2b55b2ad818a",
   "metadata": {},
   "source": [
    "\n",
    "12. Create a Python class for a university course, using composition to represent students, instructors, and \n",
    "course materials."
   ]
  },
  {
   "cell_type": "code",
   "execution_count": 31,
   "id": "33f00671-6c3d-49bc-8e48-f8c8d953cdd2",
   "metadata": {},
   "outputs": [
    {
     "data": {
      "text/plain": [
       "\"courses['mech', 'cse', 'datascience and AI'], lecturers{'mech': 'vamshi', 'cse': 'sudh', 'datascience and AI': 'krish'} and total students1000\""
      ]
     },
     "execution_count": 31,
     "metadata": {},
     "output_type": "execute_result"
    }
   ],
   "source": [
    "class course_materials:\n",
    "    def subjects(self):\n",
    "        subjects = [\"mech\",\"cse\",\"datascience and AI\"]\n",
    "        return subjects\n",
    "class instructors:\n",
    "    def lecturers(self):\n",
    "        lecturers = {\"mech\":\"vamshi\",\"cse\":\"sudh\",\"datascience and AI\":\"krish\"}\n",
    "        return lecturers\n",
    "class students:\n",
    "    def no_of_students(self):\n",
    "        total_students = 1000\n",
    "        return total_students\n",
    "class university_course:\n",
    "    def __init__(self,course_materials,instructors,students):\n",
    "        self.course_materials = course_materials()\n",
    "        self.instructors = instructors()\n",
    "        self.students = students()\n",
    "    \n",
    "    def university_course_info(self):\n",
    "        return f\"courses{self.course_materials.subjects()}, lecturers{self.instructors.lecturers()} and total students{self.students.no_of_students()}\"\n",
    "university_info = university_course(course_materials,instructors,students)\n",
    "university_info.university_course_info()"
   ]
  },
  {
   "cell_type": "markdown",
   "id": "925c563c-69f3-408f-bfba-014349bcd9e1",
   "metadata": {},
   "source": [
    "13. Discuss the challenges and drawbacks of composition, such as increased complexity and potential for \n",
    "tight coupling between objects."
   ]
  },
  {
   "cell_type": "code",
   "execution_count": null,
   "id": "3f4f03ad-4d8a-4b41-8040-5c0984d63247",
   "metadata": {},
   "outputs": [],
   "source": [
    "Composition, while promoting modularity, can introduce challenges such as increased complexity due to the need to manage relationships between objects. There's a risk of tight coupling between classes, potentially leading to dependencies that hinder flexibility. As the number of composed objects grows, understanding and maintaining these relationships can\n",
    "become challenging. Additionally, managing the lifecycle of composed objects and ensuring proper initialization can add complexity to the design. Striking the right balance between\n",
    "composition and simplicity is crucial to avoiding over-engineering and maintaining a clear and maintainable codebase."
   ]
  },
  {
   "cell_type": "markdown",
   "id": "fae19b67-f794-43ab-b2c3-44d75e1e4783",
   "metadata": {},
   "source": [
    "14. Create a Python class hierarchy for a restaurant system, using composition to represent menus, dishes, AND INGREDIENTS\n"
   ]
  },
  {
   "cell_type": "code",
   "execution_count": 39,
   "id": "326d1b19-7e2e-4457-a203-b0ec44282ce2",
   "metadata": {},
   "outputs": [
    {
     "data": {
      "text/plain": [
       "\"todays menu: menu - veg and non veg, dishes - veg:['paneer', 'dal tadka', 'palak'],non_veg:['biryani', 'chicken', 'prawns', 'mutton'], ingredients - special ingrdients cant describe lol\""
      ]
     },
     "execution_count": 39,
     "metadata": {},
     "output_type": "execute_result"
    }
   ],
   "source": [
    "class menus:\n",
    "    def today_menu(self):\n",
    "        return \"veg and non veg\"\n",
    "class dishes:\n",
    "    def available_dishes(self):\n",
    "        veg = [\"paneer\",\"dal tadka\",\"palak\"]\n",
    "        non_veg = [\"biryani\",\"chicken\",\"prawns\",\"mutton\"]\n",
    "        return f\"veg:{veg},non_veg:{non_veg}\"\n",
    "class ingredients:\n",
    "    def ingredients_used(self):\n",
    "        return \"special ingrdients cant describe lol\"\n",
    "class restaurant_system:\n",
    "    def __init__(self,menus,dishes,ingredients):\n",
    "        self.menus = menus()\n",
    "        self.dishes = dishes()\n",
    "        self.ingredients = ingredients()\n",
    "    def restaurant_menu(self):\n",
    "        return f\"todays menu: menu - {self.menus.today_menu()}, dishes - {self.dishes.available_dishes()}, ingredients - {self.ingredients.ingredients_used()}\"\n",
    "\n",
    "vamshi_restaurant = restaurant_system(menus,dishes,ingredients)\n",
    "vamshi_restaurant.restaurant_menu()"
   ]
  },
  {
   "cell_type": "markdown",
   "id": "e20e0c31-3c5e-414c-9cfd-c8a0ffde87d7",
   "metadata": {},
   "source": [
    "15. Explain how composition enhances code maintainability and modularity in Python programs.\n"
   ]
  },
  {
   "cell_type": "code",
   "execution_count": null,
   "id": "0615805f-60ef-4f6a-8cbb-0c2a6a02cafb",
   "metadata": {},
   "outputs": [],
   "source": [
    "Composition in Python enhances code maintainability and modularity by promoting a modular design where classes encapsulate specific responsibilities. \n",
    "It encourages code reuse, facilitates flexibility in adapting to changes, and simplifies testing and debugging. Each class has a well-defined role, adhering to \n",
    "the Single Responsibility Principle, leading to clearer code structures. With encapsulation, internal details are hidden, allowing developers to interact with \n",
    "high-level abstractions. The modular approach supports independent development and collaboration. Through composition, Python programs achieve a balance between \n",
    "code simplicity and flexibility, contributing to a maintainable and scalable codebase."
   ]
  },
  {
   "cell_type": "raw",
   "id": "2fabc298-18de-46a1-8c22-9cf459fe38c0",
   "metadata": {},
   "source": [
    "16.Create a Python class for a computer game character, using composition to represent attributes like \n",
    "weapons, armor, and inventory"
   ]
  },
  {
   "cell_type": "code",
   "execution_count": 40,
   "id": "ca9bf8a7-9cf2-420c-bb8b-be8b1f5b7c5a",
   "metadata": {},
   "outputs": [
    {
     "name": "stdout",
     "output_type": "stream",
     "text": [
      "Hero attacks Enemy with Sword for 10 damage.\n"
     ]
    }
   ],
   "source": [
    "class Weapon:\n",
    "    def __init__(self, name, damage):\n",
    "        self.name = name\n",
    "        self.damage = damage\n",
    "\n",
    "class Armor:\n",
    "    def __init__(self, name, defense):\n",
    "        self.name = name\n",
    "        self.defense = defense\n",
    "\n",
    "class GameCharacter:\n",
    "    def __init__(self, name, health):\n",
    "        self.name = name\n",
    "        self.health = health\n",
    "        self.weapon = None\n",
    "        self.armor = None\n",
    "\n",
    "    def equip_weapon(self, weapon):\n",
    "        self.weapon = weapon\n",
    "\n",
    "    def equip_armor(self, armor):\n",
    "        self.armor = armor\n",
    "\n",
    "    def attack(self, target):\n",
    "        damage_dealt = self.weapon.damage if self.weapon else 0\n",
    "        target.health -= damage_dealt\n",
    "        return f\"{self.name} attacks {target.name} with {self.weapon.name} for {damage_dealt} damage.\"\n",
    "\n",
    "sword = Weapon(\"Sword\", 10)\n",
    "shield = Armor(\"Shield\", 5)\n",
    "\n",
    "hero = GameCharacter(\"Hero\", 100)\n",
    "enemy = GameCharacter(\"Enemy\", 50)\n",
    "\n",
    "hero.equip_weapon(sword)\n",
    "hero.equip_armor(shield)\n",
    "\n",
    "print(hero.attack(enemy))  \n"
   ]
  },
  {
   "cell_type": "markdown",
   "id": "ed4cf77c-7637-4306-b9fd-f6b68831813f",
   "metadata": {},
   "source": [
    "17. Describe the concept of \"aggregation\" in composition and how it differs from simple composition.\n"
   ]
  },
  {
   "cell_type": "code",
   "execution_count": null,
   "id": "aee43cc1-3967-46ab-9e2f-6475c45a8942",
   "metadata": {},
   "outputs": [],
   "source": [
    "Aggregation in composition is a more relaxed form of composition, representing a relationship where one class contains another class, but the contained class \n",
    "can exist independently. It implies a \"has-a\" relationship without strong ownership. In simple composition, the containing class fully owns and \n",
    "manages the lifecycle of the contained class. In contrast, aggregation suggests a weaker association, allowing the contained class to exist independently and \n",
    "potentially be shared among multiple instances.\n",
    "\n",
    "In simple composition, when an instance of the containing class is destroyed, the contained class instances are typically destroyed as well. In aggregation, the contained \n",
    "class instances may persist even if the containing class is destroyed, emphasizing a looser coupling between them. Aggregation is often represented by a diamond-shaped line \n",
    "in UML diagrams."
   ]
  },
  {
   "cell_type": "markdown",
   "id": "e9f7991b-8506-4f4f-809f-1f6c8761e6c1",
   "metadata": {},
   "source": [
    "18. Create a Python class for a house, using composition to represent rooms, furniture, and appliances.\n"
   ]
  },
  {
   "cell_type": "code",
   "execution_count": 74,
   "id": "5a30fd7e-8bd4-4c54-960b-67bfa65066b7",
   "metadata": {},
   "outputs": [
    {
     "name": "stdout",
     "output_type": "stream",
     "text": [
      "rooms_available:['1 bedrrom', 'kitchen', '2 washrooms'],furniture:['2 beds', 'sofa'],appliances:['refrigerator', 'washing m/c']\n"
     ]
    }
   ],
   "source": [
    "class Rooms:\n",
    "    def __init__(self,total_rooms):\n",
    "        self.total_rooms = total_rooms\n",
    "class Furniture:\n",
    "    def __init__(self,furniture_available):\n",
    "        self.furniture_available = furniture_available\n",
    "class Appliances:\n",
    "    def __init__(self,available_appliances):\n",
    "        self.available_appliances = available_appliances\n",
    "\n",
    "class House:\n",
    "    def __init__(self,rooms,furniture,appliances):\n",
    "        self.rooms = rooms\n",
    "        self.furniture = furniture\n",
    "        self.appliances = appliances\n",
    "        \n",
    "    def house_info(self):\n",
    "        return f\"rooms_available:{self.rooms.total_rooms},furniture:{self.furniture.furniture_available},appliances:{self.appliances.available_appliances}\"\n",
    "    \n",
    "total_rooms = [\"1 bedrrom\",\"kitchen\",\"2 washrooms\"]\n",
    "furniture_available = [\"2 beds\",\"sofa\"]\n",
    "available_appliances =[\"refrigerator\",\"washing m/c\"]\n",
    "\n",
    "rooms = Rooms(total_rooms)\n",
    "furniture = Furniture(furniture_available)\n",
    "appliances = Appliances(available_appliances)\n",
    "\n",
    "my_house = House(rooms,furniture,appliances)\n",
    "print(my_house.house_info())"
   ]
  },
  {
   "cell_type": "markdown",
   "id": "cd005f35-b109-46b0-8b63-f94f5dcd1fc0",
   "metadata": {},
   "source": [
    "19. How can you achieve flexibility in composed objects by allowing them to be replaced or modified \n",
    "dynamically at runtime?"
   ]
  },
  {
   "cell_type": "code",
   "execution_count": 145,
   "id": "1bf51ebd-0556-41d8-8c06-390d148401b1",
   "metadata": {},
   "outputs": [
    {
     "name": "stdout",
     "output_type": "stream",
     "text": [
      "Engine starting\n",
      "Engine starting\n"
     ]
    }
   ],
   "source": [
    "'''You can achieve flexibility in composed objects by allowing them to be replaced or modified dynamically at runtime through a technique known as dependency injection. \n",
    "Dependency injection involves supplying the dependencies of an object from the outside rather than creating them within the object. This enables you to replace \n",
    "or modify the composed objects without modifying the code of the object using them.'''\n",
    "\n",
    "\n",
    "class Engine:\n",
    "    def start(self):\n",
    "        print(\"Engine starting\")\n",
    "\n",
    "class Car:\n",
    "    def __init__(self, engine):\n",
    "        self.engine = engine\n",
    "\n",
    "    def start(self):\n",
    "        self.engine.start()\n",
    "\n",
    "# Create instances\n",
    "electric_engine = Engine()\n",
    "gas_engine = Engine()\n",
    "\n",
    "# Dynamically replace the engine of a car\n",
    "my_car = Car(electric_engine)\n",
    "my_car.start()  # Outputs: Engine starting\n",
    "\n",
    "my_car.engine = gas_engine\n",
    "my_car.start()  # Outputs: Engine starting\n"
   ]
  },
  {
   "cell_type": "markdown",
   "id": "63614888-a6bb-4a4b-a0c2-7cbfee6622f2",
   "metadata": {},
   "source": [
    "20. Create a Python class for a social media application, using composition to represent users, posts, and \n",
    "comments"
   ]
  },
  {
   "cell_type": "code",
   "execution_count": 78,
   "id": "bf7ce518-7f70-40f2-80f2-9dd755e3d007",
   "metadata": {},
   "outputs": [
    {
     "name": "stdout",
     "output_type": "stream",
     "text": [
      "User: Alice, Bio: Nature lover.\n",
      "  Post: Beautiful sunrise today!\n",
      "    Comment by Alice: Thanks!\n",
      "\n"
     ]
    }
   ],
   "source": [
    "class User:\n",
    "    def __init__(self, username, bio):\n",
    "        self.username = username\n",
    "        self.bio = bio\n",
    "        self.posts = []\n",
    "\n",
    "    def create_post(self, content):\n",
    "        post = Post(content)\n",
    "        self.posts.append(post)\n",
    "        return post\n",
    "\n",
    "class Post:\n",
    "    def __init__(self, content):\n",
    "        self.content = content\n",
    "        self.comments = []\n",
    "\n",
    "    def add_comment(self, user, text):\n",
    "        comment = Comment(user, text)\n",
    "        self.comments.append(comment)\n",
    "        return comment\n",
    "\n",
    "class Comment:\n",
    "    def __init__(self, user, text):\n",
    "        self.user = user\n",
    "        self.text = text\n",
    "\n",
    "class SocialMediaApp:\n",
    "    def __init__(self):\n",
    "        self.users = []\n",
    "\n",
    "    def create_user(self, username, bio):\n",
    "        user = User(username, bio)\n",
    "        self.users.append(user)\n",
    "        return user\n",
    "\n",
    "\n",
    "social_media_app = SocialMediaApp()\n",
    "\n",
    "user1 = social_media_app.create_user(\"Alice\", \"Nature lover.\")\n",
    "\n",
    "\n",
    "post1 = user1.create_post(\"Beautiful sunrise today!\")\n",
    "\n",
    "comment2 = post1.add_comment(user1, \"Thanks!\")\n",
    "\n",
    "\n",
    "\n",
    "\n",
    "for user in social_media_app.users:\n",
    "    print(f\"User: {user.username}, Bio: {user.bio}\")\n",
    "    for post in user.posts:\n",
    "        print(f\"  Post: {post.content}\")\n",
    "        for comment in post.comments:\n",
    "            print(f\"    Comment by {comment.user.username}: {comment.text}\")\n",
    "    print()\n"
   ]
  },
  {
   "cell_type": "code",
   "execution_count": null,
   "id": "7caed2ff-a7e1-494c-b524-9da3416446eb",
   "metadata": {},
   "outputs": [],
   "source": []
  }
 ],
 "metadata": {
  "kernelspec": {
   "display_name": "Python 3 (ipykernel)",
   "language": "python",
   "name": "python3"
  },
  "language_info": {
   "codemirror_mode": {
    "name": "ipython",
    "version": 3
   },
   "file_extension": ".py",
   "mimetype": "text/x-python",
   "name": "python",
   "nbconvert_exporter": "python",
   "pygments_lexer": "ipython3",
   "version": "3.10.8"
  }
 },
 "nbformat": 4,
 "nbformat_minor": 5
}
